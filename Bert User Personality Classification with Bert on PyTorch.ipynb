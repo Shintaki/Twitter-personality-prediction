{
 "cells": [
  {
   "cell_type": "markdown",
   "metadata": {},
   "source": [
    "Due to computation limits , this notebook was executed on Google Collab after putting the Twitter dataset on the Drive"
   ]
  },
  {
   "cell_type": "code",
   "execution_count": 103,
   "metadata": {
    "colab": {
     "base_uri": "https://localhost:8080/",
     "height": 406
    },
    "colab_type": "code",
    "executionInfo": {
     "elapsed": 6203,
     "status": "ok",
     "timestamp": 1591231450750,
     "user": {
      "displayName": "Hazem Chammakhi",
      "photoUrl": "https://lh3.googleusercontent.com/a-/AOh14GiP5klJUSuqjAChhuwqzEnxXzew5v2URDg6CNL0EQ=s64",
      "userId": "08952056812268085529"
     },
     "user_tz": -60
    },
    "id": "F2RXEU3LYLh1",
    "outputId": "939b407d-238e-4d1d-8f9d-62a5063cba20"
   },
   "outputs": [
    {
     "name": "stdout",
     "output_type": "stream",
     "text": [
      "Requirement already satisfied: transformers in /usr/local/lib/python3.6/dist-packages (2.11.0)\n",
      "Requirement already satisfied: numpy in /usr/local/lib/python3.6/dist-packages (from transformers) (1.18.4)\n",
      "Requirement already satisfied: packaging in /usr/local/lib/python3.6/dist-packages (from transformers) (20.4)\n",
      "Requirement already satisfied: tqdm>=4.27 in /usr/local/lib/python3.6/dist-packages (from transformers) (4.41.1)\n",
      "Requirement already satisfied: dataclasses; python_version < \"3.7\" in /usr/local/lib/python3.6/dist-packages (from transformers) (0.7)\n",
      "Requirement already satisfied: sacremoses in /usr/local/lib/python3.6/dist-packages (from transformers) (0.0.43)\n",
      "Requirement already satisfied: filelock in /usr/local/lib/python3.6/dist-packages (from transformers) (3.0.12)\n",
      "Requirement already satisfied: sentencepiece in /usr/local/lib/python3.6/dist-packages (from transformers) (0.1.91)\n",
      "Requirement already satisfied: regex!=2019.12.17 in /usr/local/lib/python3.6/dist-packages (from transformers) (2019.12.20)\n",
      "Requirement already satisfied: tokenizers==0.7.0 in /usr/local/lib/python3.6/dist-packages (from transformers) (0.7.0)\n",
      "Requirement already satisfied: requests in /usr/local/lib/python3.6/dist-packages (from transformers) (2.23.0)\n",
      "Requirement already satisfied: six in /usr/local/lib/python3.6/dist-packages (from packaging->transformers) (1.12.0)\n",
      "Requirement already satisfied: pyparsing>=2.0.2 in /usr/local/lib/python3.6/dist-packages (from packaging->transformers) (2.4.7)\n",
      "Requirement already satisfied: joblib in /usr/local/lib/python3.6/dist-packages (from sacremoses->transformers) (0.15.1)\n",
      "Requirement already satisfied: click in /usr/local/lib/python3.6/dist-packages (from sacremoses->transformers) (7.1.2)\n",
      "Requirement already satisfied: chardet<4,>=3.0.2 in /usr/local/lib/python3.6/dist-packages (from requests->transformers) (3.0.4)\n",
      "Requirement already satisfied: idna<3,>=2.5 in /usr/local/lib/python3.6/dist-packages (from requests->transformers) (2.9)\n",
      "Requirement already satisfied: urllib3!=1.25.0,!=1.25.1,<1.26,>=1.21.1 in /usr/local/lib/python3.6/dist-packages (from requests->transformers) (1.24.3)\n",
      "Requirement already satisfied: certifi>=2017.4.17 in /usr/local/lib/python3.6/dist-packages (from requests->transformers) (2020.4.5.1)\n",
      "Requirement already satisfied: torch in /usr/local/lib/python3.6/dist-packages (1.5.0+cu101)\n",
      "Requirement already satisfied: numpy in /usr/local/lib/python3.6/dist-packages (from torch) (1.18.4)\n",
      "Requirement already satisfied: future in /usr/local/lib/python3.6/dist-packages (from torch) (0.16.0)\n"
     ]
    }
   ],
   "source": [
    "!pip install transformers\n",
    "!pip install torch"
   ]
  },
  {
   "cell_type": "code",
   "execution_count": 104,
   "metadata": {
    "colab": {
     "base_uri": "https://localhost:8080/",
     "height": 34
    },
    "colab_type": "code",
    "executionInfo": {
     "elapsed": 5918,
     "status": "ok",
     "timestamp": 1591231450752,
     "user": {
      "displayName": "Hazem Chammakhi",
      "photoUrl": "https://lh3.googleusercontent.com/a-/AOh14GiP5klJUSuqjAChhuwqzEnxXzew5v2URDg6CNL0EQ=s64",
      "userId": "08952056812268085529"
     },
     "user_tz": -60
    },
    "id": "N6JxlBjSYc1y",
    "outputId": "2abb3298-051f-4c27-f9cc-2ffe3ef2579f"
   },
   "outputs": [
    {
     "name": "stdout",
     "output_type": "stream",
     "text": [
      "Found GPU at: /device:GPU:0\n"
     ]
    }
   ],
   "source": [
    "import tensorflow as tf\n",
    "\n",
    "# Get the GPU device name.\n",
    "device_name = tf.test.gpu_device_name()\n",
    "\n",
    "# The device name should look like the following:\n",
    "if device_name == '/device:GPU:0':\n",
    "    print('Found GPU at: {}'.format(device_name))\n",
    "else:\n",
    "    raise SystemError('GPU device not found')"
   ]
  },
  {
   "cell_type": "code",
   "execution_count": 105,
   "metadata": {
    "colab": {
     "base_uri": "https://localhost:8080/",
     "height": 50
    },
    "colab_type": "code",
    "executionInfo": {
     "elapsed": 5560,
     "status": "ok",
     "timestamp": 1591231450752,
     "user": {
      "displayName": "Hazem Chammakhi",
      "photoUrl": "https://lh3.googleusercontent.com/a-/AOh14GiP5klJUSuqjAChhuwqzEnxXzew5v2URDg6CNL0EQ=s64",
      "userId": "08952056812268085529"
     },
     "user_tz": -60
    },
    "id": "y9kXudiWY3Lv",
    "outputId": "20cedb8e-742a-483a-d47f-cbd0dfcce257"
   },
   "outputs": [
    {
     "name": "stdout",
     "output_type": "stream",
     "text": [
      "There are 1 GPU(s) available.\n",
      "We will use the GPU: Tesla P100-PCIE-16GB\n"
     ]
    }
   ],
   "source": [
    "import torch\n",
    "\n",
    "# If there's a GPU available...\n",
    "if torch.cuda.is_available():    \n",
    "\n",
    "    # Tell PyTorch to use the GPU.    \n",
    "    device = torch.device(\"cuda\")\n",
    "\n",
    "    print('There are %d GPU(s) available.' % torch.cuda.device_count())\n",
    "\n",
    "    print('We will use the GPU:', torch.cuda.get_device_name(0))\n",
    "\n",
    "# If not...\n",
    "else:\n",
    "    print('No GPU available, using the CPU instead.')\n",
    "    device = torch.device(\"cpu\")"
   ]
  },
  {
   "cell_type": "code",
   "execution_count": 106,
   "metadata": {
    "colab": {
     "base_uri": "https://localhost:8080/",
     "height": 34
    },
    "colab_type": "code",
    "executionInfo": {
     "elapsed": 5234,
     "status": "ok",
     "timestamp": 1591231450753,
     "user": {
      "displayName": "Hazem Chammakhi",
      "photoUrl": "https://lh3.googleusercontent.com/a-/AOh14GiP5klJUSuqjAChhuwqzEnxXzew5v2URDg6CNL0EQ=s64",
      "userId": "08952056812268085529"
     },
     "user_tz": -60
    },
    "id": "XJ4YyHQNZQap",
    "outputId": "708d3340-4413-4474-ca70-e3ccd9f751c8"
   },
   "outputs": [
    {
     "name": "stdout",
     "output_type": "stream",
     "text": [
      "Drive already mounted at /content/gdrive; to attempt to forcibly remount, call drive.mount(\"/content/gdrive\", force_remount=True).\n"
     ]
    }
   ],
   "source": [
    "from google.colab import drive\n",
    "drive.mount('/content/gdrive')"
   ]
  },
  {
   "cell_type": "code",
   "execution_count": 107,
   "metadata": {
    "colab": {
     "base_uri": "https://localhost:8080/",
     "height": 118
    },
    "colab_type": "code",
    "executionInfo": {
     "elapsed": 5258,
     "status": "ok",
     "timestamp": 1591231451138,
     "user": {
      "displayName": "Hazem Chammakhi",
      "photoUrl": "https://lh3.googleusercontent.com/a-/AOh14GiP5klJUSuqjAChhuwqzEnxXzew5v2URDg6CNL0EQ=s64",
      "userId": "08952056812268085529"
     },
     "user_tz": -60
    },
    "id": "s_XhFKmLd1ha",
    "outputId": "aa095bdc-80a7-49e5-bc0a-7c096a83a7ad"
   },
   "outputs": [
    {
     "name": "stdout",
     "output_type": "stream",
     "text": [
      "   type                                              posts\n",
      "0  INFJ  'http://www.youtube.com/watch?v=qsXHcwe3krw|||...\n",
      "1  ENTP  'I'm finding the lack of me in these posts ver...\n",
      "2  INTP  'Good one  _____   https://www.youtube.com/wat...\n",
      "3  INTJ  'Dear INTP,   I enjoyed our conversation the o...\n",
      "4  ENTJ  'You're fired.|||That's another silly misconce...\n"
     ]
    }
   ],
   "source": [
    "import pandas as pd\n",
    "import numpy as np\n",
    "data = pd.read_csv(\"/content/gdrive/My Drive/dataset_personality.csv\")\n",
    "print(data.head())"
   ]
  },
  {
   "cell_type": "code",
   "execution_count": 0,
   "metadata": {
    "colab": {},
    "colab_type": "code",
    "id": "0VBOj6-J79bu"
   },
   "outputs": [],
   "source": [
    "# takes the first 15 posts of a user\n",
    "def split(strng, sep, pos):\n",
    "    strng = strng.split(sep)\n",
    "    return sep.join(strng[:pos]), sep.join(strng[pos:])\n",
    "for i,element in enumerate(data.posts):\n",
    "    data.posts[i],_=split(element,\"|||\",5)"
   ]
  },
  {
   "cell_type": "code",
   "execution_count": 109,
   "metadata": {
    "colab": {
     "base_uri": "https://localhost:8080/",
     "height": 446
    },
    "colab_type": "code",
    "executionInfo": {
     "elapsed": 6009,
     "status": "ok",
     "timestamp": 1591231453259,
     "user": {
      "displayName": "Hazem Chammakhi",
      "photoUrl": "https://lh3.googleusercontent.com/a-/AOh14GiP5klJUSuqjAChhuwqzEnxXzew5v2URDg6CNL0EQ=s64",
      "userId": "08952056812268085529"
     },
     "user_tz": -60
    },
    "id": "FBoQtIUoeTcq",
    "outputId": "44aface3-8bc1-433c-8158-6554b44b9fd1"
   },
   "outputs": [
    {
     "data": {
      "image/png": "[encoded data removed]",
      "text/plain": [
       "<Figure size 864x432 with 1 Axes>"
      ]
     },
     "metadata": {
      "tags": []
     },
     "output_type": "display_data"
    }
   ],
   "source": [
    "import re\n",
    "import seaborn as sns\n",
    "import datetime\n",
    "import matplotlib.pyplot as plt\n",
    "chart = sns.countplot(data.type)\n",
    "plt.title(\"Number of user per personality\")\n",
    "chart.set_xticklabels(chart.get_xticklabels(), rotation=30, horizontalalignment='right');"
   ]
  },
  {
   "cell_type": "code",
   "execution_count": 0,
   "metadata": {
    "colab": {},
    "colab_type": "code",
    "id": "4yLhrKOLeWJ9"
   },
   "outputs": [],
   "source": [
    "b_Pers = {'I':0, 'E':1, 'N':0, 'S':1, 'F':0, 'T':1, 'J':0, 'P':1}\n",
    "def translate_personality(personality):\n",
    "    # transform mbti to binary vector\n",
    "    \n",
    "    return [b_Pers[l] for l in personality]"
   ]
  },
  {
   "cell_type": "code",
   "execution_count": 0,
   "metadata": {
    "colab": {},
    "colab_type": "code",
    "id": "9lJiXR9zeT9b"
   },
   "outputs": [],
   "source": [
    "# We want to remove these from the posts\n",
    "unique_type_list = ['INFJ', 'ENTP', 'INTP', 'INTJ', 'ENTJ', 'ENFJ', 'INFP', 'ENFP',\n",
    "       'ISFP', 'ISTP', 'ISFJ', 'ISTJ', 'ESTP', 'ESFP', 'ESTJ', 'ESFJ']\n",
    "  \n",
    "unique_type_list = unique_type_list + [x.lower() for x in unique_type_list]\n",
    "# Preprocess data\n",
    "def pre_process_data(data, remove_stop_words=True, remove_mbti_profiles=True):\n",
    "\n",
    "    list_personality = []\n",
    "    list_posts = []\n",
    "    len_data = len(data)\n",
    "    i=0\n",
    "    \n",
    "    for row in data.iterrows():\n",
    "        i+=1\n",
    "        if (i % 500 == 0 or i == 1 or i == len_data):\n",
    "            print(\"%s of %s rows\" % (i, len_data))\n",
    "\n",
    "        ##### Remove and clean comments using regular expressions\n",
    "        posts = row[1].posts\n",
    "        temp = re.sub('http[s]?://(?:[a-zA-Z]|[0-9]|[$-_@.&+]|(?:%[0-9a-fA-F][0-9a-fA-F]))+', ' ', posts)\n",
    "        temp = re.sub('\\|\\|\\|',\"[SEP] \",temp)\n",
    "        temp = re.sub(\"[^a-zA-Z]\", \" \", temp)\n",
    "        temp = re.sub(' +', ' ', temp)\n",
    "        temp = re.sub(\"(SEP )+\",\"[SEP] \",temp) \n",
    "        if remove_mbti_profiles:\n",
    "            for t in unique_type_list:\n",
    "                temp = temp.replace(t,\"\")\n",
    "        '''temp= \"[CLS]\" + temp\n",
    "        temp = re.sub(\"(\\[CLS\\] *\\[SEP\\])\",\"[CLS] \",temp)'''\n",
    "        #temp = re.sub(\"\\[SEP\\]+\",\". \",temp) \n",
    "        type_labelized = translate_personality(row[1].type)\n",
    "        list_personality.append(type_labelized)\n",
    "        list_posts.append(temp)\n",
    "\n",
    "    list_posts = np.array(list_posts)\n",
    "    list_personality = np.array(list_personality)\n",
    "    return list_posts, list_personality"
   ]
  },
  {
   "cell_type": "code",
   "execution_count": 112,
   "metadata": {
    "colab": {
     "base_uri": "https://localhost:8080/",
     "height": 336
    },
    "colab_type": "code",
    "executionInfo": {
     "elapsed": 5052,
     "status": "ok",
     "timestamp": 1591231454980,
     "user": {
      "displayName": "Hazem Chammakhi",
      "photoUrl": "https://lh3.googleusercontent.com/a-/AOh14GiP5klJUSuqjAChhuwqzEnxXzew5v2URDg6CNL0EQ=s64",
      "userId": "08952056812268085529"
     },
     "user_tz": -60
    },
    "id": "Y15aZRgteXre",
    "outputId": "43ed6b79-313a-48b0-8291-a099fc7b5511"
   },
   "outputs": [
    {
     "name": "stdout",
     "output_type": "stream",
     "text": [
      "1 of 8675 rows\n",
      "500 of 8675 rows\n",
      "1000 of 8675 rows\n",
      "1500 of 8675 rows\n",
      "2000 of 8675 rows\n",
      "2500 of 8675 rows\n",
      "3000 of 8675 rows\n",
      "3500 of 8675 rows\n",
      "4000 of 8675 rows\n",
      "4500 of 8675 rows\n",
      "5000 of 8675 rows\n",
      "5500 of 8675 rows\n",
      "6000 of 8675 rows\n",
      "6500 of 8675 rows\n",
      "7000 of 8675 rows\n",
      "7500 of 8675 rows\n",
      "8000 of 8675 rows\n",
      "8500 of 8675 rows\n",
      "8675 of 8675 rows\n"
     ]
    }
   ],
   "source": [
    "list_posts, list_personality  = pre_process_data(data, remove_stop_words=True)"
   ]
  },
  {
   "cell_type": "code",
   "execution_count": 113,
   "metadata": {
    "colab": {
     "base_uri": "https://localhost:8080/",
     "height": 104
    },
    "colab_type": "code",
    "executionInfo": {
     "elapsed": 620,
     "status": "ok",
     "timestamp": 1591231456590,
     "user": {
      "displayName": "Hazem Chammakhi",
      "photoUrl": "https://lh3.googleusercontent.com/a-/AOh14GiP5klJUSuqjAChhuwqzEnxXzew5v2URDg6CNL0EQ=s64",
      "userId": "08952056812268085529"
     },
     "user_tz": -60
    },
    "id": "pcKcid03ea3S",
    "outputId": "253d9a6d-afc0-48f8-9cad-c23d99a69450"
   },
   "outputs": [
    {
     "name": "stdout",
     "output_type": "stream",
     "text": [
      "8675\n",
      "8675\n",
      " [SEP]  and  moments sportscenter not top ten plays pranks [SEP] What has been the most life changing experience in your life [SEP] On repeat for most of today \n",
      "[0 0 0 0]\n"
     ]
    }
   ],
   "source": [
    "X=list_posts\n",
    "Y=list_personality\n",
    "labels=Y[:,3]\n",
    "print(len(X))\n",
    "print(len(Y))\n",
    "print(X[0])\n",
    "print(Y[0])"
   ]
  },
  {
   "cell_type": "code",
   "execution_count": 114,
   "metadata": {
    "colab": {
     "base_uri": "https://localhost:8080/",
     "height": 34
    },
    "colab_type": "code",
    "executionInfo": {
     "elapsed": 843,
     "status": "ok",
     "timestamp": 1591231457620,
     "user": {
      "displayName": "Hazem Chammakhi",
      "photoUrl": "https://lh3.googleusercontent.com/a-/AOh14GiP5klJUSuqjAChhuwqzEnxXzew5v2URDg6CNL0EQ=s64",
      "userId": "08952056812268085529"
     },
     "user_tz": -60
    },
    "id": "gwlnHEU0gt6l",
    "outputId": "aea90a64-d379-4bf4-d0b9-2050f8d7f572"
   },
   "outputs": [
    {
     "name": "stdout",
     "output_type": "stream",
     "text": [
      "Loading BERT tokenizer...\n"
     ]
    }
   ],
   "source": [
    "from transformers import BertTokenizer\n",
    "\n",
    "# Load the BERT tokenizer.\n",
    "print('Loading BERT tokenizer...')\n",
    "tokenizer = BertTokenizer.from_pretrained('bert-base-uncased', do_lower_case=True)"
   ]
  },
  {
   "cell_type": "code",
   "execution_count": 115,
   "metadata": {
    "colab": {
     "base_uri": "https://localhost:8080/",
     "height": 353
    },
    "colab_type": "code",
    "executionInfo": {
     "elapsed": 19448,
     "status": "ok",
     "timestamp": 1591231476466,
     "user": {
      "displayName": "Hazem Chammakhi",
      "photoUrl": "https://lh3.googleusercontent.com/a-/AOh14GiP5klJUSuqjAChhuwqzEnxXzew5v2URDg6CNL0EQ=s64",
      "userId": "08952056812268085529"
     },
     "user_tz": -60
    },
    "id": "KD7FHsQ9ehb5",
    "outputId": "189128ce-74f5-44a8-878b-daa8da085c8b"
   },
   "outputs": [
    {
     "name": "stdout",
     "output_type": "stream",
     "text": [
      "0 of 8675 rows\n",
      "1 of 8675 rows\n",
      "500 of 8675 rows\n",
      "1000 of 8675 rows\n",
      "1500 of 8675 rows\n",
      "2000 of 8675 rows\n",
      "2500 of 8675 rows\n",
      "3000 of 8675 rows\n",
      "3500 of 8675 rows\n",
      "4000 of 8675 rows\n",
      "4500 of 8675 rows\n",
      "5000 of 8675 rows\n",
      "5500 of 8675 rows\n",
      "6000 of 8675 rows\n",
      "6500 of 8675 rows\n",
      "7000 of 8675 rows\n",
      "7500 of 8675 rows\n",
      "8000 of 8675 rows\n",
      "8500 of 8675 rows\n",
      "Max sentence length:  248\n"
     ]
    }
   ],
   "source": [
    "max_len = 0\n",
    "\n",
    "# For every sentence...\n",
    "for (i,sent) in enumerate(X):\n",
    "  if (i % 500 == 0 or i == 1 or i == len(X)):\n",
    "      print(\"%s of %s rows\" % (i, len(X)))\n",
    "  # Update the maximum sentence length.\n",
    "  input_ids = tokenizer.encode(sent, add_special_tokens=True)\n",
    "  max_len = max(max_len, len(input_ids))\n",
    "\n",
    "print('Max sentence length: ', max_len)"
   ]
  },
  {
   "cell_type": "code",
   "execution_count": 0,
   "metadata": {
    "colab": {},
    "colab_type": "code",
    "id": "nUvLNwIigoC6"
   },
   "outputs": [],
   "source": [
    "# Tokenize all of the sentences and map the tokens to their word IDs.\n",
    "input_ids = []\n",
    "attention_masks = []\n",
    "\n",
    "# For every sentence...\n",
    "for sent in X:\n",
    "    if (i % 500 == 0 or i == 1 or i == len(X)):\n",
    "      print(\"%s of %s rows\" % (i, len(X)))\n",
    "    # `encode_plus` will:\n",
    "    #   (1) Tokenize the sentence.\n",
    "    #   (2) Prepend the `[CLS]` token to the start.\n",
    "    #   (3) Append the `[SEP]` token to the end.\n",
    "    #   (4) Map tokens to their IDs.\n",
    "    #   (5) Pad or truncate the sentence to `max_length`\n",
    "    #   (6) Create attention masks for [PAD] tokens.\n",
    "    encoded_dict = tokenizer.encode_plus(\n",
    "                        sent,                      # Sentence to encode.\n",
    "                        add_special_tokens = True, # Add '[CLS]' and '[SEP]'\n",
    "                        max_length = 248,           # Pad & truncate all sentences.\n",
    "                        pad_to_max_length = True,\n",
    "                        return_attention_mask = True,   # Construct attn. masks.\n",
    "                        return_tensors = 'pt',     # Return pytorch tensors.\n",
    "                   )\n",
    "    \n",
    "    # Add the encoded sentence to the list.    \n",
    "    input_ids.append(encoded_dict['input_ids'])\n",
    "    \n",
    "    # And its attention mask (simply differentiates padding from non-padding).\n",
    "    attention_masks.append(encoded_dict['attention_mask'])\n",
    "\n",
    "# Convert the lists into tensors.\n",
    "input_ids = torch.cat(input_ids, dim=0)\n",
    "attention_masks = torch.cat(attention_masks, dim=0)\n",
    "labels = torch.tensor(labels)"
   ]
  },
  {
   "cell_type": "code",
   "execution_count": 117,
   "metadata": {
    "colab": {
     "base_uri": "https://localhost:8080/",
     "height": 675
    },
    "colab_type": "code",
    "executionInfo": {
     "elapsed": 38304,
     "status": "ok",
     "timestamp": 1591231495742,
     "user": {
      "displayName": "Hazem Chammakhi",
      "photoUrl": "https://lh3.googleusercontent.com/a-/AOh14GiP5klJUSuqjAChhuwqzEnxXzew5v2URDg6CNL0EQ=s64",
      "userId": "08952056812268085529"
     },
     "user_tz": -60
    },
    "id": "dKbAjCLSkXmt",
    "outputId": "61c10cc9-827a-4946-fb9e-f8679d5df3a5"
   },
   "outputs": [
    {
     "name": "stdout",
     "output_type": "stream",
     "text": [
      "Original:   Good one [SEP] Of course to which I say I know that s my blessing and my curse [SEP] Does being absolutely positive that you and your best friend could be an amazing couple count If so than yes Or it s more I could be madly in love in case I reconciled my feelings which at [SEP] No I didn t thank you for a link [SEP] So called Ti Si loop and it can stem from any current topic obsession can be deadly It s like when you re stuck in your own thoughts and your mind just wanders in circles Feels truly terrible \n",
      "Token IDs: tensor([  101,   102,  1998,  5312,  2998, 13013,  2121,  2025,  2327,  2702,\n",
      "         3248, 26418,  2015,   102,  2054,  2038,  2042,  1996,  2087,  2166,\n",
      "         5278,  3325,  1999,  2115,  2166,   102,  2006,  9377,  2005,  2087,\n",
      "         1997,  2651,   102,     0,     0,     0,     0,     0,     0,     0,\n",
      "            0,     0,     0,     0,     0,     0,     0,     0,     0,     0,\n",
      "            0,     0,     0,     0,     0,     0,     0,     0,     0,     0,\n",
      "            0,     0,     0,     0,     0,     0,     0,     0,     0,     0,\n",
      "            0,     0,     0,     0,     0,     0,     0,     0,     0,     0,\n",
      "            0,     0,     0,     0,     0,     0,     0,     0,     0,     0,\n",
      "            0,     0,     0,     0,     0,     0,     0,     0,     0,     0,\n",
      "            0,     0,     0,     0,     0,     0,     0,     0,     0,     0,\n",
      "            0,     0,     0,     0,     0,     0,     0,     0,     0,     0,\n",
      "            0,     0,     0,     0,     0,     0,     0,     0,     0,     0,\n",
      "            0,     0,     0,     0,     0,     0,     0,     0,     0,     0,\n",
      "            0,     0,     0,     0,     0,     0,     0,     0,     0,     0,\n",
      "            0,     0,     0,     0,     0,     0,     0,     0,     0,     0,\n",
      "            0,     0,     0,     0,     0,     0,     0,     0,     0,     0,\n",
      "            0,     0,     0,     0,     0,     0,     0,     0,     0,     0,\n",
      "            0,     0,     0,     0,     0,     0,     0,     0,     0,     0,\n",
      "            0,     0,     0,     0,     0,     0,     0,     0,     0,     0,\n",
      "            0,     0,     0,     0,     0,     0,     0,     0,     0,     0,\n",
      "            0,     0,     0,     0,     0,     0,     0,     0,     0,     0,\n",
      "            0,     0,     0,     0,     0,     0,     0,     0,     0,     0,\n",
      "            0,     0,     0,     0,     0,     0,     0,     0,     0,     0,\n",
      "            0,     0,     0,     0,     0,     0,     0,     0])\n",
      "attention_masks: tensor([1, 1, 1, 1, 1, 1, 1, 1, 1, 1, 1, 1, 1, 1, 1, 1, 1, 1, 1, 1, 1, 1, 1, 1,\n",
      "        1, 1, 1, 1, 1, 1, 1, 1, 1, 0, 0, 0, 0, 0, 0, 0, 0, 0, 0, 0, 0, 0, 0, 0,\n",
      "        0, 0, 0, 0, 0, 0, 0, 0, 0, 0, 0, 0, 0, 0, 0, 0, 0, 0, 0, 0, 0, 0, 0, 0,\n",
      "        0, 0, 0, 0, 0, 0, 0, 0, 0, 0, 0, 0, 0, 0, 0, 0, 0, 0, 0, 0, 0, 0, 0, 0,\n",
      "        0, 0, 0, 0, 0, 0, 0, 0, 0, 0, 0, 0, 0, 0, 0, 0, 0, 0, 0, 0, 0, 0, 0, 0,\n",
      "        0, 0, 0, 0, 0, 0, 0, 0, 0, 0, 0, 0, 0, 0, 0, 0, 0, 0, 0, 0, 0, 0, 0, 0,\n",
      "        0, 0, 0, 0, 0, 0, 0, 0, 0, 0, 0, 0, 0, 0, 0, 0, 0, 0, 0, 0, 0, 0, 0, 0,\n",
      "        0, 0, 0, 0, 0, 0, 0, 0, 0, 0, 0, 0, 0, 0, 0, 0, 0, 0, 0, 0, 0, 0, 0, 0,\n",
      "        0, 0, 0, 0, 0, 0, 0, 0, 0, 0, 0, 0, 0, 0, 0, 0, 0, 0, 0, 0, 0, 0, 0, 0,\n",
      "        0, 0, 0, 0, 0, 0, 0, 0, 0, 0, 0, 0, 0, 0, 0, 0, 0, 0, 0, 0, 0, 0, 0, 0,\n",
      "        0, 0, 0, 0, 0, 0, 0, 0])\n",
      "label: tensor(0)\n"
     ]
    }
   ],
   "source": [
    "# Print sentence 0, now as a list of IDs.\n",
    "print('Original: ', X[2])\n",
    "print('Token IDs:', input_ids[0])  \n",
    "print('attention_masks:', attention_masks[0])\n",
    "print(\"label:\",labels[0])"
   ]
  },
  {
   "cell_type": "code",
   "execution_count": 118,
   "metadata": {
    "colab": {
     "base_uri": "https://localhost:8080/",
     "height": 67
    },
    "colab_type": "code",
    "executionInfo": {
     "elapsed": 38150,
     "status": "ok",
     "timestamp": 1591231495742,
     "user": {
      "displayName": "Hazem Chammakhi",
      "photoUrl": "https://lh3.googleusercontent.com/a-/AOh14GiP5klJUSuqjAChhuwqzEnxXzew5v2URDg6CNL0EQ=s64",
      "userId": "08952056812268085529"
     },
     "user_tz": -60
    },
    "id": "e6Z2gyMKk7DB",
    "outputId": "efd2e27a-93a3-42a8-9915-8d8ef61d33c9"
   },
   "outputs": [
    {
     "name": "stdout",
     "output_type": "stream",
     "text": [
      "7,807 training samples\n",
      "  434 validation samples\n",
      "  434 validation samples\n"
     ]
    }
   ],
   "source": [
    "from torch.utils.data import TensorDataset, random_split\n",
    "\n",
    "# Combine the training inputs into a TensorDataset.\n",
    "dataset = TensorDataset(input_ids, attention_masks, labels)\n",
    "\n",
    "# Create a 90-10 train-validation split.\n",
    "\n",
    "# Calculate the number of samples to include in each set.\n",
    "train_size = int(0.90 * len(dataset))\n",
    "val_size = len(dataset) - train_size\n",
    "\n",
    "\n",
    "# Divide the dataset by randomly selecting samples.\n",
    "train_dataset, val_dataset = random_split(dataset, [train_size, val_size])\n",
    "val_size = int(0.50 * len(val_dataset))\n",
    "test_size = len(val_dataset) - val_size\n",
    "val_dataset, test_dataset = random_split(val_dataset, [val_size, test_size])\n",
    "print('{:>5,} training samples'.format(train_size))\n",
    "print('{:>5,} validation samples'.format(val_size))\n",
    "print('{:>5,} validation samples'.format(test_size))"
   ]
  },
  {
   "cell_type": "code",
   "execution_count": 0,
   "metadata": {
    "colab": {},
    "colab_type": "code",
    "id": "eTBh3-TrlY5C"
   },
   "outputs": [],
   "source": [
    "from torch.utils.data import DataLoader, RandomSampler, SequentialSampler\n",
    "\n",
    "# The DataLoader needs to know our batch size for training, so we specify it \n",
    "# here. For fine-tuning BERT on a specific task, the authors recommend a batch \n",
    "# size of 16 or 32.\n",
    "batch_size = 32\n",
    "\n",
    "# Create the DataLoaders for our training and validation sets.\n",
    "# We'll take training samples in random order. \n",
    "train_dataloader = DataLoader(\n",
    "            train_dataset,  # The training samples.\n",
    "            sampler = RandomSampler(train_dataset), # Select batches randomly\n",
    "            batch_size = batch_size # Trains with this batch size.\n",
    "        )\n",
    "\n",
    "# For validation the order doesn't matter, so we'll just read them sequentially.\n",
    "validation_dataloader = DataLoader(\n",
    "            val_dataset, # The validation samples.\n",
    "            sampler = SequentialSampler(val_dataset), # Pull out batches sequentially.\n",
    "            batch_size = batch_size # Evaluate with this batch size.\n",
    "        )\n",
    "# For testing the order doesn't matter, so we'll just read them sequentially.\n",
    "test_dataloader = DataLoader(\n",
    "            val_dataset, # The validation samples.\n",
    "            sampler = SequentialSampler(test_dataset), # Pull out batches sequentially.\n",
    "            batch_size = batch_size # Evaluate with this batch size.\n",
    "        )"
   ]
  },
  {
   "cell_type": "code",
   "execution_count": 120,
   "metadata": {
    "colab": {
     "base_uri": "https://localhost:8080/",
     "height": 1000
    },
    "colab_type": "code",
    "executionInfo": {
     "elapsed": 42032,
     "status": "ok",
     "timestamp": 1591231499899,
     "user": {
      "displayName": "Hazem Chammakhi",
      "photoUrl": "https://lh3.googleusercontent.com/a-/AOh14GiP5klJUSuqjAChhuwqzEnxXzew5v2URDg6CNL0EQ=s64",
      "userId": "08952056812268085529"
     },
     "user_tz": -60
    },
    "id": "zm_YCCGXlZaP",
    "outputId": "54ad0f34-f1a8-400f-ff50-fe10fc9a1cd2"
   },
   "outputs": [
    {
     "data": {
      "text/plain": [
       "BertForSequenceClassification(\n",
       "  (bert): BertModel(\n",
       "    (embeddings): BertEmbeddings(\n",
       "      (word_embeddings): Embedding(30522, 768, padding_idx=0)\n",
       "      (position_embeddings): Embedding(512, 768)\n",
       "      (token_type_embeddings): Embedding(2, 768)\n",
       "      (LayerNorm): LayerNorm((768,), eps=1e-12, elementwise_affine=True)\n",
       "      (dropout): Dropout(p=0.1, inplace=False)\n",
       "    )\n",
       "    (encoder): BertEncoder(\n",
       "      (layer): ModuleList(\n",
       "        (0): BertLayer(\n",
       "          (attention): BertAttention(\n",
       "            (self): BertSelfAttention(\n",
       "              (query): Linear(in_features=768, out_features=768, bias=True)\n",
       "              (key): Linear(in_features=768, out_features=768, bias=True)\n",
       "              (value): Linear(in_features=768, out_features=768, bias=True)\n",
       "              (dropout): Dropout(p=0.1, inplace=False)\n",
       "            )\n",
       "            (output): BertSelfOutput(\n",
       "              (dense): Linear(in_features=768, out_features=768, bias=True)\n",
       "              (LayerNorm): LayerNorm((768,), eps=1e-12, elementwise_affine=True)\n",
       "              (dropout): Dropout(p=0.1, inplace=False)\n",
       "            )\n",
       "          )\n",
       "          (intermediate): BertIntermediate(\n",
       "            (dense): Linear(in_features=768, out_features=3072, bias=True)\n",
       "          )\n",
       "          (output): BertOutput(\n",
       "            (dense): Linear(in_features=3072, out_features=768, bias=True)\n",
       "            (LayerNorm): LayerNorm((768,), eps=1e-12, elementwise_affine=True)\n",
       "            (dropout): Dropout(p=0.1, inplace=False)\n",
       "          )\n",
       "        )\n",
       "        (1): BertLayer(\n",
       "          (attention): BertAttention(\n",
       "            (self): BertSelfAttention(\n",
       "              (query): Linear(in_features=768, out_features=768, bias=True)\n",
       "              (key): Linear(in_features=768, out_features=768, bias=True)\n",
       "              (value): Linear(in_features=768, out_features=768, bias=True)\n",
       "              (dropout): Dropout(p=0.1, inplace=False)\n",
       "            )\n",
       "            (output): BertSelfOutput(\n",
       "              (dense): Linear(in_features=768, out_features=768, bias=True)\n",
       "              (LayerNorm): LayerNorm((768,), eps=1e-12, elementwise_affine=True)\n",
       "              (dropout): Dropout(p=0.1, inplace=False)\n",
       "            )\n",
       "          )\n",
       "          (intermediate): BertIntermediate(\n",
       "            (dense): Linear(in_features=768, out_features=3072, bias=True)\n",
       "          )\n",
       "          (output): BertOutput(\n",
       "            (dense): Linear(in_features=3072, out_features=768, bias=True)\n",
       "            (LayerNorm): LayerNorm((768,), eps=1e-12, elementwise_affine=True)\n",
       "            (dropout): Dropout(p=0.1, inplace=False)\n",
       "          )\n",
       "        )\n",
       "        (2): BertLayer(\n",
       "          (attention): BertAttention(\n",
       "            (self): BertSelfAttention(\n",
       "              (query): Linear(in_features=768, out_features=768, bias=True)\n",
       "              (key): Linear(in_features=768, out_features=768, bias=True)\n",
       "              (value): Linear(in_features=768, out_features=768, bias=True)\n",
       "              (dropout): Dropout(p=0.1, inplace=False)\n",
       "            )\n",
       "            (output): BertSelfOutput(\n",
       "              (dense): Linear(in_features=768, out_features=768, bias=True)\n",
       "              (LayerNorm): LayerNorm((768,), eps=1e-12, elementwise_affine=True)\n",
       "              (dropout): Dropout(p=0.1, inplace=False)\n",
       "            )\n",
       "          )\n",
       "          (intermediate): BertIntermediate(\n",
       "            (dense): Linear(in_features=768, out_features=3072, bias=True)\n",
       "          )\n",
       "          (output): BertOutput(\n",
       "            (dense): Linear(in_features=3072, out_features=768, bias=True)\n",
       "            (LayerNorm): LayerNorm((768,), eps=1e-12, elementwise_affine=True)\n",
       "            (dropout): Dropout(p=0.1, inplace=False)\n",
       "          )\n",
       "        )\n",
       "        (3): BertLayer(\n",
       "          (attention): BertAttention(\n",
       "            (self): BertSelfAttention(\n",
       "              (query): Linear(in_features=768, out_features=768, bias=True)\n",
       "              (key): Linear(in_features=768, out_features=768, bias=True)\n",
       "              (value): Linear(in_features=768, out_features=768, bias=True)\n",
       "              (dropout): Dropout(p=0.1, inplace=False)\n",
       "            )\n",
       "            (output): BertSelfOutput(\n",
       "              (dense): Linear(in_features=768, out_features=768, bias=True)\n",
       "              (LayerNorm): LayerNorm((768,), eps=1e-12, elementwise_affine=True)\n",
       "              (dropout): Dropout(p=0.1, inplace=False)\n",
       "            )\n",
       "          )\n",
       "          (intermediate): BertIntermediate(\n",
       "            (dense): Linear(in_features=768, out_features=3072, bias=True)\n",
       "          )\n",
       "          (output): BertOutput(\n",
       "            (dense): Linear(in_features=3072, out_features=768, bias=True)\n",
       "            (LayerNorm): LayerNorm((768,), eps=1e-12, elementwise_affine=True)\n",
       "            (dropout): Dropout(p=0.1, inplace=False)\n",
       "          )\n",
       "        )\n",
       "        (4): BertLayer(\n",
       "          (attention): BertAttention(\n",
       "            (self): BertSelfAttention(\n",
       "              (query): Linear(in_features=768, out_features=768, bias=True)\n",
       "              (key): Linear(in_features=768, out_features=768, bias=True)\n",
       "              (value): Linear(in_features=768, out_features=768, bias=True)\n",
       "              (dropout): Dropout(p=0.1, inplace=False)\n",
       "            )\n",
       "            (output): BertSelfOutput(\n",
       "              (dense): Linear(in_features=768, out_features=768, bias=True)\n",
       "              (LayerNorm): LayerNorm((768,), eps=1e-12, elementwise_affine=True)\n",
       "              (dropout): Dropout(p=0.1, inplace=False)\n",
       "            )\n",
       "          )\n",
       "          (intermediate): BertIntermediate(\n",
       "            (dense): Linear(in_features=768, out_features=3072, bias=True)\n",
       "          )\n",
       "          (output): BertOutput(\n",
       "            (dense): Linear(in_features=3072, out_features=768, bias=True)\n",
       "            (LayerNorm): LayerNorm((768,), eps=1e-12, elementwise_affine=True)\n",
       "            (dropout): Dropout(p=0.1, inplace=False)\n",
       "          )\n",
       "        )\n",
       "        (5): BertLayer(\n",
       "          (attention): BertAttention(\n",
       "            (self): BertSelfAttention(\n",
       "              (query): Linear(in_features=768, out_features=768, bias=True)\n",
       "              (key): Linear(in_features=768, out_features=768, bias=True)\n",
       "              (value): Linear(in_features=768, out_features=768, bias=True)\n",
       "              (dropout): Dropout(p=0.1, inplace=False)\n",
       "            )\n",
       "            (output): BertSelfOutput(\n",
       "              (dense): Linear(in_features=768, out_features=768, bias=True)\n",
       "              (LayerNorm): LayerNorm((768,), eps=1e-12, elementwise_affine=True)\n",
       "              (dropout): Dropout(p=0.1, inplace=False)\n",
       "            )\n",
       "          )\n",
       "          (intermediate): BertIntermediate(\n",
       "            (dense): Linear(in_features=768, out_features=3072, bias=True)\n",
       "          )\n",
       "          (output): BertOutput(\n",
       "            (dense): Linear(in_features=3072, out_features=768, bias=True)\n",
       "            (LayerNorm): LayerNorm((768,), eps=1e-12, elementwise_affine=True)\n",
       "            (dropout): Dropout(p=0.1, inplace=False)\n",
       "          )\n",
       "        )\n",
       "        (6): BertLayer(\n",
       "          (attention): BertAttention(\n",
       "            (self): BertSelfAttention(\n",
       "              (query): Linear(in_features=768, out_features=768, bias=True)\n",
       "              (key): Linear(in_features=768, out_features=768, bias=True)\n",
       "              (value): Linear(in_features=768, out_features=768, bias=True)\n",
       "              (dropout): Dropout(p=0.1, inplace=False)\n",
       "            )\n",
       "            (output): BertSelfOutput(\n",
       "              (dense): Linear(in_features=768, out_features=768, bias=True)\n",
       "              (LayerNorm): LayerNorm((768,), eps=1e-12, elementwise_affine=True)\n",
       "              (dropout): Dropout(p=0.1, inplace=False)\n",
       "            )\n",
       "          )\n",
       "          (intermediate): BertIntermediate(\n",
       "            (dense): Linear(in_features=768, out_features=3072, bias=True)\n",
       "          )\n",
       "          (output): BertOutput(\n",
       "            (dense): Linear(in_features=3072, out_features=768, bias=True)\n",
       "            (LayerNorm): LayerNorm((768,), eps=1e-12, elementwise_affine=True)\n",
       "            (dropout): Dropout(p=0.1, inplace=False)\n",
       "          )\n",
       "        )\n",
       "        (7): BertLayer(\n",
       "          (attention): BertAttention(\n",
       "            (self): BertSelfAttention(\n",
       "              (query): Linear(in_features=768, out_features=768, bias=True)\n",
       "              (key): Linear(in_features=768, out_features=768, bias=True)\n",
       "              (value): Linear(in_features=768, out_features=768, bias=True)\n",
       "              (dropout): Dropout(p=0.1, inplace=False)\n",
       "            )\n",
       "            (output): BertSelfOutput(\n",
       "              (dense): Linear(in_features=768, out_features=768, bias=True)\n",
       "              (LayerNorm): LayerNorm((768,), eps=1e-12, elementwise_affine=True)\n",
       "              (dropout): Dropout(p=0.1, inplace=False)\n",
       "            )\n",
       "          )\n",
       "          (intermediate): BertIntermediate(\n",
       "            (dense): Linear(in_features=768, out_features=3072, bias=True)\n",
       "          )\n",
       "          (output): BertOutput(\n",
       "            (dense): Linear(in_features=3072, out_features=768, bias=True)\n",
       "            (LayerNorm): LayerNorm((768,), eps=1e-12, elementwise_affine=True)\n",
       "            (dropout): Dropout(p=0.1, inplace=False)\n",
       "          )\n",
       "        )\n",
       "        (8): BertLayer(\n",
       "          (attention): BertAttention(\n",
       "            (self): BertSelfAttention(\n",
       "              (query): Linear(in_features=768, out_features=768, bias=True)\n",
       "              (key): Linear(in_features=768, out_features=768, bias=True)\n",
       "              (value): Linear(in_features=768, out_features=768, bias=True)\n",
       "              (dropout): Dropout(p=0.1, inplace=False)\n",
       "            )\n",
       "            (output): BertSelfOutput(\n",
       "              (dense): Linear(in_features=768, out_features=768, bias=True)\n",
       "              (LayerNorm): LayerNorm((768,), eps=1e-12, elementwise_affine=True)\n",
       "              (dropout): Dropout(p=0.1, inplace=False)\n",
       "            )\n",
       "          )\n",
       "          (intermediate): BertIntermediate(\n",
       "            (dense): Linear(in_features=768, out_features=3072, bias=True)\n",
       "          )\n",
       "          (output): BertOutput(\n",
       "            (dense): Linear(in_features=3072, out_features=768, bias=True)\n",
       "            (LayerNorm): LayerNorm((768,), eps=1e-12, elementwise_affine=True)\n",
       "            (dropout): Dropout(p=0.1, inplace=False)\n",
       "          )\n",
       "        )\n",
       "        (9): BertLayer(\n",
       "          (attention): BertAttention(\n",
       "            (self): BertSelfAttention(\n",
       "              (query): Linear(in_features=768, out_features=768, bias=True)\n",
       "              (key): Linear(in_features=768, out_features=768, bias=True)\n",
       "              (value): Linear(in_features=768, out_features=768, bias=True)\n",
       "              (dropout): Dropout(p=0.1, inplace=False)\n",
       "            )\n",
       "            (output): BertSelfOutput(\n",
       "              (dense): Linear(in_features=768, out_features=768, bias=True)\n",
       "              (LayerNorm): LayerNorm((768,), eps=1e-12, elementwise_affine=True)\n",
       "              (dropout): Dropout(p=0.1, inplace=False)\n",
       "            )\n",
       "          )\n",
       "          (intermediate): BertIntermediate(\n",
       "            (dense): Linear(in_features=768, out_features=3072, bias=True)\n",
       "          )\n",
       "          (output): BertOutput(\n",
       "            (dense): Linear(in_features=3072, out_features=768, bias=True)\n",
       "            (LayerNorm): LayerNorm((768,), eps=1e-12, elementwise_affine=True)\n",
       "            (dropout): Dropout(p=0.1, inplace=False)\n",
       "          )\n",
       "        )\n",
       "        (10): BertLayer(\n",
       "          (attention): BertAttention(\n",
       "            (self): BertSelfAttention(\n",
       "              (query): Linear(in_features=768, out_features=768, bias=True)\n",
       "              (key): Linear(in_features=768, out_features=768, bias=True)\n",
       "              (value): Linear(in_features=768, out_features=768, bias=True)\n",
       "              (dropout): Dropout(p=0.1, inplace=False)\n",
       "            )\n",
       "            (output): BertSelfOutput(\n",
       "              (dense): Linear(in_features=768, out_features=768, bias=True)\n",
       "              (LayerNorm): LayerNorm((768,), eps=1e-12, elementwise_affine=True)\n",
       "              (dropout): Dropout(p=0.1, inplace=False)\n",
       "            )\n",
       "          )\n",
       "          (intermediate): BertIntermediate(\n",
       "            (dense): Linear(in_features=768, out_features=3072, bias=True)\n",
       "          )\n",
       "          (output): BertOutput(\n",
       "            (dense): Linear(in_features=3072, out_features=768, bias=True)\n",
       "            (LayerNorm): LayerNorm((768,), eps=1e-12, elementwise_affine=True)\n",
       "            (dropout): Dropout(p=0.1, inplace=False)\n",
       "          )\n",
       "        )\n",
       "        (11): BertLayer(\n",
       "          (attention): BertAttention(\n",
       "            (self): BertSelfAttention(\n",
       "              (query): Linear(in_features=768, out_features=768, bias=True)\n",
       "              (key): Linear(in_features=768, out_features=768, bias=True)\n",
       "              (value): Linear(in_features=768, out_features=768, bias=True)\n",
       "              (dropout): Dropout(p=0.1, inplace=False)\n",
       "            )\n",
       "            (output): BertSelfOutput(\n",
       "              (dense): Linear(in_features=768, out_features=768, bias=True)\n",
       "              (LayerNorm): LayerNorm((768,), eps=1e-12, elementwise_affine=True)\n",
       "              (dropout): Dropout(p=0.1, inplace=False)\n",
       "            )\n",
       "          )\n",
       "          (intermediate): BertIntermediate(\n",
       "            (dense): Linear(in_features=768, out_features=3072, bias=True)\n",
       "          )\n",
       "          (output): BertOutput(\n",
       "            (dense): Linear(in_features=3072, out_features=768, bias=True)\n",
       "            (LayerNorm): LayerNorm((768,), eps=1e-12, elementwise_affine=True)\n",
       "            (dropout): Dropout(p=0.1, inplace=False)\n",
       "          )\n",
       "        )\n",
       "      )\n",
       "    )\n",
       "    (pooler): BertPooler(\n",
       "      (dense): Linear(in_features=768, out_features=768, bias=True)\n",
       "      (activation): Tanh()\n",
       "    )\n",
       "  )\n",
       "  (dropout): Dropout(p=0.1, inplace=False)\n",
       "  (classifier): Linear(in_features=768, out_features=2, bias=True)\n",
       ")"
      ]
     },
     "execution_count": 120,
     "metadata": {
      "tags": []
     },
     "output_type": "execute_result"
    }
   ],
   "source": [
    "from transformers import BertForSequenceClassification, AdamW, BertConfig\n",
    "\n",
    "# Load BertForSequenceClassification, the pretrained BERT model with a single \n",
    "# linear classification layer on top. \n",
    "model = BertForSequenceClassification.from_pretrained(\n",
    "    \"bert-base-uncased\", # Use the 12-layer BERT model, with an uncased vocab.\n",
    "    num_labels = 2, # The number of output labels--2 for binary classification.\n",
    "                    # You can increase this for multi-class tasks.   \n",
    "    output_attentions = False, # Whether the model returns attentions weights.\n",
    "    output_hidden_states = False, # Whether the model returns all hidden-states.\n",
    ")\n",
    "\n",
    "# Tell pytorch to run this model on the GPU.\n",
    "model.cuda()"
   ]
  },
  {
   "cell_type": "code",
   "execution_count": 0,
   "metadata": {
    "colab": {},
    "colab_type": "code",
    "id": "Biswr2tHlh06"
   },
   "outputs": [],
   "source": [
    "# Note: AdamW is a class from the huggingface library (as opposed to pytorch) \n",
    "# I believe the 'W' stands for 'Weight Decay fix\"\n",
    "optimizer = AdamW(model.parameters(),\n",
    "                  lr = 2e-5, # args.learning_rate - default is 5e-5, our notebook had 2e-5\n",
    "                  eps = 1e-8 # args.adam_epsilon  - default is 1e-8.\n",
    "                )\n"
   ]
  },
  {
   "cell_type": "code",
   "execution_count": 0,
   "metadata": {
    "colab": {},
    "colab_type": "code",
    "id": "6NkrRBv4l6SN"
   },
   "outputs": [],
   "source": [
    "from transformers import get_linear_schedule_with_warmup\n",
    "\n",
    "# Number of training epochs. The BERT authors recommend between 2 and 4. \n",
    "# We chose to run for 4, but we'll see later that this may be over-fitting the\n",
    "# training data.\n",
    "epochs = 20\n",
    "\n",
    "# Total number of training steps is [number of batches] x [number of epochs]. \n",
    "# (Note that this is not the same as the number of training samples).\n",
    "total_steps = len(train_dataloader) * epochs\n",
    "\n",
    "# Create the learning rate scheduler.\n",
    "scheduler = get_linear_schedule_with_warmup(optimizer, \n",
    "                                            num_warmup_steps = 0, # Default value in run_glue.py\n",
    "                                            num_training_steps = total_steps)"
   ]
  },
  {
   "cell_type": "code",
   "execution_count": 0,
   "metadata": {
    "colab": {},
    "colab_type": "code",
    "id": "_NMK4yYVmHPM"
   },
   "outputs": [],
   "source": [
    "# Function to calculate the accuracy of our predictions vs labels\n",
    "def flat_accuracy(preds, labels):\n",
    "    pred_flat = np.argmax(preds, axis=1).flatten()\n",
    "    labels_flat = labels.flatten()\n",
    "    return np.sum(pred_flat == labels_flat) / len(labels_flat)"
   ]
  },
  {
   "cell_type": "code",
   "execution_count": 0,
   "metadata": {
    "colab": {},
    "colab_type": "code",
    "id": "X9mmUtjAmOnL"
   },
   "outputs": [],
   "source": [
    "import time\n",
    "import datetime\n",
    "\n",
    "def format_time(elapsed):\n",
    "    '''\n",
    "    Takes a time in seconds and returns a string hh:mm:ss\n",
    "    '''\n",
    "    # Round to the nearest second.\n",
    "    elapsed_rounded = int(round((elapsed)))\n",
    "    \n",
    "    # Format as hh:mm:ss\n",
    "    return str(datetime.timedelta(seconds=elapsed_rounded))\n"
   ]
  },
  {
   "cell_type": "code",
   "execution_count": 125,
   "metadata": {
    "colab": {
     "base_uri": "https://localhost:8080/",
     "height": 1000
    },
    "colab_type": "code",
    "executionInfo": {
     "elapsed": 3625530,
     "status": "ok",
     "timestamp": 1591235084119,
     "user": {
      "displayName": "Hazem Chammakhi",
      "photoUrl": "https://lh3.googleusercontent.com/a-/AOh14GiP5klJUSuqjAChhuwqzEnxXzew5v2URDg6CNL0EQ=s64",
      "userId": "08952056812268085529"
     },
     "user_tz": -60
    },
    "id": "9YNyxS_UmO91",
    "outputId": "43d5f727-b8a7-4225-e947-695f6e3a6570"
   },
   "outputs": [
    {
     "name": "stdout",
     "output_type": "stream",
     "text": [
      "\n",
      "======== Epoch 1 / 20 ========\n",
      "Training...\n",
      "  Batch    40  of    244.    Elapsed: 0:00:29.\n",
      "  Batch    80  of    244.    Elapsed: 0:00:58.\n",
      "  Batch   120  of    244.    Elapsed: 0:01:27.\n",
      "  Batch   160  of    244.    Elapsed: 0:01:56.\n",
      "  Batch   200  of    244.    Elapsed: 0:02:25.\n",
      "  Batch   240  of    244.    Elapsed: 0:02:53.\n",
      "\n",
      "  Average training loss: 0.67\n",
      "  Training epcoh took: 0:02:56\n",
      "\n",
      "Running Validation...\n",
      "  Accuracy: 0.62\n",
      "  Validation Loss: 0.67\n",
      "  Validation took: 0:00:03\n",
      "\n",
      "======== Epoch 2 / 20 ========\n",
      "Training...\n",
      "  Batch    40  of    244.    Elapsed: 0:00:29.\n",
      "  Batch    80  of    244.    Elapsed: 0:00:58.\n",
      "  Batch   120  of    244.    Elapsed: 0:01:27.\n",
      "  Batch   160  of    244.    Elapsed: 0:01:56.\n",
      "  Batch   200  of    244.    Elapsed: 0:02:25.\n",
      "  Batch   240  of    244.    Elapsed: 0:02:53.\n",
      "\n",
      "  Average training loss: 0.65\n",
      "  Training epcoh took: 0:02:56\n",
      "\n",
      "Running Validation...\n",
      "  Accuracy: 0.57\n",
      "  Validation Loss: 0.68\n",
      "  Validation took: 0:00:03\n",
      "\n",
      "======== Epoch 3 / 20 ========\n",
      "Training...\n",
      "  Batch    40  of    244.    Elapsed: 0:00:29.\n",
      "  Batch    80  of    244.    Elapsed: 0:00:58.\n",
      "  Batch   120  of    244.    Elapsed: 0:01:27.\n",
      "  Batch   160  of    244.    Elapsed: 0:01:56.\n",
      "  Batch   200  of    244.    Elapsed: 0:02:25.\n",
      "  Batch   240  of    244.    Elapsed: 0:02:53.\n",
      "\n",
      "  Average training loss: 0.57\n",
      "  Training epcoh took: 0:02:56\n",
      "\n",
      "Running Validation...\n",
      "  Accuracy: 0.60\n",
      "  Validation Loss: 0.72\n",
      "  Validation took: 0:00:03\n",
      "\n",
      "======== Epoch 4 / 20 ========\n",
      "Training...\n",
      "  Batch    40  of    244.    Elapsed: 0:00:29.\n",
      "  Batch    80  of    244.    Elapsed: 0:00:58.\n",
      "  Batch   120  of    244.    Elapsed: 0:01:27.\n",
      "  Batch   160  of    244.    Elapsed: 0:01:56.\n",
      "  Batch   200  of    244.    Elapsed: 0:02:24.\n",
      "  Batch   240  of    244.    Elapsed: 0:02:53.\n",
      "\n",
      "  Average training loss: 0.37\n",
      "  Training epcoh took: 0:02:56\n",
      "\n",
      "Running Validation...\n",
      "  Accuracy: 0.59\n",
      "  Validation Loss: 0.90\n",
      "  Validation took: 0:00:03\n",
      "\n",
      "======== Epoch 5 / 20 ========\n",
      "Training...\n",
      "  Batch    40  of    244.    Elapsed: 0:00:29.\n",
      "  Batch    80  of    244.    Elapsed: 0:00:58.\n",
      "  Batch   120  of    244.    Elapsed: 0:01:27.\n",
      "  Batch   160  of    244.    Elapsed: 0:01:56.\n",
      "  Batch   200  of    244.    Elapsed: 0:02:25.\n",
      "  Batch   240  of    244.    Elapsed: 0:02:53.\n",
      "\n",
      "  Average training loss: 0.20\n",
      "  Training epcoh took: 0:02:56\n",
      "\n",
      "Running Validation...\n",
      "  Accuracy: 0.58\n",
      "  Validation Loss: 1.22\n",
      "  Validation took: 0:00:03\n",
      "\n",
      "======== Epoch 6 / 20 ========\n",
      "Training...\n",
      "  Batch    40  of    244.    Elapsed: 0:00:29.\n",
      "  Batch    80  of    244.    Elapsed: 0:00:58.\n",
      "  Batch   120  of    244.    Elapsed: 0:01:27.\n",
      "  Batch   160  of    244.    Elapsed: 0:01:56.\n",
      "  Batch   200  of    244.    Elapsed: 0:02:25.\n",
      "  Batch   240  of    244.    Elapsed: 0:02:53.\n",
      "\n",
      "  Average training loss: 0.11\n",
      "  Training epcoh took: 0:02:56\n",
      "\n",
      "Running Validation...\n",
      "  Accuracy: 0.58\n",
      "  Validation Loss: 1.76\n",
      "  Validation took: 0:00:03\n",
      "\n",
      "======== Epoch 7 / 20 ========\n",
      "Training...\n",
      "  Batch    40  of    244.    Elapsed: 0:00:29.\n",
      "  Batch    80  of    244.    Elapsed: 0:00:58.\n",
      "  Batch   120  of    244.    Elapsed: 0:01:27.\n",
      "  Batch   160  of    244.    Elapsed: 0:01:56.\n",
      "  Batch   200  of    244.    Elapsed: 0:02:24.\n",
      "  Batch   240  of    244.    Elapsed: 0:02:53.\n",
      "\n",
      "  Average training loss: 0.08\n",
      "  Training epcoh took: 0:02:56\n",
      "\n",
      "Running Validation...\n",
      "  Accuracy: 0.58\n",
      "  Validation Loss: 2.15\n",
      "  Validation took: 0:00:03\n",
      "\n",
      "======== Epoch 8 / 20 ========\n",
      "Training...\n",
      "  Batch    40  of    244.    Elapsed: 0:00:29.\n",
      "  Batch    80  of    244.    Elapsed: 0:00:58.\n",
      "  Batch   120  of    244.    Elapsed: 0:01:27.\n",
      "  Batch   160  of    244.    Elapsed: 0:01:55.\n",
      "  Batch   200  of    244.    Elapsed: 0:02:24.\n",
      "  Batch   240  of    244.    Elapsed: 0:02:53.\n",
      "\n",
      "  Average training loss: 0.05\n",
      "  Training epcoh took: 0:02:56\n",
      "\n",
      "Running Validation...\n",
      "  Accuracy: 0.58\n",
      "  Validation Loss: 2.39\n",
      "  Validation took: 0:00:03\n",
      "\n",
      "======== Epoch 9 / 20 ========\n",
      "Training...\n",
      "  Batch    40  of    244.    Elapsed: 0:00:29.\n",
      "  Batch    80  of    244.    Elapsed: 0:00:58.\n",
      "  Batch   120  of    244.    Elapsed: 0:01:27.\n",
      "  Batch   160  of    244.    Elapsed: 0:01:55.\n",
      "  Batch   200  of    244.    Elapsed: 0:02:24.\n",
      "  Batch   240  of    244.    Elapsed: 0:02:53.\n",
      "\n",
      "  Average training loss: 0.04\n",
      "  Training epcoh took: 0:02:56\n",
      "\n",
      "Running Validation...\n",
      "  Accuracy: 0.61\n",
      "  Validation Loss: 2.72\n",
      "  Validation took: 0:00:03\n",
      "\n",
      "======== Epoch 10 / 20 ========\n",
      "Training...\n",
      "  Batch    40  of    244.    Elapsed: 0:00:29.\n",
      "  Batch    80  of    244.    Elapsed: 0:00:58.\n",
      "  Batch   120  of    244.    Elapsed: 0:01:27.\n",
      "  Batch   160  of    244.    Elapsed: 0:01:56.\n",
      "  Batch   200  of    244.    Elapsed: 0:02:24.\n",
      "  Batch   240  of    244.    Elapsed: 0:02:53.\n",
      "\n",
      "  Average training loss: 0.03\n",
      "  Training epcoh took: 0:02:56\n",
      "\n",
      "Running Validation...\n",
      "  Accuracy: 0.58\n",
      "  Validation Loss: 2.76\n",
      "  Validation took: 0:00:03\n",
      "\n",
      "======== Epoch 11 / 20 ========\n",
      "Training...\n",
      "  Batch    40  of    244.    Elapsed: 0:00:29.\n",
      "  Batch    80  of    244.    Elapsed: 0:00:58.\n",
      "  Batch   120  of    244.    Elapsed: 0:01:27.\n",
      "  Batch   160  of    244.    Elapsed: 0:01:55.\n",
      "  Batch   200  of    244.    Elapsed: 0:02:24.\n",
      "  Batch   240  of    244.    Elapsed: 0:02:53.\n",
      "\n",
      "  Average training loss: 0.02\n",
      "  Training epcoh took: 0:02:56\n",
      "\n",
      "Running Validation...\n",
      "  Accuracy: 0.60\n",
      "  Validation Loss: 2.88\n",
      "  Validation took: 0:00:03\n",
      "\n",
      "======== Epoch 12 / 20 ========\n",
      "Training...\n",
      "  Batch    40  of    244.    Elapsed: 0:00:29.\n",
      "  Batch    80  of    244.    Elapsed: 0:00:58.\n",
      "  Batch   120  of    244.    Elapsed: 0:01:27.\n",
      "  Batch   160  of    244.    Elapsed: 0:01:55.\n",
      "  Batch   200  of    244.    Elapsed: 0:02:24.\n",
      "  Batch   240  of    244.    Elapsed: 0:02:53.\n",
      "\n",
      "  Average training loss: 0.02\n",
      "  Training epcoh took: 0:02:56\n",
      "\n",
      "Running Validation...\n",
      "  Accuracy: 0.60\n",
      "  Validation Loss: 3.00\n",
      "  Validation took: 0:00:03\n",
      "\n",
      "======== Epoch 13 / 20 ========\n",
      "Training...\n",
      "  Batch    40  of    244.    Elapsed: 0:00:29.\n",
      "  Batch    80  of    244.    Elapsed: 0:00:58.\n",
      "  Batch   120  of    244.    Elapsed: 0:01:27.\n",
      "  Batch   160  of    244.    Elapsed: 0:01:55.\n",
      "  Batch   200  of    244.    Elapsed: 0:02:24.\n",
      "  Batch   240  of    244.    Elapsed: 0:02:53.\n",
      "\n",
      "  Average training loss: 0.02\n",
      "  Training epcoh took: 0:02:56\n",
      "\n",
      "Running Validation...\n",
      "  Accuracy: 0.58\n",
      "  Validation Loss: 2.93\n",
      "  Validation took: 0:00:03\n",
      "\n",
      "======== Epoch 14 / 20 ========\n",
      "Training...\n",
      "  Batch    40  of    244.    Elapsed: 0:00:29.\n",
      "  Batch    80  of    244.    Elapsed: 0:00:58.\n",
      "  Batch   120  of    244.    Elapsed: 0:01:27.\n",
      "  Batch   160  of    244.    Elapsed: 0:01:55.\n",
      "  Batch   200  of    244.    Elapsed: 0:02:24.\n",
      "  Batch   240  of    244.    Elapsed: 0:02:53.\n",
      "\n",
      "  Average training loss: 0.01\n",
      "  Training epcoh took: 0:02:56\n",
      "\n",
      "Running Validation...\n",
      "  Accuracy: 0.59\n",
      "  Validation Loss: 3.06\n",
      "  Validation took: 0:00:03\n",
      "\n",
      "======== Epoch 15 / 20 ========\n",
      "Training...\n",
      "  Batch    40  of    244.    Elapsed: 0:00:29.\n",
      "  Batch    80  of    244.    Elapsed: 0:00:58.\n",
      "  Batch   120  of    244.    Elapsed: 0:01:26.\n",
      "  Batch   160  of    244.    Elapsed: 0:01:55.\n",
      "  Batch   200  of    244.    Elapsed: 0:02:24.\n",
      "  Batch   240  of    244.    Elapsed: 0:02:53.\n",
      "\n",
      "  Average training loss: 0.01\n",
      "  Training epcoh took: 0:02:56\n",
      "\n",
      "Running Validation...\n",
      "  Accuracy: 0.60\n",
      "  Validation Loss: 3.10\n",
      "  Validation took: 0:00:03\n",
      "\n",
      "======== Epoch 16 / 20 ========\n",
      "Training...\n",
      "  Batch    40  of    244.    Elapsed: 0:00:29.\n",
      "  Batch    80  of    244.    Elapsed: 0:00:58.\n",
      "  Batch   120  of    244.    Elapsed: 0:01:26.\n",
      "  Batch   160  of    244.    Elapsed: 0:01:55.\n",
      "  Batch   200  of    244.    Elapsed: 0:02:24.\n",
      "  Batch   240  of    244.    Elapsed: 0:02:53.\n",
      "\n",
      "  Average training loss: 0.01\n",
      "  Training epcoh took: 0:02:56\n",
      "\n",
      "Running Validation...\n",
      "  Accuracy: 0.61\n",
      "  Validation Loss: 3.14\n",
      "  Validation took: 0:00:03\n",
      "\n",
      "======== Epoch 17 / 20 ========\n",
      "Training...\n",
      "  Batch    40  of    244.    Elapsed: 0:00:29.\n",
      "  Batch    80  of    244.    Elapsed: 0:00:58.\n",
      "  Batch   120  of    244.    Elapsed: 0:01:27.\n",
      "  Batch   160  of    244.    Elapsed: 0:01:55.\n",
      "  Batch   200  of    244.    Elapsed: 0:02:24.\n",
      "  Batch   240  of    244.    Elapsed: 0:02:53.\n",
      "\n",
      "  Average training loss: 0.00\n",
      "  Training epcoh took: 0:02:56\n",
      "\n",
      "Running Validation...\n",
      "  Accuracy: 0.62\n",
      "  Validation Loss: 3.39\n",
      "  Validation took: 0:00:03\n",
      "\n",
      "======== Epoch 18 / 20 ========\n",
      "Training...\n",
      "  Batch    40  of    244.    Elapsed: 0:00:29.\n",
      "  Batch    80  of    244.    Elapsed: 0:00:58.\n",
      "  Batch   120  of    244.    Elapsed: 0:01:27.\n",
      "  Batch   160  of    244.    Elapsed: 0:01:55.\n",
      "  Batch   200  of    244.    Elapsed: 0:02:24.\n",
      "  Batch   240  of    244.    Elapsed: 0:02:53.\n",
      "\n",
      "  Average training loss: 0.01\n",
      "  Training epcoh took: 0:02:56\n",
      "\n",
      "Running Validation...\n",
      "  Accuracy: 0.60\n",
      "  Validation Loss: 3.29\n",
      "  Validation took: 0:00:03\n",
      "\n",
      "======== Epoch 19 / 20 ========\n",
      "Training...\n",
      "  Batch    40  of    244.    Elapsed: 0:00:29.\n",
      "  Batch    80  of    244.    Elapsed: 0:00:58.\n",
      "  Batch   120  of    244.    Elapsed: 0:01:26.\n",
      "  Batch   160  of    244.    Elapsed: 0:01:55.\n",
      "  Batch   200  of    244.    Elapsed: 0:02:24.\n",
      "  Batch   240  of    244.    Elapsed: 0:02:53.\n",
      "\n",
      "  Average training loss: 0.01\n",
      "  Training epcoh took: 0:02:56\n",
      "\n",
      "Running Validation...\n",
      "  Accuracy: 0.61\n",
      "  Validation Loss: 3.35\n",
      "  Validation took: 0:00:03\n",
      "\n",
      "======== Epoch 20 / 20 ========\n",
      "Training...\n",
      "  Batch    40  of    244.    Elapsed: 0:00:29.\n",
      "  Batch    80  of    244.    Elapsed: 0:00:58.\n",
      "  Batch   120  of    244.    Elapsed: 0:01:27.\n",
      "  Batch   160  of    244.    Elapsed: 0:01:55.\n",
      "  Batch   200  of    244.    Elapsed: 0:02:24.\n",
      "  Batch   240  of    244.    Elapsed: 0:02:53.\n",
      "\n",
      "  Average training loss: 0.00\n",
      "  Training epcoh took: 0:02:56\n",
      "\n",
      "Running Validation...\n",
      "  Accuracy: 0.61\n",
      "  Validation Loss: 3.29\n",
      "  Validation took: 0:00:03\n",
      "\n",
      "Training complete!\n",
      "Total training took 0:59:44 (h:mm:ss)\n"
     ]
    }
   ],
   "source": [
    "import random\n",
    "import numpy as np\n",
    "\n",
    "# This training code is based on the `run_glue.py` script here:\n",
    "# https://github.com/huggingface/transformers/blob/5bfcd0485ece086ebcbed2d008813037968a9e58/examples/run_glue.py#L128\n",
    "\n",
    "# Set the seed value all over the place to make this reproducible.\n",
    "seed_val = 42\n",
    "\n",
    "random.seed(seed_val)\n",
    "np.random.seed(seed_val)\n",
    "torch.manual_seed(seed_val)\n",
    "torch.cuda.manual_seed_all(seed_val)\n",
    "\n",
    "# We'll store a number of quantities such as training and validation loss, \n",
    "# validation accuracy, and timings.\n",
    "training_stats = []\n",
    "\n",
    "# Measure the total training time for the whole run.\n",
    "total_t0 = time.time()\n",
    "\n",
    "# For each epoch...\n",
    "for epoch_i in range(0, epochs):\n",
    "    \n",
    "    # ========================================\n",
    "    #               Training\n",
    "    # ========================================\n",
    "    \n",
    "    # Perform one full pass over the training set.\n",
    "\n",
    "    print(\"\")\n",
    "    print('======== Epoch {:} / {:} ========'.format(epoch_i + 1, epochs))\n",
    "    print('Training...')\n",
    "\n",
    "    # Measure how long the training epoch takes.\n",
    "    t0 = time.time()\n",
    "\n",
    "    # Reset the total loss for this epoch.\n",
    "    total_train_loss = 0\n",
    "\n",
    "    # Put the model into training mode. Don't be mislead--the call to \n",
    "    # `train` just changes the *mode*, it doesn't *perform* the training.\n",
    "    # `dropout` and `batchnorm` layers behave differently during training\n",
    "    # vs. test (source: https://stackoverflow.com/questions/51433378/what-does-model-train-do-in-pytorch)\n",
    "    model.train()\n",
    "\n",
    "    # For each batch of training data...\n",
    "    for step, batch in enumerate(train_dataloader):\n",
    "\n",
    "        # Progress update every 40 batches.\n",
    "        if step % 40 == 0 and not step == 0:\n",
    "            # Calculate elapsed time in minutes.\n",
    "            elapsed = format_time(time.time() - t0)\n",
    "            \n",
    "            # Report progress.\n",
    "            print('  Batch {:>5,}  of  {:>5,}.    Elapsed: {:}.'.format(step, len(train_dataloader), elapsed))\n",
    "\n",
    "        # Unpack this training batch from our dataloader. \n",
    "        #\n",
    "        # As we unpack the batch, we'll also copy each tensor to the GPU using the \n",
    "        # `to` method.\n",
    "        #\n",
    "        # `batch` contains three pytorch tensors:\n",
    "        #   [0]: input ids \n",
    "        #   [1]: attention masks\n",
    "        #   [2]: labels \n",
    "        b_input_ids = batch[0].to(device)\n",
    "        b_input_mask = batch[1].to(device)\n",
    "        b_labels = batch[2].to(device)\n",
    "\n",
    "        # Always clear any previously calculated gradients before performing a\n",
    "        # backward pass. PyTorch doesn't do this automatically because \n",
    "        # accumulating the gradients is \"convenient while training RNNs\". \n",
    "        # (source: https://stackoverflow.com/questions/48001598/why-do-we-need-to-call-zero-grad-in-pytorch)\n",
    "        model.zero_grad()        \n",
    "\n",
    "        # Perform a forward pass (evaluate the model on this training batch).\n",
    "        # The documentation for this `model` function is here: \n",
    "        # https://huggingface.co/transformers/v2.2.0/model_doc/bert.html#transformers.BertForSequenceClassification\n",
    "        # It returns different numbers of parameters depending on what arguments\n",
    "        # arge given and what flags are set. For our useage here, it returns\n",
    "        # the loss (because we provided labels) and the \"logits\"--the model\n",
    "        # outputs prior to activation.\n",
    "        loss, logits = model(b_input_ids, \n",
    "                             token_type_ids=None, \n",
    "                             attention_mask=b_input_mask, \n",
    "                             labels=b_labels)\n",
    "\n",
    "        # Accumulate the training loss over all of the batches so that we can\n",
    "        # calculate the average loss at the end. `loss` is a Tensor containing a\n",
    "        # single value; the `.item()` function just returns the Python value \n",
    "        # from the tensor.\n",
    "        total_train_loss += loss.item()\n",
    "\n",
    "        # Perform a backward pass to calculate the gradients.\n",
    "        loss.backward()\n",
    "\n",
    "        # Clip the norm of the gradients to 1.0.\n",
    "        # This is to help prevent the \"exploding gradients\" problem.\n",
    "        torch.nn.utils.clip_grad_norm_(model.parameters(), 1.0)\n",
    "\n",
    "        # Update parameters and take a step using the computed gradient.\n",
    "        # The optimizer dictates the \"update rule\"--how the parameters are\n",
    "        # modified based on their gradients, the learning rate, etc.\n",
    "        optimizer.step()\n",
    "\n",
    "        # Update the learning rate.\n",
    "        scheduler.step()\n",
    "\n",
    "    # Calculate the average loss over all of the batches.\n",
    "    avg_train_loss = total_train_loss / len(train_dataloader)            \n",
    "    \n",
    "    # Measure how long this epoch took.\n",
    "    training_time = format_time(time.time() - t0)\n",
    "\n",
    "    print(\"\")\n",
    "    print(\"  Average training loss: {0:.2f}\".format(avg_train_loss))\n",
    "    print(\"  Training epcoh took: {:}\".format(training_time))\n",
    "        \n",
    "    # ========================================\n",
    "    #               Validation\n",
    "    # ========================================\n",
    "    # After the completion of each training epoch, measure our performance on\n",
    "    # our validation set.\n",
    "\n",
    "    print(\"\")\n",
    "    print(\"Running Validation...\")\n",
    "\n",
    "    t0 = time.time()\n",
    "\n",
    "    # Put the model in evaluation mode--the dropout layers behave differently\n",
    "    # during evaluation.\n",
    "    model.eval()\n",
    "\n",
    "    # Tracking variables \n",
    "    total_eval_accuracy = 0\n",
    "    total_eval_loss = 0\n",
    "    nb_eval_steps = 0\n",
    "\n",
    "    # Evaluate data for one epoch\n",
    "    for batch in validation_dataloader:\n",
    "        \n",
    "        # Unpack this training batch from our dataloader. \n",
    "        #\n",
    "        # As we unpack the batch, we'll also copy each tensor to the GPU using \n",
    "        # the `to` method.\n",
    "        #\n",
    "        # `batch` contains three pytorch tensors:\n",
    "        #   [0]: input ids \n",
    "        #   [1]: attention masks\n",
    "        #   [2]: labels \n",
    "        b_input_ids = batch[0].to(device)\n",
    "        b_input_mask = batch[1].to(device)\n",
    "        b_labels = batch[2].to(device)\n",
    "        \n",
    "        # Tell pytorch not to bother with constructing the compute graph during\n",
    "        # the forward pass, since this is only needed for backprop (training).\n",
    "        with torch.no_grad():        \n",
    "\n",
    "            # Forward pass, calculate logit predictions.\n",
    "            # token_type_ids is the same as the \"segment ids\", which \n",
    "            # differentiates sentence 1 and 2 in 2-sentence tasks.\n",
    "            # The documentation for this `model` function is here: \n",
    "            # https://huggingface.co/transformers/v2.2.0/model_doc/bert.html#transformers.BertForSequenceClassification\n",
    "            # Get the \"logits\" output by the model. The \"logits\" are the output\n",
    "            # values prior to applying an activation function like the softmax.\n",
    "            (loss, logits) = model(b_input_ids, \n",
    "                                   token_type_ids=None, \n",
    "                                   attention_mask=b_input_mask,\n",
    "                                   labels=b_labels)\n",
    "            \n",
    "        # Accumulate the validation loss.\n",
    "        total_eval_loss += loss.item()\n",
    "\n",
    "        # Move logits and labels to CPU\n",
    "        logits = logits.detach().cpu().numpy()\n",
    "        label_ids = b_labels.to('cpu').numpy()\n",
    "\n",
    "        # Calculate the accuracy for this batch of test sentences, and\n",
    "        # accumulate it over all batches.\n",
    "        total_eval_accuracy += flat_accuracy(logits, label_ids)\n",
    "        \n",
    "\n",
    "    # Report the final accuracy for this validation run.\n",
    "    avg_val_accuracy = total_eval_accuracy / len(validation_dataloader)\n",
    "    print(\"  Accuracy: {0:.2f}\".format(avg_val_accuracy))\n",
    "\n",
    "    # Calculate the average loss over all of the batches.\n",
    "    avg_val_loss = total_eval_loss / len(validation_dataloader)\n",
    "    \n",
    "    # Measure how long the validation run took.\n",
    "    validation_time = format_time(time.time() - t0)\n",
    "    \n",
    "    print(\"  Validation Loss: {0:.2f}\".format(avg_val_loss))\n",
    "    print(\"  Validation took: {:}\".format(validation_time))\n",
    "\n",
    "    # Record all statistics from this epoch.\n",
    "    training_stats.append(\n",
    "        {\n",
    "            'epoch': epoch_i + 1,\n",
    "            'Training Loss': avg_train_loss,\n",
    "            'Valid. Loss': avg_val_loss,\n",
    "            'Valid. Accur.': avg_val_accuracy,\n",
    "            'Training Time': training_time,\n",
    "            'Validation Time': validation_time\n",
    "        }\n",
    "    )\n",
    "\n",
    "print(\"\")\n",
    "print(\"Training complete!\")\n",
    "\n",
    "print(\"Total training took {:} (h:mm:ss)\".format(format_time(time.time()-total_t0)))"
   ]
  },
  {
   "cell_type": "code",
   "execution_count": 126,
   "metadata": {
    "colab": {
     "base_uri": "https://localhost:8080/",
     "height": 669
    },
    "colab_type": "code",
    "executionInfo": {
     "elapsed": 3625393,
     "status": "ok",
     "timestamp": 1591235084121,
     "user": {
      "displayName": "Hazem Chammakhi",
      "photoUrl": "https://lh3.googleusercontent.com/a-/AOh14GiP5klJUSuqjAChhuwqzEnxXzew5v2URDg6CNL0EQ=s64",
      "userId": "08952056812268085529"
     },
     "user_tz": -60
    },
    "id": "ZIsI_e3emeVY",
    "outputId": "628ea655-a4b1-407a-fea4-a8a473afa7ce"
   },
   "outputs": [
    {
     "data": {
      "text/html": [
       "<div>\n",
       "<style scoped>\n",
       "    .dataframe tbody tr th:only-of-type {\n",
       "        vertical-align: middle;\n",
       "    }\n",
       "\n",
       "    .dataframe tbody tr th {\n",
       "        vertical-align: top;\n",
       "    }\n",
       "\n",
       "    .dataframe thead th {\n",
       "        text-align: right;\n",
       "    }\n",
       "</style>\n",
       "<table border=\"1\" class=\"dataframe\">\n",
       "  <thead>\n",
       "    <tr style=\"text-align: right;\">\n",
       "      <th></th>\n",
       "      <th>Training Loss</th>\n",
       "      <th>Valid. Loss</th>\n",
       "      <th>Valid. Accur.</th>\n",
       "      <th>Training Time</th>\n",
       "      <th>Validation Time</th>\n",
       "    </tr>\n",
       "    <tr>\n",
       "      <th>epoch</th>\n",
       "      <th></th>\n",
       "      <th></th>\n",
       "      <th></th>\n",
       "      <th></th>\n",
       "      <th></th>\n",
       "    </tr>\n",
       "  </thead>\n",
       "  <tbody>\n",
       "    <tr>\n",
       "      <th>1</th>\n",
       "      <td>6.74e-01</td>\n",
       "      <td>0.67</td>\n",
       "      <td>0.62</td>\n",
       "      <td>0:02:56</td>\n",
       "      <td>0:00:03</td>\n",
       "    </tr>\n",
       "    <tr>\n",
       "      <th>2</th>\n",
       "      <td>6.50e-01</td>\n",
       "      <td>0.68</td>\n",
       "      <td>0.57</td>\n",
       "      <td>0:02:56</td>\n",
       "      <td>0:00:03</td>\n",
       "    </tr>\n",
       "    <tr>\n",
       "      <th>3</th>\n",
       "      <td>5.70e-01</td>\n",
       "      <td>0.72</td>\n",
       "      <td>0.60</td>\n",
       "      <td>0:02:56</td>\n",
       "      <td>0:00:03</td>\n",
       "    </tr>\n",
       "    <tr>\n",
       "      <th>4</th>\n",
       "      <td>3.73e-01</td>\n",
       "      <td>0.90</td>\n",
       "      <td>0.59</td>\n",
       "      <td>0:02:56</td>\n",
       "      <td>0:00:03</td>\n",
       "    </tr>\n",
       "    <tr>\n",
       "      <th>5</th>\n",
       "      <td>1.97e-01</td>\n",
       "      <td>1.22</td>\n",
       "      <td>0.58</td>\n",
       "      <td>0:02:56</td>\n",
       "      <td>0:00:03</td>\n",
       "    </tr>\n",
       "    <tr>\n",
       "      <th>6</th>\n",
       "      <td>1.06e-01</td>\n",
       "      <td>1.76</td>\n",
       "      <td>0.58</td>\n",
       "      <td>0:02:56</td>\n",
       "      <td>0:00:03</td>\n",
       "    </tr>\n",
       "    <tr>\n",
       "      <th>7</th>\n",
       "      <td>7.81e-02</td>\n",
       "      <td>2.15</td>\n",
       "      <td>0.58</td>\n",
       "      <td>0:02:56</td>\n",
       "      <td>0:00:03</td>\n",
       "    </tr>\n",
       "    <tr>\n",
       "      <th>8</th>\n",
       "      <td>4.82e-02</td>\n",
       "      <td>2.39</td>\n",
       "      <td>0.58</td>\n",
       "      <td>0:02:56</td>\n",
       "      <td>0:00:03</td>\n",
       "    </tr>\n",
       "    <tr>\n",
       "      <th>9</th>\n",
       "      <td>3.84e-02</td>\n",
       "      <td>2.72</td>\n",
       "      <td>0.61</td>\n",
       "      <td>0:02:56</td>\n",
       "      <td>0:00:03</td>\n",
       "    </tr>\n",
       "    <tr>\n",
       "      <th>10</th>\n",
       "      <td>3.27e-02</td>\n",
       "      <td>2.76</td>\n",
       "      <td>0.58</td>\n",
       "      <td>0:02:56</td>\n",
       "      <td>0:00:03</td>\n",
       "    </tr>\n",
       "    <tr>\n",
       "      <th>11</th>\n",
       "      <td>1.73e-02</td>\n",
       "      <td>2.88</td>\n",
       "      <td>0.60</td>\n",
       "      <td>0:02:56</td>\n",
       "      <td>0:00:03</td>\n",
       "    </tr>\n",
       "    <tr>\n",
       "      <th>12</th>\n",
       "      <td>1.53e-02</td>\n",
       "      <td>3.00</td>\n",
       "      <td>0.60</td>\n",
       "      <td>0:02:56</td>\n",
       "      <td>0:00:03</td>\n",
       "    </tr>\n",
       "    <tr>\n",
       "      <th>13</th>\n",
       "      <td>1.74e-02</td>\n",
       "      <td>2.93</td>\n",
       "      <td>0.58</td>\n",
       "      <td>0:02:56</td>\n",
       "      <td>0:00:03</td>\n",
       "    </tr>\n",
       "    <tr>\n",
       "      <th>14</th>\n",
       "      <td>1.23e-02</td>\n",
       "      <td>3.06</td>\n",
       "      <td>0.59</td>\n",
       "      <td>0:02:56</td>\n",
       "      <td>0:00:03</td>\n",
       "    </tr>\n",
       "    <tr>\n",
       "      <th>15</th>\n",
       "      <td>9.94e-03</td>\n",
       "      <td>3.10</td>\n",
       "      <td>0.60</td>\n",
       "      <td>0:02:56</td>\n",
       "      <td>0:00:03</td>\n",
       "    </tr>\n",
       "    <tr>\n",
       "      <th>16</th>\n",
       "      <td>7.44e-03</td>\n",
       "      <td>3.14</td>\n",
       "      <td>0.61</td>\n",
       "      <td>0:02:56</td>\n",
       "      <td>0:00:03</td>\n",
       "    </tr>\n",
       "    <tr>\n",
       "      <th>17</th>\n",
       "      <td>3.77e-03</td>\n",
       "      <td>3.39</td>\n",
       "      <td>0.62</td>\n",
       "      <td>0:02:56</td>\n",
       "      <td>0:00:03</td>\n",
       "    </tr>\n",
       "    <tr>\n",
       "      <th>18</th>\n",
       "      <td>9.05e-03</td>\n",
       "      <td>3.29</td>\n",
       "      <td>0.60</td>\n",
       "      <td>0:02:56</td>\n",
       "      <td>0:00:03</td>\n",
       "    </tr>\n",
       "    <tr>\n",
       "      <th>19</th>\n",
       "      <td>6.32e-03</td>\n",
       "      <td>3.35</td>\n",
       "      <td>0.61</td>\n",
       "      <td>0:02:56</td>\n",
       "      <td>0:00:03</td>\n",
       "    </tr>\n",
       "    <tr>\n",
       "      <th>20</th>\n",
       "      <td>3.76e-03</td>\n",
       "      <td>3.29</td>\n",
       "      <td>0.61</td>\n",
       "      <td>0:02:56</td>\n",
       "      <td>0:00:03</td>\n",
       "    </tr>\n",
       "  </tbody>\n",
       "</table>\n",
       "</div>"
      ],
      "text/plain": [
       "       Training Loss  Valid. Loss  Valid. Accur. Training Time Validation Time\n",
       "epoch                                                                         \n",
       "1           6.74e-01         0.67           0.62       0:02:56         0:00:03\n",
       "2           6.50e-01         0.68           0.57       0:02:56         0:00:03\n",
       "3           5.70e-01         0.72           0.60       0:02:56         0:00:03\n",
       "4           3.73e-01         0.90           0.59       0:02:56         0:00:03\n",
       "5           1.97e-01         1.22           0.58       0:02:56         0:00:03\n",
       "6           1.06e-01         1.76           0.58       0:02:56         0:00:03\n",
       "7           7.81e-02         2.15           0.58       0:02:56         0:00:03\n",
       "8           4.82e-02         2.39           0.58       0:02:56         0:00:03\n",
       "9           3.84e-02         2.72           0.61       0:02:56         0:00:03\n",
       "10          3.27e-02         2.76           0.58       0:02:56         0:00:03\n",
       "11          1.73e-02         2.88           0.60       0:02:56         0:00:03\n",
       "12          1.53e-02         3.00           0.60       0:02:56         0:00:03\n",
       "13          1.74e-02         2.93           0.58       0:02:56         0:00:03\n",
       "14          1.23e-02         3.06           0.59       0:02:56         0:00:03\n",
       "15          9.94e-03         3.10           0.60       0:02:56         0:00:03\n",
       "16          7.44e-03         3.14           0.61       0:02:56         0:00:03\n",
       "17          3.77e-03         3.39           0.62       0:02:56         0:00:03\n",
       "18          9.05e-03         3.29           0.60       0:02:56         0:00:03\n",
       "19          6.32e-03         3.35           0.61       0:02:56         0:00:03\n",
       "20          3.76e-03         3.29           0.61       0:02:56         0:00:03"
      ]
     },
     "execution_count": 126,
     "metadata": {
      "tags": []
     },
     "output_type": "execute_result"
    }
   ],
   "source": [
    "# Display floats with two decimal places.\n",
    "pd.set_option('precision', 2)\n",
    "\n",
    "# Create a DataFrame from our training statistics.\n",
    "df_stats = pd.DataFrame(data=training_stats)\n",
    "\n",
    "# Use the 'epoch' as the row index.\n",
    "df_stats = df_stats.set_index('epoch')\n",
    "\n",
    "# A hack to force the column headers to wrap.\n",
    "#df = df.style.set_table_styles([dict(selector=\"th\",props=[('max-width', '70px')])])\n",
    "\n",
    "# Display the table.\n",
    "df_stats"
   ]
  },
  {
   "cell_type": "markdown",
   "metadata": {
    "colab_type": "text",
    "id": "9lQdkRIh6kM-"
   },
   "source": []
  },
  {
   "cell_type": "code",
   "execution_count": 127,
   "metadata": {
    "colab": {
     "base_uri": "https://localhost:8080/",
     "height": 427
    },
    "colab_type": "code",
    "executionInfo": {
     "elapsed": 3625103,
     "status": "ok",
     "timestamp": 1591235084122,
     "user": {
      "displayName": "Hazem Chammakhi",
      "photoUrl": "https://lh3.googleusercontent.com/a-/AOh14GiP5klJUSuqjAChhuwqzEnxXzew5v2URDg6CNL0EQ=s64",
      "userId": "08952056812268085529"
     },
     "user_tz": -60
    },
    "id": "r4JkbCZCmgnM",
    "outputId": "2e9f0d1b-fc95-4e7a-82e0-fdd98404295f"
   },
   "outputs": [
    {
     "data": {
      "image/png": "[encoded data removed]",
      "text/plain": [
       "<Figure size 864x432 with 1 Axes>"
      ]
     },
     "metadata": {
      "tags": []
     },
     "output_type": "display_data"
    }
   ],
   "source": [
    "import matplotlib.pyplot as plt\n",
    "% matplotlib inline\n",
    "\n",
    "import seaborn as sns\n",
    "\n",
    "# Use plot styling from seaborn.\n",
    "sns.set(style='darkgrid')\n",
    "\n",
    "# Increase the plot size and font size.\n",
    "sns.set(font_scale=1.5)\n",
    "plt.rcParams[\"figure.figsize\"] = (12,6)\n",
    "\n",
    "# Plot the learning curve.\n",
    "plt.plot(df_stats['Training Loss'], 'b-o', label=\"Training\")\n",
    "plt.plot(df_stats['Valid. Loss'], 'g-o', label=\"Validation\")\n",
    "\n",
    "# Label the plot.\n",
    "plt.title(\"Training & Validation Loss\")\n",
    "plt.xlabel(\"Epoch\")\n",
    "plt.ylabel(\"Loss\")\n",
    "plt.legend()\n",
    "plt.xticks([1, 2, 3, 4])\n",
    "\n",
    "plt.show()"
   ]
  },
  {
   "cell_type": "code",
   "execution_count": 128,
   "metadata": {
    "colab": {
     "base_uri": "https://localhost:8080/",
     "height": 50
    },
    "colab_type": "code",
    "executionInfo": {
     "elapsed": 3628441,
     "status": "ok",
     "timestamp": 1591235087612,
     "user": {
      "displayName": "Hazem Chammakhi",
      "photoUrl": "https://lh3.googleusercontent.com/a-/AOh14GiP5klJUSuqjAChhuwqzEnxXzew5v2URDg6CNL0EQ=s64",
      "userId": "08952056812268085529"
     },
     "user_tz": -60
    },
    "id": "dDAe-vQaQsxj",
    "outputId": "a5250a55-483e-41f6-e82a-e8dc9eae9348"
   },
   "outputs": [
    {
     "name": "stdout",
     "output_type": "stream",
     "text": [
      "Predicting labels for 434 test sentences...\n",
      "    DONE.\n"
     ]
    }
   ],
   "source": [
    "# Prediction on test set\n",
    "\n",
    "print('Predicting labels for {:,} test sentences...'.format(test_size))\n",
    "\n",
    "# Put model in evaluation mode\n",
    "model.eval()\n",
    "\n",
    "# Tracking variables \n",
    "predictions , true_labels = [], []\n",
    "\n",
    "# Predict \n",
    "for batch in test_dataloader:\n",
    "  # Add batch to GPU\n",
    "  batch = tuple(t.to(device) for t in batch)\n",
    "  \n",
    "  # Unpack the inputs from our dataloader\n",
    "  b_input_ids, b_input_mask, b_labels = batch\n",
    "  \n",
    "  # Telling the model not to compute or store gradients, saving memory and \n",
    "  # speeding up prediction\n",
    "  with torch.no_grad():\n",
    "      # Forward pass, calculate logit predictions\n",
    "      outputs = model(b_input_ids, token_type_ids=None, \n",
    "                      attention_mask=b_input_mask)\n",
    "  logits = outputs[0]\n",
    "\n",
    "  # Move logits and labels to CPU\n",
    "  logits = logits.detach().cpu().numpy()\n",
    "  label_ids = b_labels.to('cpu').numpy()\n",
    "  \n",
    "  # Store predictions and true labels\n",
    "  predictions.append(logits)\n",
    "  true_labels.append(label_ids)\n",
    "\n",
    "print('    DONE.')"
   ]
  },
  {
   "cell_type": "code",
   "execution_count": 129,
   "metadata": {
    "colab": {
     "base_uri": "https://localhost:8080/",
     "height": 571
    },
    "colab_type": "code",
    "executionInfo": {
     "elapsed": 3628280,
     "status": "ok",
     "timestamp": 1591235087613,
     "user": {
      "displayName": "Hazem Chammakhi",
      "photoUrl": "https://lh3.googleusercontent.com/a-/AOh14GiP5klJUSuqjAChhuwqzEnxXzew5v2URDg6CNL0EQ=s64",
      "userId": "08952056812268085529"
     },
     "user_tz": -60
    },
    "id": "F4P3VRs4oIPu",
    "outputId": "8c7b70d7-574b-4ac7-80c7-1734b9b85a32"
   },
   "outputs": [
    {
     "name": "stdout",
     "output_type": "stream",
     "text": [
      "[[-5.1513925   4.508357  ]\n",
      " [-5.601084    4.96252   ]\n",
      " [ 5.116907   -4.4131436 ]\n",
      " [-4.9881997   4.511242  ]\n",
      " [ 5.0284843  -4.539204  ]\n",
      " [ 5.328793   -4.7154746 ]\n",
      " [-3.4290254   3.4764402 ]\n",
      " [-5.317391    4.848334  ]\n",
      " [-5.5436726   5.0465693 ]\n",
      " [-4.685353    4.586305  ]\n",
      " [-4.433523    4.2174973 ]\n",
      " [-4.890863    4.535632  ]\n",
      " [ 5.4514894  -4.6999426 ]\n",
      " [ 5.3440104  -4.6299634 ]\n",
      " [-5.0643487   4.5893598 ]\n",
      " [-5.671916    5.1387887 ]\n",
      " [-5.890126    5.1901803 ]\n",
      " [-5.391896    4.8328347 ]\n",
      " [ 5.097241   -4.349674  ]\n",
      " [-5.46473     4.848732  ]\n",
      " [ 5.438614   -4.718586  ]\n",
      " [-5.1224227   4.8041315 ]\n",
      " [-4.133472    3.775966  ]\n",
      " [-5.78429     5.1037755 ]\n",
      " [-0.17002629  0.48553503]\n",
      " [-5.2936373   4.9041247 ]\n",
      " [-1.2690505   1.4215579 ]\n",
      " [-5.4504213   4.9087873 ]\n",
      " [ 5.190393   -4.43857   ]\n",
      " [-5.755816    5.108345  ]\n",
      " [-5.8590226   4.961362  ]\n",
      " [ 5.0980444  -4.245174  ]]\n",
      "[1 0 0 1 0 1 1 1 0 1 0 1 1 0 1 1 1 1 0 1 1 0 0 0 0 0 0 0 1 0 1 1]\n"
     ]
    }
   ],
   "source": [
    "print(predictions[0]) \n",
    "print(true_labels[0])"
   ]
  },
  {
   "cell_type": "code",
   "execution_count": 130,
   "metadata": {
    "colab": {
     "base_uri": "https://localhost:8080/",
     "height": 269
    },
    "colab_type": "code",
    "executionInfo": {
     "elapsed": 3627852,
     "status": "ok",
     "timestamp": 1591235087614,
     "user": {
      "displayName": "Hazem Chammakhi",
      "photoUrl": "https://lh3.googleusercontent.com/a-/AOh14GiP5klJUSuqjAChhuwqzEnxXzew5v2URDg6CNL0EQ=s64",
      "userId": "08952056812268085529"
     },
     "user_tz": -60
    },
    "id": "KPRrYmToREHN",
    "outputId": "d46d067a-c5b1-4cdf-d9fc-b209facbd4ae"
   },
   "outputs": [
    {
     "name": "stdout",
     "output_type": "stream",
     "text": [
      "Calculating F1 Score for each batch...\n",
      "[1 1 0 1 0 0 1 1 1 1 1 1 0 0 1 1 1 1 0 1 0 1 1 1 1 1 1 1 0 1 1 0]\n",
      "[1 1 0 0 1 1 1 0 1 1 1 1 1 1 1 1 1 0 0 1 1 1 0 1 0 1 1 1 1 1 1 0]\n",
      "[1 1 1 1 1 0 1 1 1 1 1 1 1 1 1 1 1 1 1 1 1 1 1 1 1 1 1 1 1 1 1 1]\n",
      "[1 1 1 1 1 1 1 1 0 0 0 1 1 1 1 0 1 1 1 1 1 1 0 1 0 1 0 0 0 0 0 1]\n",
      "[1 1 0 0 1 0 1 0 1 1 0 0 1 1 0 0 1 0 1 0 0 1 1 1 1 1 0 1 0 1 0 1]\n",
      "[1 1 1 0 1 1 0 0 1 1 1 1 0 1 1 0 1 1 0 1 1 0 0 1 0 1 1 0 0 1 1 0]\n",
      "[1 1 1 1 0 0 1 0 1 1 1 1 1 1 1 1 1 0 1 1 1 1 1 1 1 1 1 1 1 0 1 1]\n",
      "[1 1 1 0 1 1 1 1 1 1 1 1 1 1 1 0 1 1 1 1 0 0 1 1 0 1 1 0 1 1 0 1]\n",
      "[1 1 1 1 1 1 1 1 1 0 1 1 1 1 0 1 1 1 1 0 1 0 1 0 1 1 1 1 1 1 1 1]\n",
      "[1 1 1 0 0 1 0 0 0 1 1 1 1 0 1 0 1 0 1 1 1 1 1 1 1 1 1 1 1 1 0 1]\n",
      "[1 1 0 1 1 0 0 1 1 1 1 0 0 0 1 1 1 1 0 1 1 1 1 1 1 1 1 1 1 0 1 1]\n",
      "[1 1 0 1 1 0 0 1 1 1 1 1 1 1 1 1 1 1 1 1 1 0 1 1 0 1 0 1 1 1 1 1]\n",
      "[0 0 0 1 1 1 1 1 0 1 1 1 0 1 1 1 1 1 1 0 1 1 1 0 1 1 1 0 1 1 1 0]\n",
      "[1 1 1 1 1 0 1 1 0 0 1 1 1 1 1 0 1 1]\n"
     ]
    }
   ],
   "source": [
    "from sklearn.metrics import matthews_corrcoef,f1_score\n",
    "\n",
    "f1_scr = []\n",
    "acc = []\n",
    "\n",
    "# Evaluate each test batch using Matthew's correlation coefficient\n",
    "print('Calculating F1 Score for each batch...')\n",
    "\n",
    "# For each input batch...\n",
    "for i in range(len(true_labels)):\n",
    "  acc_batch = 0\n",
    "  # The predictions for this batch are a 2-column ndarray (one column for \"0\" \n",
    "  # and one column for \"1\"). Pick the label with the highest value and turn this\n",
    "  # in to a list of 0s and 1s.\n",
    "  pred_labels_i = np.argmax(predictions[i], axis=1).flatten()\n",
    "  print(pred_labels_i)\n",
    "  for j in range(len(pred_labels_i)):\n",
    "    if (true_labels[i][j]==pred_labels_i[j]):\n",
    "      acc_batch+=1\n",
    "    acc_batch=acc_batch/len(pred_labels_i)\n",
    "    acc.append(acc_batch)\n",
    "  # Calculate and store the coef for this batch.  \n",
    "  f1 = f1_score(true_labels[i], pred_labels_i)                \n",
    "  f1_scr.append(f1)\n"
   ]
  },
  {
   "cell_type": "code",
   "execution_count": 131,
   "metadata": {
    "colab": {
     "base_uri": "https://localhost:8080/",
     "height": 87
    },
    "colab_type": "code",
    "executionInfo": {
     "elapsed": 3627546,
     "status": "ok",
     "timestamp": 1591235087615,
     "user": {
      "displayName": "Hazem Chammakhi",
      "photoUrl": "https://lh3.googleusercontent.com/a-/AOh14GiP5klJUSuqjAChhuwqzEnxXzew5v2URDg6CNL0EQ=s64",
      "userId": "08952056812268085529"
     },
     "user_tz": -60
    },
    "id": "8CYy5rYStj-T",
    "outputId": "2c3a50c9-7f15-4ea7-f9a1-64da4fb2e03a"
   },
   "outputs": [
    {
     "name": "stdout",
     "output_type": "stream",
     "text": [
      "14\n",
      "F1 Score per batch :  [0.6, 0.7906976744186046, 0.7692307692307692, 0.6500000000000001, 0.6842105263157895, 0.7027027027027027, 0.723404255319149, 0.7499999999999999, 0.76, 0.7555555555555555, 0.7906976744186046, 0.7916666666666666, 0.55, 0.64]\n",
      "Accuracy per batch :  [0.03125, 0.0009765625, 0.031280517578125, 0.032227516174316406, 0.03225710988044739, 0.0010080346837639809, 0.031281501083867624, 0.03222754690887086, 0.0010071108409022145, 0.031281472213778194, 0.0009775460066805686, 0.03128054831270877, 0.000977517134772149, 0.03128054741046163, 0.032227517106576925, 0.03225710990958053, 0.03225803468467439, 0.032258063583896074, 0.03225806448699675, 0.03225806451521865, 0.0010080645161005828, 3.150201612814321e-05, 9.844380040044754e-07, 3.0763687625139855e-08, 9.613652382856205e-10, 3.004266369642564e-11, 9.388332405133012e-13, 2.9338538766040664e-14, 9.168293364387707e-16, 2.8650916763711586e-17, 0.03125, 0.0009765625, 0.03125, 0.0322265625, 0.032257080078125, 0.032258033752441406, 0.032258063554763794, 0.03225806448608637, 0.0322580645151902, 0.0010080645160996937, 0.031281502016128115, 0.032227546938004004, 0.032257110841812625, 0.0010080347138066445, 0.03128150108480646, 0.0009775469089002018, 0.03128054834090313, 0.03222751713565322, 0.03225710991048916, 0.032258034684702785, 0.03225806358389696, 0.00100806448699678, 0.03128150201521865, 0.0009775469379755828, 0.03128054834181174, 0.0009775171356816168, 0.03128054741049005, 0.03222751710657781, 0.032257109909580556, 0.03225803468467439, 0.032258063583896074, 0.0010080644869967523, 3.150201521864851e-05, 9.84437975582766e-07, 0.03125, 0.0322265625, 0.001007080078125, 3.147125244140625e-05, 9.834766387939453e-07, 3.073364496231079e-08, 0.031250000960426405, 0.032226562530013325, 0.032257080079062916, 0.0010080337524707161, 0.03128150105476471, 0.032227546907961396, 0.03225711084087379, 0.001008034713777306, 3.150108480554081e-05, 9.844089001731504e-07, 0.03125003076277813, 0.032226563461336816, 0.0010070801081667755, 0.03128147125338021, 0.0009775459766681316, 0.03128054831177088, 0.03222751713474284, 0.03225710991046071, 0.0322580346847019, 0.0010080635838969343, 0.03128150198699678, 0.0009775469370936493, 0.031280548341784176, 0.032227517135680755, 0.03225710991049002, 0.03225803468470281, 0.03125, 0.0322265625, 0.032257080078125, 0.032258033752441406, 0.032258063554763794, 0.0010080644860863686, 0.0312815020151902, 0.0009775469379746937, 3.054834181170918e-05, 9.546356816159118e-07, 2.9832365050497245e-08, 9.32261407828039e-10, 0.03125000002913317, 0.0009765625009104115, 3.051757815345036e-05, 0.031250953674317294, 0.032226592302322415, 0.0010070810094475755, 0.03128147128154524, 0.03222754597754829, 0.001007110811798384, 3.14722128686995e-05, 0.03125098350665215, 0.03222659323458288, 0.032257081038580715, 0.03225803378245565, 0.001008063555701739, 3.150198611567934e-05, 0.031250984437066115, 0.000976593263658316, 0.03128051853948932, 0.03222751620435904, 0.03125, 0.0322265625, 0.001007080078125, 3.147125244140625e-05, 0.031250983476638794, 0.03222659323364496, 0.032257081038551405, 0.03225803378245473, 0.03225806355570171, 0.03225806448611568, 0.032258064515191115, 0.0010080645160997223, 3.150201612811632e-05, 0.031250984438004004, 0.032226593263687625, 0.0010070810394902383, 0.03128147128248407, 0.0009775459775776272, 3.054831179930085e-05, 9.546347437281515e-07, 0.03125002983233574, 0.000976563432260492, 3.051760725814037e-05, 0.03125095367522682, 0.03222659230235084, 0.03225708100944846, 0.032258033781545264, 0.0010080635556732895, 3.15019861147903e-05, 0.03125098443706609, 0.032226593263658315, 0.03225708103948932, 0.03125, 0.0322265625, 0.032257080078125, 0.032258033752441406, 0.032258063554763794, 0.0010080644860863686, 0.0312815020151902, 0.032227546937974694, 0.0010071108418117092, 0.031281472213806616, 0.03222754600668146, 0.0010071108127087955, 3.147221289714986e-05, 9.835066530359331e-07, 0.031250030734582906, 0.032226563460455715, 0.03225708010813924, 0.03225803375337935, 0.032258063554793104, 0.0010080644860872845, 3.150201519022764e-05, 0.031250984437974694, 0.0009765932636867092, 0.03128051853949021, 0.000977516204359069, 3.054738138622091e-05, 0.03125095460566832, 0.000976592331427135, 0.0312805185103571, 0.03222751620344866, 0.03225710988135777, 0.03225803468379243, 0.03125, 0.0322265625, 0.001007080078125, 0.031281471252441406, 0.032227545976638794, 0.03225711081176996, 0.03225803471286781, 0.001008063584777119, 0.031281501987024285, 0.000977546937094509, 0.0312805483417842, 0.0009775171356807564, 0.03128054741049002, 0.03222751710657781, 0.032257109909580556, 0.03225803468467439, 0.0010080635838960747, 3.1501986996752335e-05, 9.844370936485105e-07, 0.031250030763659176, 0.03222656346136435, 0.032257080108167635, 0.03225803375338024, 0.0010080635547931325, 3.150198608728539e-05, 9.844370652276684e-07, 3.076365828836464e-08, 0.03125000096136432, 0.000976562530042635, 3.0517579063832345e-05, 0.031250953674345744, 0.032226592302323304, 0.03125, 0.0009765625, 0.031280517578125, 0.0009775161743164062, 0.03128054738044739, 0.0009775171056389809, 3.054740955121815e-05, 0.031250954606548476, 0.03222659233145464, 0.03225708101035796, 0.032258033781573686, 0.0010080635556741777, 0.03128150198611482, 0.03222754693706609, 0.032257110841783315, 0.0010080347138057286, 0.03128150108480643, 0.0322275469089002, 0.0010071108409031313, 3.147221377822285e-05, 0.03125098350668057, 0.0009765932345837678, 0.03128051853858074, 0.03222751620433065, 0.03225710988138533, 0.0010080346837932916, 0.03128150108386854, 0.0009775469088708919, 0.031280548340902214, 0.032227517135653194, 0.0010071099104891623, 0.031281472184702785, 0.03125, 0.0322265625, 0.032257080078125, 0.032258033752441406, 0.001008063554763794, 3.150198608636856e-05, 0.0312509844370652, 0.0009765932636582875, 0.03128051853948932, 0.0009775162043590413, 3.054738138622004e-05, 0.03125095460566832, 0.000976592331427135, 0.0312805185103571, 0.0009775162034486593, 0.03128054738135777, 0.03222751710566743, 0.032257109909552106, 0.0322580346846735, 0.001008063583896047, 3.150198699675147e-05, 9.844370936484834e-07, 0.031250030763659176, 0.03222656346136435, 0.001007080108167636, 0.03128147125338024, 0.03222754597666813, 0.03225711081177088, 0.03225803471286784, 0.00100806358477712, 0.031281501987024285, 0.03222754693709451, 0.03125, 0.0322265625, 0.032257080078125, 0.032258033752441406, 0.032258063554763794, 0.0010080644860863686, 3.150201519019902e-05, 9.844379746937193e-07, 0.03125003076368671, 0.03222656346136521, 0.03225708010816766, 0.03225803375338024, 0.03225806355479313, 0.0010080644860872854, 0.03128150201519023, 0.032227546937974694, 0.03225711084181171, 0.001008034713806616, 3.150108480645675e-05, 9.844089002017734e-07, 0.03125003076277813, 0.0009765634613368166, 0.031280517608166775, 0.0009775161752552117, 0.031280547380476725, 0.0009775171056398977, 0.031280547409551246, 0.032227517106548476, 0.03225710990957964, 0.032258034684674364, 0.0010080635838960739, 0.03128150198699675, 0.0, 0.03125, 0.0009765625, 0.031280517578125, 0.032227516174316406, 0.03225710988044739, 0.0010080346837639809, 3.15010838676244e-05, 9.844088708632626e-07, 0.031250030762777214, 0.000976563461336788, 0.031280517608166775, 0.03222751617525521, 0.032257109880476725, 0.0322580346837649, 0.001008063583867653, 3.150198699586416e-05, 0.03125098443709362, 0.032226593263659176, 0.03225708103948935, 0.03225803378248404, 0.032258063555702626, 0.032258064486115706, 0.032258064515191115, 0.03225806451609972, 0.032258064516128115, 0.0010080645161290036, 0.03128150201612903, 0.03222754693800403, 0.032257110841812625, 0.032258034713806644, 0.03225806358480646, 0.03125, 0.0322265625, 0.001007080078125, 0.031281471252441406, 0.032227545976638794, 0.03225711081176996, 0.03225803471286781, 0.03225806358477712, 0.032258064487024285, 0.001008064515219509, 3.150201610060965e-05, 0.03125098443800314, 0.0009765932636875982, 0.03128051853949024, 0.00097751620435907, 0.03128054738138622, 0.03222751710566832, 0.032257109909552134, 0.0322580346846735, 0.032258063583896046, 0.03225806448699675, 0.0010080645152186485, 3.1502016100582765e-05, 0.03125098443800314, 0.0322265932636876, 0.0010070810394902374, 3.147128248406992e-05, 9.83477577627185e-07, 0.0312500307336743, 0.03222656346042732, 0.03225708010813835, 0.03225803375337932, 0.0, 0.0, 0.03125, 0.0322265625, 0.001007080078125, 3.147125244140625e-05, 9.834766387939453e-07, 0.03125003073364496, 0.000976563460426405, 0.031280517608138325, 0.03222751617525432, 0.0010071098804766976, 3.14721837648968e-05, 9.83505742653025e-07, 3.073455445790703e-08, 0.03125000096045483, 0.0009765625300142133, 0.031280517579062944, 0.000977516174345717, 0.031280547380448304, 0.0009775171056390095, 3.0547409551219047e-05, 0.031250954606548476, 0.0009765923314546399, 0.03128051851035796, 0.0009775162034486862, 0.03128054738135777, 0.03222751710566743, 0.032257109909552106, 0.0322580346846735, 0.001008063583896047, 3.150198699675147e-05, 0.05555555555555555, 0.05864197530864198, 0.05881344307270234, 0.0032674135040390187, 0.055737078528002165, 0.058652059918222345, 0.05881400332879013, 0.0032674446293772296, 0.0001815247016320683, 1.0084705646226017e-05, 5.602614247903342e-07, 0.05555558668119027, 0.058641977037843906, 0.0032578876132135504, 0.00018099375628964168, 1.0055208682757872e-05, 0.05555611417826015, 0.0030864507876811197]\n"
     ]
    }
   ],
   "source": [
    "print(len(f1_scr))\n",
    "print(\"F1 Score per batch : \",f1_scr)\n",
    "print(\"Accuracy per batch : \",acc)"
   ]
  },
  {
   "cell_type": "code",
   "execution_count": 132,
   "metadata": {
    "colab": {
     "base_uri": "https://localhost:8080/",
     "height": 50
    },
    "colab_type": "code",
    "executionInfo": {
     "elapsed": 3627167,
     "status": "ok",
     "timestamp": 1591235087615,
     "user": {
      "displayName": "Hazem Chammakhi",
      "photoUrl": "https://lh3.googleusercontent.com/a-/AOh14GiP5klJUSuqjAChhuwqzEnxXzew5v2URDg6CNL0EQ=s64",
      "userId": "08952056812268085529"
     },
     "user_tz": -60
    },
    "id": "KQ_ftBv5dLF7",
    "outputId": "f658e787-2c5c-4060-af05-5d7a63192f80"
   },
   "outputs": [
    {
     "name": "stdout",
     "output_type": "stream",
     "text": [
      "Average F1 Score : 0.7112975589019888\n",
      "Average Accuracy : 0.020297650776408972\n"
     ]
    }
   ],
   "source": [
    "print(\"Average F1 Score :\",sum(f1_scr)/len(f1_scr))\n",
    "print(\"Average Accuracy :\",sum(acc)/len(acc))"
   ]
  },
  {
   "cell_type": "code",
   "execution_count": 133,
   "metadata": {
    "colab": {
     "base_uri": "https://localhost:8080/",
     "height": 427
    },
    "colab_type": "code",
    "executionInfo": {
     "elapsed": 3626791,
     "status": "ok",
     "timestamp": 1591235087616,
     "user": {
      "displayName": "Hazem Chammakhi",
      "photoUrl": "https://lh3.googleusercontent.com/a-/AOh14GiP5klJUSuqjAChhuwqzEnxXzew5v2URDg6CNL0EQ=s64",
      "userId": "08952056812268085529"
     },
     "user_tz": -60
    },
    "id": "VkhXqM4jRK7Z",
    "outputId": "42487c92-5b88-4826-e4f6-9d552f26a8b5"
   },
   "outputs": [
    {
     "data": {
      "image/png": "[encoded data removed]",
      "text/plain": [
       "<Figure size 864x432 with 1 Axes>"
      ]
     },
     "metadata": {
      "tags": []
     },
     "output_type": "display_data"
    }
   ],
   "source": [
    "# Create a barplot showing the MCC score for each batch of test samples.\n",
    "ax = sns.barplot(x=list(range(len(f1_scr))), y=f1_scr, ci=None)\n",
    "\n",
    "plt.title('F1 Score per Batch')\n",
    "plt.ylabel('F1 Score (0 to 1)')\n",
    "plt.xlabel('Batch #')\n",
    "\n",
    "plt.show()"
   ]
  },
  {
   "cell_type": "code",
   "execution_count": 134,
   "metadata": {
    "colab": {
     "base_uri": "https://localhost:8080/",
     "height": 84
    },
    "colab_type": "code",
    "executionInfo": {
     "elapsed": 3627323,
     "status": "ok",
     "timestamp": 1591235088821,
     "user": {
      "displayName": "Hazem Chammakhi",
      "photoUrl": "https://lh3.googleusercontent.com/a-/AOh14GiP5klJUSuqjAChhuwqzEnxXzew5v2URDg6CNL0EQ=s64",
      "userId": "08952056812268085529"
     },
     "user_tz": -60
    },
    "id": "jmmefl9iRZjm",
    "outputId": "c9404bcb-fe2b-4c54-cd85-2a50516ecd1a"
   },
   "outputs": [
    {
     "name": "stdout",
     "output_type": "stream",
     "text": [
      "Saving model to ./model_save/\n"
     ]
    },
    {
     "data": {
      "text/plain": [
       "('./model_save/vocab.txt',\n",
       " './model_save/special_tokens_map.json',\n",
       " './model_save/added_tokens.json')"
      ]
     },
     "execution_count": 134,
     "metadata": {
      "tags": []
     },
     "output_type": "execute_result"
    }
   ],
   "source": [
    "import os\n",
    "\n",
    "# Saving best-practices: if you use defaults names for the model, you can reload it using from_pretrained()\n",
    "\n",
    "output_dir = './model_save/'\n",
    "\n",
    "# Create output directory if needed\n",
    "if not os.path.exists(output_dir):\n",
    "    os.makedirs(output_dir)\n",
    "\n",
    "print(\"Saving model to %s\" % output_dir)\n",
    "\n",
    "# Save a trained model, configuration and tokenizer using `save_pretrained()`.\n",
    "# They can then be reloaded using `from_pretrained()`\n",
    "model_to_save = model.module if hasattr(model, 'module') else model  # Take care of distributed/parallel training\n",
    "model_to_save.save_pretrained(output_dir)\n",
    "tokenizer.save_pretrained(output_dir)\n",
    "\n",
    "# Good practice: save your training arguments together with the trained model\n",
    "# torch.save(args, os.path.join(output_dir, 'training_args.bin'))"
   ]
  },
  {
   "cell_type": "code",
   "execution_count": 0,
   "metadata": {
    "colab": {},
    "colab_type": "code",
    "id": "VBM6NnN2diNO"
   },
   "outputs": [],
   "source": [
    "# Copy the model files to a directory in your Google Drive.\n",
    "!cp -r ./model_save/ \"./gdrive/My Drive/BERT J-P User Fine-Tuning/\""
   ]
  },
  {
   "cell_type": "code",
   "execution_count": 0,
   "metadata": {
    "colab": {
     "base_uri": "https://localhost:8080/",
     "height": 54
    },
    "colab_type": "code",
    "executionInfo": {
     "elapsed": 3636548,
     "status": "ok",
     "timestamp": 1591226527096,
     "user": {
      "displayName": "Hazem Chammakhi",
      "photoUrl": "https://lh3.googleusercontent.com/a-/AOh14GiP5klJUSuqjAChhuwqzEnxXzew5v2URDg6CNL0EQ=s64",
      "userId": "08952056812268085529"
     },
     "user_tz": -60
    },
    "id": "UXnHD23WRgzR",
    "outputId": "c06f696e-cace-4712-8c08-5252a3f0051d"
   },
   "outputs": [
    {
     "data": {
      "text/plain": [
       "'# Load a trained model and vocabulary that you have fine-tuned\\nmodel = model_class.from_pretrained(output_dir)\\ntokenizer = tokenizer_class.from_pretrained(output_dir)\\n\\n# Copy the model to the GPU.\\nmodel.to(device)'"
      ]
     },
     "execution_count": 69,
     "metadata": {
      "tags": []
     },
     "output_type": "execute_result"
    }
   ],
   "source": [
    "'''# Load a trained model and vocabulary that you have fine-tuned\n",
    "model = model_class.from_pretrained(output_dir)\n",
    "tokenizer = tokenizer_class.from_pretrained(output_dir)\n",
    "\n",
    "# Copy the model to the GPU.\n",
    "model.to(device)'''"
   ]
  },
  {
   "cell_type": "code",
   "execution_count": 0,
   "metadata": {
    "colab": {},
    "colab_type": "code",
    "id": "mgZupGpeCIwy"
   },
   "outputs": [],
   "source": []
  }
 ],
 "metadata": {
  "accelerator": "GPU",
  "colab": {
   "authorship_tag": "ABX9TyPtN6aOeMaX9By7Mqinne+F",
   "collapsed_sections": [],
   "name": "Bert User Personality Classification with Bert on PyTorch.ipynb",
   "provenance": [
    {
     "file_id": "173t5F2LS5G4-TNRMKeHRZgB2boMCefeI",
     "timestamp": 1591063124839
    }
   ],
   "toc_visible": true
  },
  "kernelspec": {
   "display_name": "Python 3",
   "language": "python",
   "name": "python3"
  },
  "language_info": {
   "codemirror_mode": {
    "name": "ipython",
    "version": 3
   },
   "file_extension": ".py",
   "mimetype": "text/x-python",
   "name": "python",
   "nbconvert_exporter": "python",
   "pygments_lexer": "ipython3",
   "version": "3.7.3"
  }
 },
 "nbformat": 4,
 "nbformat_minor": 1
}
