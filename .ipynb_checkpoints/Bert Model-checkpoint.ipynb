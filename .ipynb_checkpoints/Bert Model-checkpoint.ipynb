{
 "cells": [
  {
   "cell_type": "code",
   "execution_count": 2,
   "metadata": {},
   "outputs": [
    {
     "name": "stdout",
     "output_type": "stream",
     "text": [
      "Collecting bert-for-tf2\n",
      "  Downloading https://files.pythonhosted.org/packages/ff/84/1bea6c34d38f3e726830d3adeca76e6e901b98cf5babd635883dbedd7ecc/bert-for-tf2-0.14.1.tar.gz (40kB)\n",
      "Collecting py-params>=0.9.6 (from bert-for-tf2)\n",
      "  Downloading https://files.pythonhosted.org/packages/a4/bf/c1c70d5315a8677310ea10a41cfc41c5970d9b37c31f9c90d4ab98021fd1/py-params-0.9.7.tar.gz\n",
      "Collecting params-flow>=0.8.0 (from bert-for-tf2)\n",
      "  Downloading https://files.pythonhosted.org/packages/ac/0d/615c0d4aea541b4f47c761263809a02e160e7a2babd175f0ddd804776cf4/params-flow-0.8.0.tar.gz\n",
      "Requirement already satisfied: numpy in d:\\users\\shintaki\\anaconda3\\lib\\site-packages (from params-flow>=0.8.0->bert-for-tf2) (1.18.1)\n",
      "Requirement already satisfied: tqdm in d:\\users\\shintaki\\anaconda3\\lib\\site-packages (from params-flow>=0.8.0->bert-for-tf2) (4.31.1)\n",
      "Building wheels for collected packages: bert-for-tf2, py-params, params-flow\n",
      "  Building wheel for bert-for-tf2 (setup.py): started\n",
      "  Building wheel for bert-for-tf2 (setup.py): finished with status 'done'\n",
      "  Stored in directory: C:\\Users\\Shintaki\\AppData\\Local\\pip\\Cache\\wheels\\dd\\f1\\10\\861fd7899727e4034293fb1dfef45b00f8cd476d21d3b3821e\n",
      "  Building wheel for py-params (setup.py): started\n",
      "  Building wheel for py-params (setup.py): finished with status 'done'\n",
      "  Stored in directory: C:\\Users\\Shintaki\\AppData\\Local\\pip\\Cache\\wheels\\67\\f5\\19\\b461849a50aefdf4bab47c4756596e82ee2118b8278e5a1980\n",
      "  Building wheel for params-flow (setup.py): started\n",
      "  Building wheel for params-flow (setup.py): finished with status 'done'\n",
      "  Stored in directory: C:\\Users\\Shintaki\\AppData\\Local\\pip\\Cache\\wheels\\88\\41\\05\\1a9955d1d01575bbd58aab76e22f8c7eeabba905d551576f43\n",
      "Successfully built bert-for-tf2 py-params params-flow\n",
      "Installing collected packages: py-params, params-flow, bert-for-tf2\n",
      "Successfully installed bert-for-tf2-0.14.1 params-flow-0.8.0 py-params-0.9.7\n"
     ]
    }
   ],
   "source": [
    "!pip install bert-for-tf2"
   ]
  },
  {
   "cell_type": "code",
   "execution_count": 47,
   "metadata": {},
   "outputs": [],
   "source": [
    "import bert\n",
    "from bert import BertModelLayer\n",
    "from bert.loader import StockBertConfig, map_stock_config_to_params, load_stock_weights\n",
    "from bert.tokenization.bert_tokenization import FullTokenizer\n",
    "import tensorflow as tf\n",
    "from tensorflow import keras\n",
    "import pandas as pd\n",
    "import numpy as np\n",
    "import re\n",
    "import seaborn as sns\n",
    "from pylab import rcParams\n",
    "import matplotlib.pyplot as plt\n",
    "from matplotlib.ticker import MaxNLocator\n",
    "from matplotlib import rc"
   ]
  },
  {
   "cell_type": "code",
   "execution_count": 48,
   "metadata": {},
   "outputs": [],
   "source": [
    "RANDOM_SEED = 42\n",
    "\n",
    "np.random.seed(RANDOM_SEED)\n",
    "tf.random.set_seed(RANDOM_SEED)"
   ]
  },
  {
   "cell_type": "code",
   "execution_count": 49,
   "metadata": {},
   "outputs": [
    {
     "name": "stdout",
     "output_type": "stream",
     "text": [
      "   type                                              posts\n",
      "0  INFJ  'http://www.youtube.com/watch?v=qsXHcwe3krw|||...\n",
      "1  ENTP  'I'm finding the lack of me in these posts ver...\n",
      "2  INTP  'Good one  _____   https://www.youtube.com/wat...\n",
      "3  INTJ  'Dear INTP,   I enjoyed our conversation the o...\n",
      "4  ENTJ  'You're fired.|||That's another silly misconce...\n"
     ]
    }
   ],
   "source": [
    "data = pd.read_csv(\"./dataset/dataset.csv\")\n",
    "print(data.head())"
   ]
  },
  {
   "cell_type": "code",
   "execution_count": 50,
   "metadata": {},
   "outputs": [
    {
     "data": {
      "image/png": "[encoded data removed]",
      "text/plain": [
       "<Figure size 432x288 with 1 Axes>"
      ]
     },
     "metadata": {
      "needs_background": "light"
     },
     "output_type": "display_data"
    }
   ],
   "source": [
    "chart = sns.countplot(data.type)\n",
    "plt.title(\"Number of users per personality\")\n",
    "chart.set_xticklabels(chart.get_xticklabels(), rotation=30, horizontalalignment='right');"
   ]
  },
  {
   "cell_type": "code",
   "execution_count": 51,
   "metadata": {},
   "outputs": [],
   "source": [
    "b_Pers = {'I':0, 'E':1, 'N':0, 'S':1, 'F':0, 'T':1, 'J':0, 'P':1}\n",
    "def translate_personality(personality):\n",
    "    # transform mbti to binary vector\n",
    "    \n",
    "    return [b_Pers[l] for l in personality]"
   ]
  },
  {
   "cell_type": "code",
   "execution_count": 55,
   "metadata": {},
   "outputs": [],
   "source": [
    "# We want to remove these from the posts\n",
    "unique_type_list = ['INFJ', 'ENTP', 'INTP', 'INTJ', 'ENTJ', 'ENFJ', 'INFP', 'ENFP',\n",
    "       'ISFP', 'ISTP', 'ISFJ', 'ISTJ', 'ESTP', 'ESFP', 'ESTJ', 'ESFJ']\n",
    "  \n",
    "unique_type_list = [x.lower() for x in unique_type_list]\n",
    "# Preprocess data\n",
    "def pre_process_data(data, remove_stop_words=True, remove_mbti_profiles=True):\n",
    "\n",
    "    list_personality = []\n",
    "    list_posts = []\n",
    "    len_data = len(data)\n",
    "    i=0\n",
    "    \n",
    "    for row in data.iterrows():\n",
    "        i+=1\n",
    "        if (i % 500 == 0 or i == 1 or i == len_data):\n",
    "            print(\"%s of %s rows\" % (i, len_data))\n",
    "\n",
    "        ##### Remove and clean comments using regular expressions\n",
    "        posts = row[1].posts\n",
    "        temp = re.sub('http[s]?://(?:[a-zA-Z]|[0-9]|[$-_@.&+]|(?:%[0-9a-fA-F][0-9a-fA-F]))+', ' ', posts)\n",
    "        ''''''temp = re.sub(\"|||\",\"[SEP]\",temp)\n",
    "        temp = re.sub(\"[^a-zA-Z]\", \" \", temp)\n",
    "        temp = re.sub(' +', ' ', temp)\n",
    "            \n",
    "        if remove_mbti_profiles:\n",
    "            for t in unique_type_list:\n",
    "                temp = temp.replace(t,\"\")\n",
    "        type_labelized = translate_personality(row[1].type)\n",
    "        list_personality.append(type_labelized)\n",
    "        list_posts.append(temp)\n",
    "\n",
    "    list_posts = np.array(list_posts)\n",
    "    list_personality = np.array(list_personality)\n",
    "    return list_posts, list_personality"
   ]
  },
  {
   "cell_type": "code",
   "execution_count": 56,
   "metadata": {},
   "outputs": [
    {
     "name": "stdout",
     "output_type": "stream",
     "text": [
      "1 of 8675 rows\n",
      "500 of 8675 rows\n",
      "1000 of 8675 rows\n",
      "1500 of 8675 rows\n",
      "2000 of 8675 rows\n",
      "2500 of 8675 rows\n",
      "3000 of 8675 rows\n",
      "3500 of 8675 rows\n",
      "4000 of 8675 rows\n",
      "4500 of 8675 rows\n",
      "5000 of 8675 rows\n",
      "5500 of 8675 rows\n",
      "6000 of 8675 rows\n",
      "6500 of 8675 rows\n",
      "7000 of 8675 rows\n",
      "7500 of 8675 rows\n",
      "8000 of 8675 rows\n",
      "8500 of 8675 rows\n",
      "8675 of 8675 rows\n"
     ]
    }
   ],
   "source": [
    "list_posts, list_personality  = pre_process_data(data, remove_stop_words=True)"
   ]
  },
  {
   "cell_type": "code",
   "execution_count": 57,
   "metadata": {},
   "outputs": [
    {
     "name": "stdout",
     "output_type": "stream",
     "text": [
      " sep sep sep sep sep sep sep sep sep sep e sep n sep f sep p sep sep a sep n sep d sep sep i sep n sep t sep j sep sep m sep o sep m sep e sep n sep t sep s sep sep sep sep sep sep s sep p sep o sep r sep t sep s sep c sep e sep n sep t sep e sep r sep sep n sep o sep t sep sep t sep o sep p sep sep t sep e sep n sep sep p sep l sep a sep y sep s sep sep sep sep sep sep p sep r sep a sep n sep k sep s sep sep sep sep w sep h sep a sep t sep sep h sep a sep s sep sep b sep e sep e sep n sep sep t sep h sep e sep sep m sep o sep s sep t sep sep l sep i sep f sep e sep sep c sep h sep a sep n sep g sep i sep n sep g sep sep e sep x sep p sep e sep r sep i sep e sep n sep c sep e sep sep i sep n sep sep y sep o sep u sep r sep sep l sep i sep f sep e sep sep sep sep sep sep sep sep sep sep sep sep o sep n sep sep r sep e sep p sep e sep a sep t sep sep f sep o sep r sep sep m sep o sep s sep t sep sep o sep f sep sep t sep o sep d sep a sep y sep sep sep sep sep m sep a sep y sep sep t sep h sep e sep sep p sep e sep r sep c sep sep e sep x sep p sep e sep r sep i sep e sep n sep c sep e sep sep i sep m sep m sep e sep r sep s sep e sep sep y sep o sep u sep sep sep sep sep t sep h sep e sep sep l sep a sep s sep t sep sep t sep h sep i sep n sep g sep sep m sep y sep sep i sep n sep f sep j sep sep f sep r sep i sep e sep n sep d sep sep p sep o sep s sep t sep e sep d sep sep o sep n sep sep h sep i sep s sep sep f sep a sep c sep e sep b sep o sep o sep k sep sep b sep e sep f sep o sep r sep e sep sep c sep o sep m sep m sep i sep t sep t sep i sep n sep g sep sep s sep u sep i sep c sep i sep d sep e sep sep t sep h sep e sep sep n sep e sep x sep t sep sep d sep a sep y sep sep sep r sep e sep s sep t sep sep i sep n sep sep p sep e sep a sep c sep e sep sep sep sep sep sep sep sep sep h sep e sep l sep l sep o sep sep e sep n sep f sep j sep sep sep sep s sep o sep r sep r sep y sep sep t sep o sep sep h sep e sep a sep r sep sep o sep f sep sep y sep o sep u sep r sep sep d sep i sep s sep t sep r sep e sep s sep s sep sep sep i sep t sep sep s sep sep o sep n sep l sep y sep sep n sep a sep t sep u sep r sep a sep l sep sep f sep o sep r sep sep a sep sep r sep e sep l sep a sep t sep i sep o sep n sep s sep h sep i sep p sep sep t sep o sep sep n sep o sep t sep sep b sep e sep sep p sep e sep r sep f sep e sep c sep t sep i sep o sep n sep sep a sep l sep l sep sep t sep h sep e sep sep t sep i sep m sep e sep sep i sep n sep sep e sep v sep e sep r sep y sep sep m sep o sep m sep e sep n sep t sep sep o sep f sep sep e sep x sep i sep s sep t sep e sep n sep c sep e sep sep sep t sep r sep y sep sep t sep o sep sep f sep i sep g sep u sep r sep e sep sep t sep h sep e sep sep h sep a sep r sep d sep sep t sep i sep m sep e sep s sep sep a sep s sep sep t sep i sep m sep e sep s sep sep o sep f sep sep g sep r sep o sep w sep t sep h sep sep sep a sep s sep sep sep sep sep sep sep sep sep sep sep sep sep sep sep sep sep sep sep sep sep sep sep sep sep sep sep sep sep sep sep sep w sep e sep l sep c sep o sep m sep e sep sep a sep n sep d sep sep s sep t sep u sep f sep f sep sep sep sep sep sep sep sep g sep a sep m sep e sep sep sep s sep e sep t sep sep sep m sep a sep t sep c sep h sep sep sep sep sep p sep r sep o sep z sep a sep c sep sep sep w sep e sep l sep l sep b sep r sep u sep t sep i sep n sep sep sep a sep t sep sep l sep e sep a sep s sep t sep sep t sep h sep i sep r sep t sep y sep sep m sep i sep n sep u sep t sep e sep s sep sep o sep f sep sep m sep o sep v sep i sep n sep g sep sep y sep o sep u sep r sep sep l sep e sep g sep s sep sep sep a sep n sep d sep sep i sep sep d sep o sep n sep sep t sep sep m sep e sep a sep n sep sep m sep o sep v sep i sep n sep g sep sep t sep h sep e sep m sep sep w sep h sep i sep l sep e sep sep s sep i sep t sep t sep i sep n sep g sep sep i sep n sep sep y sep o sep u sep r sep sep s sep a sep m sep e sep sep d sep e sep s sep k sep sep c sep h sep a sep i sep r sep sep sep sep w sep e sep e sep d sep sep i sep n sep sep m sep o sep d sep e sep r sep a sep t sep i sep o sep n sep sep sep m sep a sep y sep b sep e sep sep t sep r sep y sep sep e sep d sep i sep b sep l sep e sep s sep sep a sep s sep sep a sep sep h sep e sep a sep l sep t sep h sep i sep e sep r sep sep a sep l sep t sep e sep r sep n sep a sep t sep i sep v sep e sep sep sep sep sep sep sep b sep a sep s sep i sep c sep a sep l sep l sep y sep sep c sep o sep m sep e sep sep u sep p sep sep w sep i sep t sep h sep sep t sep h sep r sep e sep e sep sep i sep t sep e sep m sep s sep sep y sep o sep u sep sep v sep e sep sep d sep e sep t sep e sep r sep m sep i sep n sep e sep d sep sep t sep h sep a sep t sep sep e sep a sep c sep h sep sep t sep y sep p sep e sep sep sep o sep r sep sep w sep h sep i sep c sep h sep e sep v sep e sep r sep sep t sep y sep p sep e sep s sep sep y sep o sep u sep sep w sep a sep n sep t sep sep t sep o sep sep d sep o sep sep sep w sep o sep u sep l sep d sep sep m sep o sep r sep e sep sep t sep h sep a sep n sep sep l sep i sep k sep e sep l sep y sep sep u sep s sep e sep sep sep g sep i sep v sep e sep n sep sep e sep a sep c sep h sep sep t sep y sep p sep e sep s sep sep sep c sep o sep g sep n sep i sep t sep i sep v sep e sep sep f sep u sep n sep c sep t sep i sep o sep n sep s sep sep a sep n sep d sep sep w sep h sep a sep t sep n sep o sep t sep sep sep w sep h sep e sep n sep sep l sep e sep f sep t sep sep b sep y sep sep sep sep sep sep sep a sep l sep l sep sep t sep h sep i sep n sep g sep s sep sep i sep n sep sep m sep o sep d sep e sep r sep a sep t sep i sep o sep n sep sep sep sep s sep i sep m sep s sep sep i sep s sep sep i sep n sep d sep e sep e sep d sep sep a sep sep v sep i sep d sep e sep o sep sep g sep a sep m sep e sep sep sep a sep n sep d sep sep a sep sep g sep o sep o sep d sep sep o sep n sep e sep sep a sep t sep sep t sep h sep a sep t sep sep sep n sep o sep t sep e sep sep sep a sep sep g sep o sep o sep d sep sep o sep n sep e sep sep a sep t sep sep t sep h sep a sep t sep sep i sep s sep sep s sep o sep m sep e sep w sep h sep a sep t sep sep s sep u sep b sep j sep e sep c sep t sep i sep v sep e sep sep i sep n sep sep t sep h sep a sep t sep sep i sep sep a sep m sep sep n sep o sep t sep sep c sep o sep m sep p sep l sep e sep t sep e sep l sep y sep sep p sep r sep o sep m sep o sep t sep i sep n sep g sep sep t sep h sep e sep sep d sep e sep a sep t sep h sep sep o sep f sep sep a sep n sep y sep sep g sep i sep v sep e sep n sep sep s sep i sep m sep sep sep sep sep sep sep d sep e sep a sep r sep sep e sep n sep f sep p sep sep sep sep w sep h sep a sep t sep sep w sep e sep r sep e sep sep y sep o sep u sep r sep sep f sep a sep v sep o sep r sep i sep t sep e sep sep v sep i sep d sep e sep o sep sep g sep a sep m sep e sep s sep sep g sep r sep o sep w sep i sep n sep g sep sep u sep p sep sep a sep n sep d sep sep w sep h sep a sep t sep sep a sep r sep e sep sep y sep o sep u sep r sep sep n sep o sep w sep sep sep c sep u sep r sep r sep e sep n sep t sep sep f sep a sep v sep o sep r sep i sep t sep e sep sep v sep i sep d sep e sep o sep sep g sep a sep m sep e sep s sep sep sep sep c sep o sep o sep l sep sep sep sep sep sep sep sep sep i sep t sep sep a sep p sep p sep e sep a sep r sep s sep sep t sep o sep sep b sep e sep sep t sep o sep o sep sep l sep a sep t sep e sep sep sep sep s sep a sep d sep sep sep sep sep t sep h sep e sep r sep e sep sep s sep sep s sep o sep m sep e sep o sep n sep e sep sep o sep u sep t sep sep t sep h sep e sep r sep e sep sep f sep o sep r sep sep e sep v sep e sep r sep y sep o sep n sep e sep sep sep sep sep w sep a sep i sep t sep sep sep sep sep i sep sep t sep h sep o sep u sep g sep h sep t sep sep c sep o sep n sep f sep i sep d sep e sep n sep c sep e sep sep w sep a sep s sep sep a sep sep g sep o sep o sep d sep sep t sep h sep i sep n sep g sep sep sep sep sep i sep sep j sep u sep s sep t sep sep c sep h sep e sep r sep i sep s sep h sep sep t sep h sep e sep sep t sep i sep m sep e sep sep o sep f sep sep s sep o sep l sep i sep t sep u sep d sep e sep sep b sep sep c sep sep i sep sep r sep e sep v sep e sep l sep sep w sep i sep t sep h sep i sep n sep sep m sep y sep sep i sep n sep n sep e sep r sep sep w sep o sep r sep l sep d sep sep m sep o sep r sep e sep sep w sep h sep e sep r sep e sep a sep s sep sep m sep o sep s sep t sep sep o sep t sep h sep e sep r sep sep t sep i sep m sep e sep sep i sep sep d sep sep b sep e sep sep w sep o sep r sep k sep i sep n sep sep sep sep sep j sep u sep s sep t sep sep e sep n sep j sep o sep y sep sep t sep h sep e sep sep m sep e sep sep t sep i sep m sep e sep sep w sep h sep i sep l sep e sep sep y sep o sep u sep sep c sep a sep n sep sep sep d sep o sep n sep sep t sep sep w sep o sep r sep r sep y sep sep sep p sep e sep o sep p sep l sep e sep sep w sep i sep l sep l sep sep a sep l sep w sep a sep y sep s sep sep b sep e sep sep a sep r sep o sep u sep n sep d sep sep t sep o sep sep sep sep sep sep sep y sep o sep sep e sep n sep t sep p sep sep l sep a sep d sep i sep e sep s sep sep sep sep sep i sep f sep sep y sep o sep u sep sep r sep e sep sep i sep n sep t sep o sep sep a sep sep c sep o sep m sep p sep l sep i sep m sep e sep n sep t sep a sep r sep y sep sep p sep e sep r sep s sep o sep n sep a sep l sep i sep t sep y sep sep w sep e sep l sep l sep sep sep h sep e sep y sep sep sep sep sep sep sep sep sep w sep h sep e sep n sep sep y sep o sep u sep r sep sep m sep a sep i sep n sep sep s sep o sep c sep i sep a sep l sep sep o sep u sep t sep l sep e sep t sep sep i sep s sep sep x sep b sep o sep x sep sep l sep i sep v sep e sep sep c sep o sep n sep v sep e sep r sep s sep a sep t sep i sep o sep n sep s sep sep a sep n sep d sep sep e sep v sep e sep n sep sep t sep h sep e sep n sep sep y sep o sep u sep sep v sep e sep r sep b sep a sep l sep l sep y sep sep f sep a sep t sep i sep g sep u sep e sep sep q sep u sep i sep c sep k sep l sep y sep sep sep sep sep sep sep sep i sep sep r sep e sep a sep l sep l sep y sep sep d sep i sep g sep sep t sep h sep e sep sep p sep a sep r sep t sep sep f sep r sep o sep m sep sep sep sep sep sep sep t sep o sep sep sep sep sep sep sep sep sep sep sep sep sep b sep a sep n sep n sep e sep d sep sep b sep e sep c sep a sep u sep s sep e sep sep t sep h sep i sep s sep sep t sep h sep r sep e sep a sep d sep sep r sep e sep q sep u sep i sep r sep e sep s sep sep i sep t sep sep o sep f sep sep m sep e sep sep sep sep sep g sep e sep t sep sep h sep i sep g sep h sep sep i sep n sep sep b sep a sep c sep k sep y sep a sep r sep d sep sep sep r sep o sep a sep s sep t sep sep a sep n sep d sep sep e sep a sep t sep sep m sep a sep r sep s sep h sep m sep e sep l sep l sep o sep w sep s sep sep i sep n sep sep b sep a sep c sep k sep y sep a sep r sep d sep sep w sep h sep i sep l sep e sep sep c sep o sep n sep v sep e sep r sep s sep i sep n sep g sep sep o sep v sep e sep r sep sep s sep o sep m sep e sep t sep h sep i sep n sep g sep sep i sep n sep t sep e sep l sep l sep e sep c sep t sep u sep a sep l sep sep sep f sep o sep l sep l sep o sep w sep e sep d sep sep b sep y sep sep m sep a sep s sep s sep a sep g sep e sep s sep sep a sep n sep d sep sep k sep i sep s sep s sep e sep s sep sep sep sep sep sep sep sep sep sep sep sep sep sep sep sep sep b sep a sep n sep n sep e sep d sep sep f sep o sep r sep sep t sep o sep o sep sep m sep a sep n sep y sep sep b sep sep s sep sep i sep n sep sep t sep h sep a sep t sep sep s sep e sep n sep t sep e sep n sep c sep e sep sep sep h sep o sep w sep sep c sep o sep u sep l sep d sep sep y sep o sep u sep sep sep t sep h sep i sep n sep k sep sep o sep f sep sep t sep h sep e sep sep b sep sep sep sep sep b sep a sep n sep n sep e sep d sep sep f sep o sep r sep sep w sep a sep t sep c sep h sep i sep n sep g sep sep m sep o sep v sep i sep e sep s sep sep i sep n sep sep t sep h sep e sep sep c sep o sep r sep n sep e sep r sep sep w sep i sep t sep h sep sep t sep h sep e sep sep d sep u sep n sep c sep e sep s sep sep sep sep sep b sep a sep n sep n sep e sep d sep sep b sep e sep c sep a sep u sep s sep e sep sep h sep e sep a sep l sep t sep h sep sep c sep l sep a sep s sep s sep sep c sep l sep e sep a sep r sep l sep y sep sep t sep a sep u sep g sep h sep t sep sep y sep o sep u sep sep n sep o sep t sep h sep i sep n sep g sep sep a sep b sep o sep u sep t sep sep p sep e sep e sep r sep sep p sep r sep e sep s sep s sep u sep r sep e sep sep sep sep sep b sep a sep n sep n sep e sep d sep sep f sep o sep r sep sep a sep sep w sep h sep o sep l sep e sep sep h sep o sep s sep t sep sep o sep f sep sep r sep e sep a sep s sep o sep n sep s sep sep sep sep sep sep sep sep sep sep sep sep t sep w sep o sep sep b sep a sep b sep y sep sep d sep e sep e sep r sep sep o sep n sep sep l sep e sep f sep t sep sep a sep n sep d sep sep r sep i sep g sep h sep t sep sep m sep u sep n sep c sep h sep i sep n sep g sep sep o sep n sep sep a sep sep b sep e sep e sep t sep l sep e sep sep i sep n sep sep t sep h sep e sep sep m sep i sep d sep d sep l sep e sep sep sep sep sep sep sep u sep s sep i sep n sep g sep sep t sep h sep e sep i sep r sep sep o sep w sep n sep sep b sep l sep o sep o sep d sep sep sep t sep w sep o sep sep c sep a sep v sep e sep m sep e sep n sep sep d sep i sep a sep r sep y sep sep t sep o sep d sep a sep y sep sep s sep sep l sep a sep t sep e sep s sep t sep sep h sep a sep p sep p sep e sep n sep i sep n sep g sep s sep sep o sep n sep sep t sep h sep e sep i sep r sep sep d sep e sep s sep i sep g sep n sep a sep t sep e sep d sep sep c sep a sep v sep e sep sep d sep i sep a sep r sep y sep sep w sep a sep l sep l sep sep sep sep sep sep sep i sep sep s sep e sep e sep sep i sep t sep sep a sep s sep sep sep sep sep sep sep a sep sep p sep o sep k sep e sep m sep o sep n sep sep w sep o sep r sep l sep d sep sep sep a sep n sep sep i sep n sep f sep j sep sep s sep o sep c sep i sep e sep t sep y sep sep sep e sep v sep e sep r sep y sep o sep n sep e sep sep b sep e sep c sep o sep m sep e sep s sep sep a sep n sep sep o sep p sep t sep i sep m sep i sep s sep t sep sep sep sep sep sep sep sep sep sep sep sep sep sep sep sep sep sep sep sep sep sep sep sep sep sep sep sep n sep o sep t sep sep a sep l sep l sep sep a sep r sep t sep i sep s sep t sep s sep sep a sep r sep e sep sep a sep r sep t sep i sep s sep t sep s sep sep b sep e sep c sep a sep u sep s sep e sep sep t sep h sep e sep y sep sep d sep r sep a sep w sep sep sep i sep t sep sep s sep sep t sep h sep e sep sep i sep d sep e sep a sep sep t sep h sep a sep t sep sep c sep o sep u sep n sep t sep s sep sep i sep n sep sep f sep o sep r sep m sep i sep n sep g sep sep s sep o sep m sep e sep t sep h sep i sep n sep g sep sep o sep f sep sep y sep o sep u sep r sep sep o sep w sep n sep sep sep sep sep l sep i sep k sep e sep sep a sep sep s sep i sep g sep n sep a sep t sep u sep r sep e sep sep sep sep sep w sep e sep l sep c sep o sep m sep e sep sep t sep o sep sep t sep h sep e sep sep r sep o sep b sep o sep t sep sep r sep a sep n sep k sep s sep sep sep p sep e sep r sep s sep o sep n sep sep w sep h sep o sep sep d sep o sep w sep n sep e sep d sep sep m sep y sep sep s sep e sep l sep f sep sep e sep s sep t sep e sep e sep m sep sep c sep u sep z sep sep i sep sep m sep sep n sep o sep t sep sep a sep n sep sep a sep v sep i sep d sep sep s sep i sep g sep n sep a sep t sep u sep r sep e sep sep a sep r sep t sep i sep s sep t sep sep l sep i sep k sep e sep sep h sep e sep r sep s sep e sep l sep f sep sep sep sep p sep r sep o sep u sep d sep sep sep sep sep b sep a sep n sep n sep e sep d sep sep f sep o sep r sep sep t sep a sep k sep i sep n sep g sep sep a sep l sep l sep sep t sep h sep e sep sep r sep o sep o sep m sep sep u sep n sep d sep e sep r sep sep m sep y sep sep b sep e sep d sep sep sep y sep a sep sep g sep o sep t sep t sep a sep sep l sep e sep a sep r sep n sep sep t sep o sep sep s sep h sep a sep r sep e sep sep w sep i sep t sep h sep sep t sep h sep e sep sep r sep o sep a sep c sep h sep e sep s sep sep sep sep sep sep sep sep sep b sep a sep n sep n sep e sep d sep sep f sep o sep r sep sep b sep e sep i sep n sep g sep sep t sep o sep o sep sep m sep u sep c sep h sep sep o sep f sep sep a sep sep t sep h sep u sep n sep d sep e sep r sep i sep n sep g sep sep sep g sep r sep u sep m sep b sep l sep i sep n sep g sep sep k sep i sep n sep d sep sep o sep f sep sep s sep t sep o sep r sep m sep sep sep sep sep y sep e sep p sep sep sep sep sep a sep h sep h sep sep sep sep sep o sep l sep d sep sep h sep i sep g sep h sep sep s sep c sep h sep o sep o sep l sep sep m sep u sep s sep i sep c sep sep i sep sep h sep a sep v sep e sep n sep sep t sep sep h sep e sep a sep r sep d sep sep i sep n sep sep a sep g sep e sep s sep sep sep sep sep sep sep sep sep i sep sep f sep a sep i sep l sep e sep d sep sep a sep sep p sep u sep b sep l sep i sep c sep sep s sep p sep e sep a sep k sep i sep n sep g sep sep c sep l sep a sep s sep s sep sep a sep sep f sep e sep w sep sep y sep e sep a sep r sep s sep sep a sep g sep o sep sep a sep n sep d sep sep i sep sep v sep e sep sep s sep o sep r sep t sep sep o sep f sep sep l sep e sep a sep r sep n sep e sep d sep sep w sep h sep a sep t sep sep i sep sep c sep o sep u sep l sep d sep sep d sep o sep sep b sep e sep t sep t sep e sep r sep sep w sep e sep r sep e sep sep i sep sep t sep o sep sep b sep e sep sep i sep n sep sep t sep h sep a sep t sep sep p sep o sep s sep i sep t sep i sep o sep n sep sep a sep g sep a sep i sep n sep sep sep a sep sep b sep i sep g sep sep p sep a sep r sep t sep sep o sep f sep sep m sep y sep sep f sep a sep i sep l sep u sep r sep e sep sep w sep a sep s sep sep j sep u sep s sep t sep sep o sep v sep e sep r sep l sep o sep a sep d sep i sep n sep g sep sep m sep y sep s sep e sep l sep f sep sep w sep i sep t sep h sep sep t sep o sep o sep sep sep sep sep sep sep i sep sep l sep i sep k sep e sep sep t sep h sep i sep s sep sep p sep e sep r sep s sep o sep n sep sep s sep sep m sep e sep n sep t sep a sep l sep i sep t sep y sep sep sep h sep e sep sep s sep sep a sep sep c sep o sep n sep f sep i sep r sep m sep e sep d sep sep i sep n sep t sep j sep sep b sep y sep sep t sep h sep e sep sep w sep a sep y sep sep sep sep sep sep sep m sep o sep v sep e sep sep t sep o sep sep t sep h sep e sep sep d sep e sep n sep v sep e sep r sep sep a sep r sep e sep a sep sep a sep n sep d sep sep s sep t sep a sep r sep t sep sep a sep sep n sep e sep w sep sep l sep i sep f sep e sep sep f sep o sep r sep sep m sep y sep s sep e sep l sep f sep sep sep "
     ]
    },
    {
     "name": "stdout",
     "output_type": "stream",
     "text": [
      "\n",
      "[0 0 0 0]\n"
     ]
    }
   ],
   "source": [
    "X=list_posts\n",
    "Y=list_personality\n",
    "print(X[0])\n",
    "print(Y[0])"
   ]
  },
  {
   "cell_type": "code",
   "execution_count": 59,
   "metadata": {},
   "outputs": [
    {
     "name": "stdout",
     "output_type": "stream",
     "text": [
      "['i', \"'\", 'm', 'here', 'to', 'stay', ',', 'hello', 'nice', 'to', 'meet', 'you', 'sir']\n",
      "[101, 1045, 1005, 1049, 2182, 2000, 2994, 1010, 7592, 3835, 2000, 3113, 2017, 2909, 102]\n"
     ]
    }
   ],
   "source": [
    "tokenizer = FullTokenizer(\n",
    "  vocab_file=\"./dataset/bert/vocab.txt\"\n",
    ")\n",
    "tokens=tokenizer.tokenize(\"I'm here to stay , hello nice to meet you sir\")\n",
    "print(tokens)\n",
    "tokens=[\"[CLS]\"]+tokens+[\"[SEP]\"]\n",
    "indices=tokenizer.convert_tokens_to_ids(tokens)\n",
    "print(indices)"
   ]
  }
 ],
 "metadata": {
  "kernelspec": {
   "display_name": "Python 3",
   "language": "python",
   "name": "python3"
  },
  "language_info": {
   "codemirror_mode": {
    "name": "ipython",
    "version": 3
   },
   "file_extension": ".py",
   "mimetype": "text/x-python",
   "name": "python",
   "nbconvert_exporter": "python",
   "pygments_lexer": "ipython3",
   "version": "3.7.3"
  }
 },
 "nbformat": 4,
 "nbformat_minor": 2
}
