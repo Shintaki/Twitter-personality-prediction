{
 "cells": [
  {
   "cell_type": "code",
   "execution_count": 1,
   "metadata": {},
   "outputs": [
    {
     "name": "stderr",
     "output_type": "stream",
     "text": [
      "Using TensorFlow backend.\n"
     ]
    }
   ],
   "source": [
    "import matplotlib.pyplot as plt\n",
    "import numpy as np\n",
    "import pandas as pd\n",
    "import re\n",
    "from nltk.stem import PorterStemmer, WordNetLemmatizer\n",
    "from nltk.corpus import stopwords \n",
    "from nltk import word_tokenize\n",
    "from keras.models import Model\n",
    "from keras.layers import Dense, Input, Dropout, LSTM, Activation,concatenate,Bidirectional,BatchNormalization, Lambda, Layer\n",
    "from keras.initializers import Constant\n",
    "import keras.backend as K\n",
    "from keras.layers.embeddings import Embedding\n",
    "from sklearn.model_selection import train_test_split\n",
    "from sklearn.preprocessing import LabelEncoder\n",
    "from tensorflow.keras.utils import to_categorical\n",
    "import tensorflow as tf\n",
    "from tensorflow.keras.optimizers import Adam"
   ]
  },
  {
   "cell_type": "code",
   "execution_count": 2,
   "metadata": {},
   "outputs": [
    {
     "name": "stdout",
     "output_type": "stream",
     "text": [
      "2.1.0\n",
      "/device:GPU:0\n"
     ]
    }
   ],
   "source": [
    "print(tf.__version__)\n",
    "print(tf.test.gpu_device_name())"
   ]
  },
  {
   "cell_type": "code",
   "execution_count": 3,
   "metadata": {},
   "outputs": [
    {
     "name": "stdout",
     "output_type": "stream",
     "text": [
      "   type                                              posts\n",
      "0  INFJ  'http://www.youtube.com/watch?v=qsXHcwe3krw|||...\n",
      "1  ENTP  'I'm finding the lack of me in these posts ver...\n",
      "2  INTP  'Good one  _____   https://www.youtube.com/wat...\n",
      "3  INTJ  'Dear INTP,   I enjoyed our conversation the o...\n",
      "4  ENTJ  'You're fired.|||That's another silly misconce...\n"
     ]
    }
   ],
   "source": [
    "data = pd.read_csv(\"./dataset/dataset.csv\")\n",
    "print(data.head())"
   ]
  },
  {
   "cell_type": "code",
   "execution_count": 4,
   "metadata": {},
   "outputs": [
    {
     "data": {
      "text/html": [
       "<div>\n",
       "<style scoped>\n",
       "    .dataframe tbody tr th:only-of-type {\n",
       "        vertical-align: middle;\n",
       "    }\n",
       "\n",
       "    .dataframe tbody tr th {\n",
       "        vertical-align: top;\n",
       "    }\n",
       "\n",
       "    .dataframe thead th {\n",
       "        text-align: right;\n",
       "    }\n",
       "</style>\n",
       "<table border=\"1\" class=\"dataframe\">\n",
       "  <thead>\n",
       "    <tr style=\"text-align: right;\">\n",
       "      <th></th>\n",
       "      <th>type</th>\n",
       "      <th>posts</th>\n",
       "      <th>labels</th>\n",
       "    </tr>\n",
       "  </thead>\n",
       "  <tbody>\n",
       "    <tr>\n",
       "      <th>8670</th>\n",
       "      <td>ISFP</td>\n",
       "      <td>'https://www.youtube.com/watch?v=t8edHB_h908||...</td>\n",
       "      <td>9</td>\n",
       "    </tr>\n",
       "    <tr>\n",
       "      <th>8671</th>\n",
       "      <td>ENFP</td>\n",
       "      <td>'So...if this thread already exists someplace ...</td>\n",
       "      <td>4</td>\n",
       "    </tr>\n",
       "    <tr>\n",
       "      <th>8672</th>\n",
       "      <td>INTP</td>\n",
       "      <td>'So many questions when i do these things.  I ...</td>\n",
       "      <td>3</td>\n",
       "    </tr>\n",
       "    <tr>\n",
       "      <th>8673</th>\n",
       "      <td>INFP</td>\n",
       "      <td>'I am very conflicted right now when it comes ...</td>\n",
       "      <td>0</td>\n",
       "    </tr>\n",
       "    <tr>\n",
       "      <th>8674</th>\n",
       "      <td>INFP</td>\n",
       "      <td>'It has been too long since I have been on per...</td>\n",
       "      <td>0</td>\n",
       "    </tr>\n",
       "  </tbody>\n",
       "</table>\n",
       "</div>"
      ],
      "text/plain": [
       "      type                                              posts  labels\n",
       "8670  ISFP  'https://www.youtube.com/watch?v=t8edHB_h908||...       9\n",
       "8671  ENFP  'So...if this thread already exists someplace ...       4\n",
       "8672  INTP  'So many questions when i do these things.  I ...       3\n",
       "8673  INFP  'I am very conflicted right now when it comes ...       0\n",
       "8674  INFP  'It has been too long since I have been on per...       0"
      ]
     },
     "execution_count": 4,
     "metadata": {},
     "output_type": "execute_result"
    }
   ],
   "source": [
    "full_Pers_list = {'INFP' :0 ,'INTJ' :1 ,'INFJ' :2, 'INTP' :3 ,'ENFP' :4 ,'ENTJ' :5, 'ENTP' :6 ,'ENFJ' :7, 'ISFJ' :8 ,'ISFP' :9 ,'ISTJ' :10 ,'ISTP' :11 ,'ESFJ' :12,'ESFP' :13 ,'ESTJ' :14 ,'ESTP' :15}\n",
    "def type_to_16(typeList):\n",
    "    labels=[]\n",
    "    for t in typeList:\n",
    "        labels.append(full_Pers_list[t])\n",
    "    return(labels)\n",
    "\n",
    "def type16_to_vector_label(data):\n",
    "    for i,label in enumerate(data):\n",
    "        translation=np.zeros((16))\n",
    "        translation[int(label)]=1\n",
    "        data[i]=translation\n",
    "        \n",
    "labels=type_to_16(data[\"type\"])\n",
    "data[\"labels\"]=labels\n",
    "data.tail()"
   ]
  },
  {
   "cell_type": "code",
   "execution_count": 5,
   "metadata": {},
   "outputs": [],
   "source": [
    "b_Pers = {'I':0, 'E':1, 'N':0, 'S':1, 'F':0, 'T':1, 'J':0, 'P':1}\n",
    "b_Pers_list = [{0:'I', 1:'E'}, {0:'N', 1:'S'}, {0:'F', 1:'T'}, {0:'J', 1:'P'}]\n",
    "\n",
    "def translate_personality(personality):\n",
    "    # transform mbti to binary vector\n",
    "    \n",
    "    return [b_Pers[l] for l in personality]"
   ]
  },
  {
   "cell_type": "code",
   "execution_count": 6,
   "metadata": {},
   "outputs": [],
   "source": [
    "# We want to remove these from the posts\n",
    "unique_type_list = ['INFJ', 'ENTP', 'INTP', 'INTJ', 'ENTJ', 'ENFJ', 'INFP', 'ENFP',\n",
    "       'ISFP', 'ISTP', 'ISFJ', 'ISTJ', 'ESTP', 'ESFP', 'ESTJ', 'ESFJ']\n",
    "  \n",
    "unique_type_list = [x.lower() for x in unique_type_list]\n",
    "\n",
    "\n",
    "# Lemmatize\n",
    "stemmer = PorterStemmer()\n",
    "lemmatiser = WordNetLemmatizer()\n",
    "\n",
    "# Cache the stop words for speed \n",
    "cachedStopWords = stopwords.words(\"english\")\n",
    "\n",
    "def pre_process_data(data, remove_stop_words=True, remove_mbti_profiles=True):\n",
    "\n",
    "    list_personality = []\n",
    "    list_posts = []\n",
    "    len_data = len(data)\n",
    "    i=0\n",
    "    \n",
    "    for row in data.iterrows():\n",
    "        i+=1\n",
    "        if (i % 500 == 0 or i == 1 or i == len_data):\n",
    "            print(\"%s of %s rows\" % (i, len_data))\n",
    "\n",
    "        ##### Remove and clean comments using regular expressions\n",
    "        posts = row[1].posts\n",
    "        temp = re.sub('http[s]?://(?:[a-zA-Z]|[0-9]|[$-_@.&+]|(?:%[0-9a-fA-F][0-9a-fA-F]))+', ' ', posts)\n",
    "        temp = re.sub(\"[^a-zA-Z]\", \" \", temp)\n",
    "        temp = re.sub(' +', ' ', temp).lower()\n",
    "        if remove_stop_words:\n",
    "            temp = \" \".join([lemmatiser.lemmatize(w) for w in temp.split(' ') if w not in cachedStopWords])\n",
    "        else:\n",
    "            temp = \" \".join([lemmatiser.lemmatize(w) for w in temp.split(' ')])\n",
    "            \n",
    "        if remove_mbti_profiles:\n",
    "            for t in unique_type_list:\n",
    "                temp = temp.replace(t,\"\")\n",
    "        ##### Remove single-charactered words that remain from the cleaning\n",
    "        words=temp.split()\n",
    "        finalTemp=\"\"\n",
    "        for word in words:\n",
    "            if(len(word)>1):\n",
    "                finalTemp=finalTemp+\" \"+word\n",
    "        type_labelized = translate_personality(row[1].type)\n",
    "        list_personality.append(type_labelized)\n",
    "        list_posts.append(finalTemp)\n",
    "\n",
    "    list_posts = np.array(list_posts)\n",
    "    list_personality = np.array(list_personality)\n",
    "    return list_posts, list_personality"
   ]
  },
  {
   "cell_type": "code",
   "execution_count": 7,
   "metadata": {},
   "outputs": [
    {
     "name": "stdout",
     "output_type": "stream",
     "text": [
      "1 of 8675 rows\n",
      "500 of 8675 rows\n",
      "1000 of 8675 rows\n",
      "1500 of 8675 rows\n",
      "2000 of 8675 rows\n",
      "2500 of 8675 rows\n",
      "3000 of 8675 rows\n",
      "3500 of 8675 rows\n",
      "4000 of 8675 rows\n",
      "4500 of 8675 rows\n",
      "5000 of 8675 rows\n",
      "5500 of 8675 rows\n",
      "6000 of 8675 rows\n",
      "6500 of 8675 rows\n",
      "7000 of 8675 rows\n",
      "7500 of 8675 rows\n",
      "8000 of 8675 rows\n",
      "8500 of 8675 rows\n",
      "8675 of 8675 rows\n"
     ]
    }
   ],
   "source": [
    "list_posts, list_personality  = pre_process_data(data, remove_stop_words=True)"
   ]
  },
  {
   "cell_type": "code",
   "execution_count": 8,
   "metadata": {},
   "outputs": [
    {
     "name": "stdout",
     "output_type": "stream",
     "text": [
      " finding lack post alarming sex boring position often example girlfriend currently environment creatively use cowgirl missionary enough giving new meaning game theory hello grin take converse flirting acknowledge presence return word smooth wordplay cheeky grin lack balance hand eye coordination real iq test score internet iq test funny score higher like former response thread mention believe iq test banish know vanish site year half return find people still commenting post liking idea thought know think thing sometimes go old sherlock holmes quote perhaps man special knowledge special power like rather encourages seek complex cheshirewolf tumblr com post really never thought real function judge use use ne ti dominates fe emotion rarely si also use ni due strength know though ingenious saying really want try see happens playing first person shooter back drive around want see look rock paper one best make lol guy lucky really high tumblr system hear new first person shooter game rocking hell soundtrack auto sound equipment shake heaven managed put couple way connected thing ne ne dominates aware environment se dominates example shawn spencer patrick jane well charlie first admit get jealous like chalk heart mixed dominate like noticed like known upload clip mic away mouth hear anything ninja assassin style splatter tik tok really great song long mental block singer love beat make bounce drop io swck mic really close mouth smokin ace assassin ball playing background sociable extrovert extrovert sociable sherlock movie normally played extj book said movie looked good except called sherlock holmes oh never fear kissing guy kiss animal nothing vanish personal taste liking guy kissed know one sound pretty much like area going right trying figure way want take life want many thing biggest problem know operating impression female never looked boxy okay help gay friend time one developed little crush get red described living worst nightmare trapped one place one one around dull wood serial killer would perfect place sadly tbh biased sound like shadowed think maybe hurt turned tell typical trait left check list sorry seems came bad time already reached quota however female like female make deal kick one antp leaning toward easy identify also imagine interrogation would go little bit like jack except mechanical rigging shock treatment equipment abandoned building old car batty jumper compliment trust psychopathic except emoticon weird one like laughing get hurt people running lawn mower like theme live know heart usual leave thing end mean time time work thing work mine mbp pleasure meet damn need trust instinct would closer going say exfp leaning toward way responded friend even gay lesbian one always come advice bow master great able build building duck duck duck shotgun never hard sad losing someone like knew right give big pat back awesome always correct oh tell stupid know play make laugh going take neuropsychology psychologist nightowl wake pm stay awake till personal opinion backed theory would suggest socially difficult socially indifferent also use social situation need arises personal stock desktop downloaded random stock site stock photobuckets tell open photoshop glad like static thanks made friend several hour work constructed every line static get avatar later one fellow teammate psychologist keep around long enough diagnosis like toy diagnosis psychologist friend friend tell\n",
      "[1 0 1 1]\n",
      "6\n"
     ]
    }
   ],
   "source": [
    "print(list_posts[1])\n",
    "print(list_personality[1])\n",
    "print(data[\"labels\"][1])"
   ]
  },
  {
   "cell_type": "code",
   "execution_count": 34,
   "metadata": {},
   "outputs": [
    {
     "name": "stdout",
     "output_type": "stream",
     "text": [
      "(8675,)\n",
      "(8675, 4)\n",
      "883\n",
      "585\n"
     ]
    }
   ],
   "source": [
    "#returns the max word numbers \n",
    "def max_post_words(posts):\n",
    "    maxLen=0\n",
    "    averageLen=0\n",
    "    for post in posts:\n",
    "        words=post.split()\n",
    "        averageLen=averageLen+len(words)\n",
    "        if maxLen < len(words):\n",
    "            maxLen=len(words)\n",
    "    averageLen=int(averageLen/len(posts))\n",
    "    return maxLen,averageLen\n",
    "print(list_posts.shape)\n",
    "print(list_personality.shape)\n",
    "maxlength,averagelen=max_post_words(list_posts)\n",
    "print(maxlength)\n",
    "print(averagelen)"
   ]
  },
  {
   "cell_type": "code",
   "execution_count": 23,
   "metadata": {},
   "outputs": [],
   "source": [
    "def read_glove_vecs(glove_file):\n",
    "    with open(glove_file, 'r', encoding=\"utf8\") as f:\n",
    "        words = set()\n",
    "        word_to_vec_map = {}\n",
    "        for line in f:\n",
    "            line = line.strip().split()\n",
    "            curr_word = line[0]\n",
    "            words.add(curr_word)\n",
    "            word_to_vec_map[curr_word] = np.array(line[1:], dtype=np.float64)\n",
    "        \n",
    "        i = 1\n",
    "        words_to_index = {}\n",
    "        index_to_words = {}\n",
    "        for w in sorted(words):\n",
    "            words_to_index[w] = i\n",
    "            index_to_words[i] = w\n",
    "            i = i + 1\n",
    "    return words_to_index, index_to_words, word_to_vec_map\n",
    "word_to_index, index_to_word, word_to_vec_map = read_glove_vecs('./dataset/glove.6B/glove.6B.50d.txt')"
   ]
  },
  {
   "cell_type": "code",
   "execution_count": 24,
   "metadata": {},
   "outputs": [
    {
     "name": "stdout",
     "output_type": "stream",
     "text": [
      "148433\n",
      "finding\n",
      "[ 1.0427    -0.0063726  0.14249   -0.20253    0.81903    0.45835\n",
      " -0.53618    0.4273     0.87353    0.36      -0.13102    0.031936\n",
      " -0.3458     0.048457   0.53903    0.076773   0.51641   -0.39471\n",
      "  0.33282   -0.71322   -0.014848   0.5072     0.1407     0.052006\n",
      "  0.47805   -1.2841    -0.50835    0.040056   0.55624   -0.14598\n",
      "  2.6381    -0.19551   -0.22558   -1.0202     0.57369    0.20545\n",
      " -0.14149    0.44701    0.17831   -0.55761   -0.14858   -0.14687\n",
      "  0.29202    0.35834    0.22295   -0.12368    0.12302    0.53954\n",
      "  0.29452   -0.051312 ]\n"
     ]
    }
   ],
   "source": [
    "print(word_to_index[\"finding\"])\n",
    "print(index_to_word[148433])\n",
    "print(word_to_vec_map[\"finding\"])"
   ]
  },
  {
   "cell_type": "code",
   "execution_count": 43,
   "metadata": {},
   "outputs": [
    {
     "name": "stdout",
     "output_type": "stream",
     "text": [
      "0 of 8675 rows\n",
      "1 of 8675 rows\n",
      "500 of 8675 rows\n",
      "1000 of 8675 rows\n",
      "1500 of 8675 rows\n",
      "2000 of 8675 rows\n",
      "2500 of 8675 rows\n",
      "3000 of 8675 rows\n",
      "3500 of 8675 rows\n",
      "4000 of 8675 rows\n",
      "4500 of 8675 rows\n",
      "5000 of 8675 rows\n",
      "5500 of 8675 rows\n",
      "6000 of 8675 rows\n",
      "6500 of 8675 rows\n",
      "7000 of 8675 rows\n",
      "7500 of 8675 rows\n",
      "8000 of 8675 rows\n",
      "8500 of 8675 rows\n",
      "(8675, 585)\n"
     ]
    }
   ],
   "source": [
    "def sentences_to_indices(X, word_to_index, max_len):\n",
    "    m = X.shape[0]                                   \n",
    "    X_indices = np.zeros((m,max_len))\n",
    "    for i in range(m):\n",
    "        if (i % 500 == 0 or i == 1 or i == m):\n",
    "            print(\"%s of %s rows\" % (i, m))\n",
    "        sentence_words =X[i].lower().split()\n",
    "        j = 0\n",
    "        for w in sentence_words:\n",
    "            if j==max_len:\n",
    "                break\n",
    "            if w in word_to_index:\n",
    "                X_indices[i, j] = word_to_index[w]\n",
    "            j = j+1\n",
    "    return X_indices\n",
    "X=sentences_to_indices(list_posts, word_to_index, averagelen)\n",
    "print(X.shape)"
   ]
  },
  {
   "cell_type": "code",
   "execution_count": 44,
   "metadata": {},
   "outputs": [],
   "source": [
    "def pretrained_embedding_layer(word_to_vec_map, word_to_index):\n",
    "    vocab_len = len(word_to_index) + 1\n",
    "    emb_dim = word_to_vec_map[\"cucumber\"].shape[0] \n",
    "    \n",
    "    emb_matrix = np.zeros((vocab_len,emb_dim))\n",
    "    for word, idx in word_to_index.items():\n",
    "        emb_matrix[idx, :] = word_to_vec_map[word]\n",
    "    embedding_layer = Embedding(vocab_len,emb_dim) \n",
    "    embedding_layer.build((None,)) \n",
    "    embedding_layer.set_weights([emb_matrix])\n",
    "    \n",
    "    return embedding_layer"
   ]
  },
  {
   "cell_type": "code",
   "execution_count": 45,
   "metadata": {},
   "outputs": [],
   "source": [
    "# defining the multitask learning loss function\n",
    "def calculate_loss(name,y_true,y_pred):\n",
    "    current_loss=K.sum(K.binary_crossentropy(y_true,y_pred))\n",
    "    return current_loss\n",
    "def custom_loss(y_true,y_pred):\n",
    "    total_loss= K.constant(value=K.epsilon(),dtype=K.floatx())\n",
    "    for name in task_list:\n",
    "        total_loss= total_loss + calculate_loss(name,y_true,y_pred)\n",
    "    total_loss=total_loss/len(task_list)\n",
    "    return total_loss"
   ]
  },
  {
   "cell_type": "code",
   "execution_count": 46,
   "metadata": {},
   "outputs": [],
   "source": [
    "def multi_loss(y_true,y_pred):\n",
    "    return K.exp(K.mean(K.log(K.mean(K.square(y_pred - y_true), axis=0)), axis=-1))"
   ]
  },
  {
   "cell_type": "code",
   "execution_count": 47,
   "metadata": {},
   "outputs": [],
   "source": [
    "def f1(y_true, y_pred):\n",
    "    def recall(y_true, y_pred):\n",
    "        \"\"\"Recall metric.\n",
    "\n",
    "        Only computes a batch-wise average of recall.\n",
    "\n",
    "        Computes the recall, a metric for multi-label classification of\n",
    "        how many relevant items are selected.\n",
    "        \"\"\"\n",
    "        true_positives = K.sum(K.round(K.clip(y_true * y_pred, 0, 1)))\n",
    "        possible_positives = K.sum(K.round(K.clip(y_true, 0, 1)))\n",
    "        recall = true_positives / (possible_positives + K.epsilon())\n",
    "        return recall\n",
    "\n",
    "    def precision(y_true, y_pred):\n",
    "        \"\"\"Precision metric.\n",
    "\n",
    "        Only computes a batch-wise average of precision.\n",
    "\n",
    "        Computes the precision, a metric for multi-label classification of\n",
    "        how many selected items are relevant.\n",
    "        \"\"\"\n",
    "        true_positives = K.sum(K.round(K.clip(y_true * y_pred, 0, 1)))\n",
    "        predicted_positives = K.sum(K.round(K.clip(y_pred, 0, 1)))\n",
    "        precision = true_positives / (predicted_positives + K.epsilon())\n",
    "        return precision\n",
    "    precision = precision(y_true, y_pred)\n",
    "    recall = recall(y_true, y_pred)\n",
    "    return 2*((precision*recall)/(precision+recall+K.epsilon()))"
   ]
  },
  {
   "cell_type": "code",
   "execution_count": 48,
   "metadata": {},
   "outputs": [
    {
     "name": "stdout",
     "output_type": "stream",
     "text": [
      "Model: \"model_4\"\n",
      "__________________________________________________________________________________________________\n",
      "Layer (type)                    Output Shape         Param #     Connected to                     \n",
      "==================================================================================================\n",
      "input_7 (InputLayer)            (None, 585)          0                                            \n",
      "__________________________________________________________________________________________________\n",
      "embedding_7 (Embedding)         (None, 585, 50)      20000050    input_7[0][0]                    \n",
      "__________________________________________________________________________________________________\n",
      "bidirectional_5 (Bidirectional) (None, 585, 512)     628736      embedding_7[0][0]                \n",
      "__________________________________________________________________________________________________\n",
      "dropout_5 (Dropout)             (None, 585, 512)     0           bidirectional_5[0][0]            \n",
      "__________________________________________________________________________________________________\n",
      "bidirectional_6 (Bidirectional) (None, 512)          1574912     dropout_5[0][0]                  \n",
      "__________________________________________________________________________________________________\n",
      "dropout_6 (Dropout)             (None, 512)          0           bidirectional_6[0][0]            \n",
      "__________________________________________________________________________________________________\n",
      "I/E_classifier (Dense)          (None, 1)            513         dropout_6[0][0]                  \n",
      "__________________________________________________________________________________________________\n",
      "N/S_classifier (Dense)          (None, 1)            513         dropout_6[0][0]                  \n",
      "__________________________________________________________________________________________________\n",
      "F/T_classifier (Dense)          (None, 1)            513         dropout_6[0][0]                  \n",
      "__________________________________________________________________________________________________\n",
      "J/P_classifier (Dense)          (None, 1)            513         dropout_6[0][0]                  \n",
      "__________________________________________________________________________________________________\n",
      "activation_13 (Activation)      (None, 1)            0           I/E_classifier[0][0]             \n",
      "__________________________________________________________________________________________________\n",
      "activation_14 (Activation)      (None, 1)            0           N/S_classifier[0][0]             \n",
      "__________________________________________________________________________________________________\n",
      "activation_15 (Activation)      (None, 1)            0           F/T_classifier[0][0]             \n",
      "__________________________________________________________________________________________________\n",
      "activation_16 (Activation)      (None, 1)            0           J/P_classifier[0][0]             \n",
      "__________________________________________________________________________________________________\n",
      "final_output (Concatenate)      (None, 4)            0           activation_13[0][0]              \n",
      "                                                                 activation_14[0][0]              \n",
      "                                                                 activation_15[0][0]              \n",
      "                                                                 activation_16[0][0]              \n",
      "==================================================================================================\n",
      "Total params: 22,205,750\n",
      "Trainable params: 22,205,750\n",
      "Non-trainable params: 0\n",
      "__________________________________________________________________________________________________\n"
     ]
    }
   ],
   "source": [
    "def personnality_model(input_shape, word_to_vec_map, word_to_index):\n",
    "    \n",
    "    sentence_indices = Input(shape=input_shape, dtype='int32')\n",
    "    embedding_layer = pretrained_embedding_layer(word_to_vec_map, word_to_index)\n",
    "    embeddings = embedding_layer(sentence_indices)   \n",
    "    X = Bidirectional(LSTM(256,return_sequences=True))(embeddings)\n",
    "    X = Dropout(0.25)(X)\n",
    "    X = Bidirectional(LSTM(256))(X)\n",
    "    X = Dropout(0.25)(X)\n",
    "    '''X = LSTM(128,return_sequences=False)(X)\n",
    "    X = Dropout(0.5)(X)\n",
    "    Dense(1)(X)\n",
    "    Activation('sigmoid')(X)\n",
    "    '''\n",
    "    X1=Dense(1,name=\"I/E_classifier\")(X)\n",
    "    X1Output=Activation(\"sigmoid\")(X1)\n",
    "    \n",
    "    X2=Dense(1,name=\"N/S_classifier\")(X)\n",
    "    X2Output=Activation(\"sigmoid\")(X2)\n",
    "    \n",
    "    X3=Dense(1,name=\"F/T_classifier\")(X)\n",
    "    X3Output=Activation(\"sigmoid\")(X3)\n",
    "    \n",
    "    X4=Dense(1,name=\"J/P_classifier\")(X)\n",
    "    X4Output=Activation(\"sigmoid\")(X4)\n",
    "    \n",
    "    finalOutput=concatenate(\n",
    "    inputs=[X1Output,X2Output,X3Output,X4Output],\n",
    "    name='final_output')\n",
    "    \n",
    "    model = model = Model(inputs=sentence_indices, outputs=finalOutput)\n",
    "    return model\n",
    "\n",
    "task_list=['I/E_classifier','N/S_classifier','F/T_classifier','J/P_classifier']\n",
    "model = personnality_model((averagelen,), word_to_vec_map, word_to_index)\n",
    "model.summary()"
   ]
  },
  {
   "cell_type": "code",
   "execution_count": 49,
   "metadata": {},
   "outputs": [
    {
     "name": "stdout",
     "output_type": "stream",
     "text": [
      "[[0 0 0 0]\n",
      " [1 0 1 1]]\n"
     ]
    }
   ],
   "source": [
    "Y = list_personality\n",
    "print(Y[0:2])"
   ]
  },
  {
   "cell_type": "code",
   "execution_count": 50,
   "metadata": {
    "scrolled": true
   },
   "outputs": [
    {
     "name": "stdout",
     "output_type": "stream",
     "text": [
      "Train on 6940 samples, validate on 867 samples\n",
      "Epoch 1/20\n",
      "6940/6940 [==============================] - 333s 48ms/step - loss: 0.1866 - accuracy: 0.2255 - f1: 0.5423 - val_loss: 0.1812 - val_accuracy: 0.3091 - val_f1: 0.6364\n",
      "Epoch 2/20\n",
      "6940/6940 [==============================] - 338s 49ms/step - loss: 0.1839 - accuracy: 0.2545 - f1: 0.5699 - val_loss: 0.1786 - val_accuracy: 0.3045 - val_f1: 0.6182\n",
      "Epoch 3/20\n",
      "6940/6940 [==============================] - 336s 48ms/step - loss: 0.1774 - accuracy: 0.2921 - f1: 0.6011 - val_loss: 0.1761 - val_accuracy: 0.2964 - val_f1: 0.6166\n",
      "Epoch 4/20\n",
      "6940/6940 [==============================] - 344s 50ms/step - loss: 0.1748 - accuracy: 0.3094 - f1: 0.6052 - val_loss: 0.1796 - val_accuracy: 0.3010 - val_f1: 0.6270\n",
      "Epoch 5/20\n",
      "6940/6940 [==============================] - 327s 47ms/step - loss: 0.1712 - accuracy: 0.3144 - f1: 0.6160 - val_loss: 0.1807 - val_accuracy: 0.2872 - val_f1: 0.5589\n",
      "Epoch 6/20\n",
      "6940/6940 [==============================] - 328s 47ms/step - loss: 0.1606 - accuracy: 0.3653 - f1: 0.6419 - val_loss: 0.1831 - val_accuracy: 0.3230 - val_f1: 0.6227\n",
      "Epoch 7/20\n",
      "6940/6940 [==============================] - 325s 47ms/step - loss: 0.1481 - accuracy: 0.3902 - f1: 0.6647 - val_loss: 0.1812 - val_accuracy: 0.3449 - val_f1: 0.6174\n",
      "Epoch 8/20\n",
      "6940/6940 [==============================] - 322s 46ms/step - loss: 0.1326 - accuracy: 0.4182 - f1: 0.6923 - val_loss: 0.1906 - val_accuracy: 0.3287 - val_f1: 0.5448\n",
      "Epoch 9/20\n",
      "6940/6940 [==============================] - 326s 47ms/step - loss: 0.1202 - accuracy: 0.4370 - f1: 0.7135 - val_loss: 0.2040 - val_accuracy: 0.3299 - val_f1: 0.5514\n",
      "Epoch 10/20\n",
      "6940/6940 [==============================] - 320s 46ms/step - loss: 0.1019 - accuracy: 0.4540 - f1: 0.7450 - val_loss: 0.2028 - val_accuracy: 0.3460 - val_f1: 0.5661\n",
      "Epoch 11/20\n",
      "6940/6940 [==============================] - 334s 48ms/step - loss: 0.0932 - accuracy: 0.4620 - f1: 0.7597 - val_loss: 0.2164 - val_accuracy: 0.3183 - val_f1: 0.5358\n",
      "Epoch 12/20\n",
      "6940/6940 [==============================] - 332s 48ms/step - loss: 0.1095 - accuracy: 0.4001 - f1: 0.7081 - val_loss: 0.2335 - val_accuracy: 0.2226 - val_f1: 0.4372\n",
      "Epoch 13/20\n",
      "6940/6940 [==============================] - 326s 47ms/step - loss: 0.1125 - accuracy: 0.4030 - f1: 0.7160 - val_loss: 0.2276 - val_accuracy: 0.3183 - val_f1: 0.4942\n",
      "Epoch 14/20\n",
      "6940/6940 [==============================] - 326s 47ms/step - loss: 0.0690 - accuracy: 0.4798 - f1: 0.8055 - val_loss: 0.2253 - val_accuracy: 0.3333 - val_f1: 0.5168\n",
      "Epoch 15/20\n",
      "6940/6940 [==============================] - 323s 47ms/step - loss: 0.0632 - accuracy: 0.4834 - f1: 0.8161 - val_loss: 0.2266 - val_accuracy: 0.3472 - val_f1: 0.5902\n",
      "Epoch 16/20\n",
      "6940/6940 [==============================] - 325s 47ms/step - loss: 0.0947 - accuracy: 0.4301 - f1: 0.7555 - val_loss: 0.2276 - val_accuracy: 0.3437 - val_f1: 0.5703\n",
      "Epoch 17/20\n",
      "6940/6940 [==============================] - 327s 47ms/step - loss: 0.0550 - accuracy: 0.4961 - f1: 0.8339 - val_loss: 0.2345 - val_accuracy: 0.3368 - val_f1: 0.4963\n",
      "Epoch 18/20\n",
      "6940/6940 [==============================] - 329s 47ms/step - loss: 0.0464 - accuracy: 0.5007 - f1: 0.8459 - val_loss: 0.2380 - val_accuracy: 0.3322 - val_f1: 0.5388\n",
      "Epoch 19/20\n",
      "6940/6940 [==============================] - 335s 48ms/step - loss: 0.0382 - accuracy: 0.5045 - f1: 0.8580 - val_loss: 0.2429 - val_accuracy: 0.3472 - val_f1: 0.5517\n",
      "Epoch 20/20\n",
      "6940/6940 [==============================] - 336s 48ms/step - loss: 0.0445 - accuracy: 0.4996 - f1: 0.8568 - val_loss: 0.2423 - val_accuracy: 0.3414 - val_f1: 0.5541\n"
     ]
    }
   ],
   "source": [
    "# initializing some hyperparameters\n",
    "INIT_LR = 0.005\n",
    "EPOCHS = 20\n",
    "BS = 32\n",
    "opt = Adam(lr=INIT_LR, decay=INIT_LR / EPOCHS)\n",
    "model.compile(loss=multi_loss, optimizer=opt, metrics=['accuracy',f1])\n",
    "(X_train, X_temp, Y_train, Y_temp) = train_test_split(X,Y,test_size=0.2, random_state=42)\n",
    "(X_valid, X_test, Y_valid, Y_test) = train_test_split(X_temp,Y_temp,test_size=0.5, random_state=42)\n",
    "history=model.fit(X_train, Y_train,validation_data=(X_valid,Y_valid), epochs = EPOCHS, batch_size = BS, shuffle=True)"
   ]
  },
  {
   "cell_type": "code",
   "execution_count": 51,
   "metadata": {
    "scrolled": true
   },
   "outputs": [
    {
     "name": "stdout",
     "output_type": "stream",
     "text": [
      "868/868 [==============================] - 8s 9ms/step\n",
      "Accuracy :  0.3214285671710968\n",
      "F1 Score : 0.5337350368499756\n",
      "Loss : 0.24105524137822165\n",
      "Prediction : [0. 0. 1. 1.]  Actual Value : [0 0 1 1]\n",
      "Prediction : [0. 0. 1. 0.]  Actual Value : [0 0 0 1]\n",
      "Prediction : [0. 0. 1. 0.]  Actual Value : [0 0 1 1]\n",
      "Prediction : [0. 0. 1. 0.]  Actual Value : [0 0 0 0]\n",
      "Prediction : [0. 0. 1. 0.]  Actual Value : [1 0 1 0]\n",
      "Prediction : [0. 0. 1. 0.]  Actual Value : [0 0 1 1]\n",
      "Prediction : [0. 0. 1. 0.]  Actual Value : [0 0 0 0]\n",
      "Prediction : [0. 0. 0. 0.]  Actual Value : [0 0 0 1]\n",
      "Prediction : [0. 0. 0. 0.]  Actual Value : [0 0 1 1]\n",
      "Prediction : [0. 0. 0. 0.]  Actual Value : [0 0 0 1]\n",
      "Prediction : [0. 0. 1. 1.]  Actual Value : [0 0 0 1]\n",
      "Prediction : [1. 0. 1. 1.]  Actual Value : [0 1 1 1]\n",
      "Prediction : [0. 0. 1. 1.]  Actual Value : [1 0 1 0]\n",
      "Prediction : [0. 0. 1. 1.]  Actual Value : [0 1 0 1]\n",
      "Prediction : [0. 0. 1. 1.]  Actual Value : [1 0 1 1]\n",
      "Prediction : [0. 0. 0. 1.]  Actual Value : [1 0 1 0]\n",
      "Prediction : [0. 0. 0. 1.]  Actual Value : [1 0 1 1]\n",
      "Prediction : [0. 0. 0. 1.]  Actual Value : [0 1 0 0]\n",
      "Prediction : [0. 0. 1. 0.]  Actual Value : [0 0 1 1]\n",
      "Prediction : [0. 0. 0. 1.]  Actual Value : [0 0 0 0]\n",
      "Prediction : [0. 0. 0. 0.]  Actual Value : [0 0 0 0]\n",
      "Prediction : [1. 0. 0. 1.]  Actual Value : [1 0 0 0]\n",
      "Prediction : [0. 0. 0. 1.]  Actual Value : [0 1 1 1]\n",
      "Prediction : [1. 0. 1. 1.]  Actual Value : [1 0 1 0]\n",
      "Prediction : [0. 0. 0. 1.]  Actual Value : [0 0 0 1]\n",
      "Prediction : [0. 0. 0. 1.]  Actual Value : [0 0 0 1]\n",
      "Prediction : [1. 0. 1. 1.]  Actual Value : [1 0 1 1]\n",
      "Prediction : [0. 0. 0. 0.]  Actual Value : [1 0 0 0]\n",
      "Prediction : [1. 0. 1. 1.]  Actual Value : [1 0 0 1]\n",
      "Prediction : [0. 0. 0. 1.]  Actual Value : [0 0 0 0]\n",
      "Prediction : [0. 0. 0. 1.]  Actual Value : [0 0 0 1]\n",
      "Prediction : [0. 0. 0. 1.]  Actual Value : [0 0 0 0]\n",
      "Prediction : [0. 0. 1. 0.]  Actual Value : [0 1 1 1]\n",
      "Prediction : [0. 0. 0. 1.]  Actual Value : [0 0 1 1]\n",
      "Prediction : [1. 0. 1. 1.]  Actual Value : [0 1 1 1]\n",
      "Prediction : [0. 0. 0. 1.]  Actual Value : [0 1 1 1]\n",
      "Prediction : [0. 0. 1. 0.]  Actual Value : [0 0 0 1]\n",
      "Prediction : [0. 0. 0. 1.]  Actual Value : [0 0 0 1]\n",
      "Prediction : [0. 0. 0. 1.]  Actual Value : [1 0 0 1]\n",
      "Prediction : [1. 0. 0. 1.]  Actual Value : [0 0 1 0]\n",
      "Prediction : [0. 0. 1. 1.]  Actual Value : [1 0 1 1]\n",
      "Prediction : [0. 0. 0. 1.]  Actual Value : [1 0 0 1]\n",
      "Prediction : [0. 0. 1. 0.]  Actual Value : [0 0 0 0]\n",
      "Prediction : [0. 1. 1. 1.]  Actual Value : [0 0 0 0]\n",
      "Prediction : [0. 0. 1. 1.]  Actual Value : [0 0 1 1]\n",
      "Prediction : [0. 0. 0. 1.]  Actual Value : [0 0 1 1]\n",
      "Prediction : [1. 0. 1. 0.]  Actual Value : [0 1 1 1]\n",
      "Prediction : [0. 0. 1. 1.]  Actual Value : [0 0 1 1]\n",
      "Prediction : [0. 0. 0. 1.]  Actual Value : [0 1 0 1]\n",
      "Prediction : [0. 0. 0. 1.]  Actual Value : [0 0 0 1]\n",
      "Prediction : [0. 0. 1. 1.]  Actual Value : [0 0 1 0]\n",
      "Prediction : [0. 0. 0. 1.]  Actual Value : [0 1 1 0]\n",
      "Prediction : [0. 0. 1. 1.]  Actual Value : [0 0 1 0]\n",
      "Prediction : [0. 0. 0. 1.]  Actual Value : [0 0 1 0]\n",
      "Prediction : [0. 0. 0. 1.]  Actual Value : [0 0 0 0]\n",
      "Prediction : [0. 0. 0. 1.]  Actual Value : [0 0 0 1]\n",
      "Prediction : [0. 0. 0. 1.]  Actual Value : [0 1 0 1]\n",
      "Prediction : [0. 0. 0. 1.]  Actual Value : [0 0 1 0]\n",
      "Prediction : [0. 0. 0. 1.]  Actual Value : [0 0 1 1]\n",
      "Prediction : [0. 0. 0. 1.]  Actual Value : [0 1 1 0]\n",
      "Prediction : [1. 0. 0. 1.]  Actual Value : [0 0 0 0]\n",
      "Prediction : [0. 0. 0. 1.]  Actual Value : [1 0 1 1]\n",
      "Prediction : [0. 0. 1. 1.]  Actual Value : [1 0 0 1]\n",
      "Prediction : [0. 0. 0. 1.]  Actual Value : [0 0 1 0]\n",
      "Prediction : [0. 0. 0. 1.]  Actual Value : [0 0 0 1]\n",
      "Prediction : [0. 0. 0. 1.]  Actual Value : [1 0 0 1]\n",
      "Prediction : [0. 0. 0. 1.]  Actual Value : [0 0 0 0]\n",
      "Prediction : [0. 0. 1. 1.]  Actual Value : [1 0 1 1]\n",
      "Prediction : [0. 0. 1. 1.]  Actual Value : [0 0 0 1]\n",
      "Prediction : [0. 0. 0. 1.]  Actual Value : [1 0 1 0]\n",
      "Prediction : [0. 0. 1. 0.]  Actual Value : [0 1 1 1]\n",
      "Prediction : [0. 0. 1. 0.]  Actual Value : [0 0 1 1]\n",
      "Prediction : [0. 0. 0. 1.]  Actual Value : [0 1 1 1]\n",
      "Prediction : [0. 0. 0. 1.]  Actual Value : [0 1 0 1]\n",
      "Prediction : [0. 0. 0. 1.]  Actual Value : [0 0 0 1]\n",
      "Prediction : [0. 0. 0. 1.]  Actual Value : [0 0 0 1]\n",
      "Prediction : [0. 0. 1. 1.]  Actual Value : [0 0 0 0]\n",
      "Prediction : [0. 0. 0. 1.]  Actual Value : [0 0 0 1]\n",
      "Prediction : [0. 0. 0. 1.]  Actual Value : [0 0 1 1]\n",
      "Prediction : [1. 0. 1. 1.]  Actual Value : [0 0 0 1]\n",
      "Prediction : [0. 0. 0. 0.]  Actual Value : [0 0 0 1]\n",
      "Prediction : [1. 0. 0. 1.]  Actual Value : [0 0 0 1]\n",
      "Prediction : [0. 0. 0. 1.]  Actual Value : [0 0 0 0]\n",
      "Prediction : [0. 0. 0. 1.]  Actual Value : [0 0 1 1]\n",
      "Prediction : [0. 0. 1. 1.]  Actual Value : [1 0 1 1]\n",
      "Prediction : [0. 0. 0. 0.]  Actual Value : [0 0 1 1]\n",
      "Prediction : [0. 0. 0. 1.]  Actual Value : [0 0 0 0]\n",
      "Prediction : [0. 0. 0. 1.]  Actual Value : [0 0 0 1]\n",
      "Prediction : [0. 0. 0. 1.]  Actual Value : [0 0 0 0]\n",
      "Prediction : [0. 0. 0. 1.]  Actual Value : [0 0 0 1]\n",
      "Prediction : [0. 0. 1. 1.]  Actual Value : [1 0 0 1]\n",
      "Prediction : [0. 0. 0. 1.]  Actual Value : [1 0 0 1]\n",
      "Prediction : [0. 0. 0. 1.]  Actual Value : [0 0 0 0]\n",
      "Prediction : [0. 0. 0. 1.]  Actual Value : [0 0 0 1]\n",
      "Prediction : [0. 0. 1. 1.]  Actual Value : [0 0 1 1]\n",
      "Prediction : [0. 0. 0. 1.]  Actual Value : [0 0 1 1]\n",
      "Prediction : [0. 0. 1. 0.]  Actual Value : [1 0 0 1]\n",
      "Prediction : [0. 0. 1. 0.]  Actual Value : [1 0 0 0]\n",
      "Prediction : [0. 0. 0. 1.]  Actual Value : [1 0 1 1]\n",
      "Prediction : [0. 0. 1. 1.]  Actual Value : [0 0 0 0]\n",
      "Total accuracy :  0.19\n",
      "I/E accuracy :  0.73\n",
      "N/S accuracy :  0.84\n",
      "F/T accuracy :  0.61\n",
      "J/P accuracy :  0.58\n",
      "Binary accuracy : 0.69\n"
     ]
    }
   ],
   "source": [
    "test_loss, test_acc,test_f1 = model.evaluate(X_test,Y_test)\n",
    "print(\"Accuracy : \",test_acc)\n",
    "print(\"F1 Score :\",test_f1)\n",
    "print(\"Loss :\",test_loss)\n",
    "Yhat=model.predict(X_test[:100])\n",
    "correct=0\n",
    "correctlabels=[0,0,0,0]\n",
    "for i,prediction in enumerate(Yhat):\n",
    "    for j,value in enumerate(prediction):\n",
    "        if (value<0.5):\n",
    "            prediction[j]=0\n",
    "        else:\n",
    "            prediction[j]=1\n",
    "        if(prediction[j]==Y_test[i][j]):\n",
    "            correctlabels[j]+=1\n",
    "    if (np.array_equal(prediction,Y_test[i])):\n",
    "        correct+=1\n",
    "    print(\"Prediction :\",prediction,\" Actual Value :\",Y_test[i] )\n",
    "print(\"Total accuracy : \",correct/100)\n",
    "print(\"I/E accuracy : \",correctlabels[0]/100)\n",
    "print(\"N/S accuracy : \",correctlabels[1]/100)\n",
    "print(\"F/T accuracy : \",correctlabels[2]/100)\n",
    "print(\"J/P accuracy : \",correctlabels[3]/100)\n",
    "print(\"Binary accuracy :\",np.sum(correctlabels)/(4*100))"
   ]
  },
  {
   "cell_type": "code",
   "execution_count": 19,
   "metadata": {},
   "outputs": [
    {
     "data": {
      "text/plain": [
       "<matplotlib.legend.Legend at 0x1ea30c373c8>"
      ]
     },
     "execution_count": 19,
     "metadata": {},
     "output_type": "execute_result"
    },
    {
     "data": {
      "image/png": "[encoded data removed]",
      "text/plain": [
       "<Figure size 432x288 with 1 Axes>"
      ]
     },
     "metadata": {
      "needs_background": "light"
     },
     "output_type": "display_data"
    }
   ],
   "source": [
    "# plotting Accuracy\n",
    "plt.plot(history.history['accuracy'], label='accuracy')\n",
    "plt.plot(history.history['val_accuracy'], label = 'val_accuracy')\n",
    "plt.xlabel('Epoch')\n",
    "plt.ylabel('Accuracy')\n",
    "plt.legend(loc='lower right')"
   ]
  },
  {
   "cell_type": "code",
   "execution_count": 20,
   "metadata": {},
   "outputs": [
    {
     "data": {
      "text/plain": [
       "<matplotlib.legend.Legend at 0x1ea30ca56a0>"
      ]
     },
     "execution_count": 20,
     "metadata": {},
     "output_type": "execute_result"
    },
    {
     "data": {
      "image/png": "[encoded data removed]",
      "text/plain": [
       "<Figure size 432x288 with 1 Axes>"
      ]
     },
     "metadata": {
      "needs_background": "light"
     },
     "output_type": "display_data"
    }
   ],
   "source": [
    "# plotting Losshistory\n",
    "plt.plot(history.history['loss'], label='loss')\n",
    "plt.plot(history.history['val_loss'], label = 'val_loss')\n",
    "plt.xlabel('Epoch')\n",
    "plt.ylabel('Loss')\n",
    "plt.legend(loc='lower right')"
   ]
  },
  {
   "cell_type": "code",
   "execution_count": null,
   "metadata": {},
   "outputs": [],
   "source": []
  }
 ],
 "metadata": {
  "kernelspec": {
   "display_name": "Python 3",
   "language": "python",
   "name": "python3"
  },
  "language_info": {
   "codemirror_mode": {
    "name": "ipython",
    "version": 3
   },
   "file_extension": ".py",
   "mimetype": "text/x-python",
   "name": "python",
   "nbconvert_exporter": "python",
   "pygments_lexer": "ipython3",
   "version": "3.7.3"
  }
 },
 "nbformat": 4,
 "nbformat_minor": 2
}
