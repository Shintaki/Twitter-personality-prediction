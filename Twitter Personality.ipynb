{
 "cells": [
  {
   "cell_type": "code",
   "execution_count": 154,
   "metadata": {},
   "outputs": [],
   "source": [
    "import matplotlib.pyplot as plt\n",
    "import numpy as np\n",
    "import pandas as pd\n",
    "import re\n",
    "from nltk.stem import PorterStemmer, WordNetLemmatizer\n",
    "from nltk.corpus import stopwords \n",
    "from nltk import word_tokenize\n",
    "from keras.models import Model\n",
    "from keras.layers import Dense, Input, Dropout, LSTM, Activation,concatenate,Bidirectional,BatchNormalization, Lambda, Layer\n",
    "from keras.initializers import Constant\n",
    "import keras.backend as K\n",
    "from keras.layers.embeddings import Embedding\n",
    "from sklearn.model_selection import train_test_split\n",
    "from sklearn.preprocessing import LabelEncoder\n",
    "from tensorflow.keras.utils import to_categorical\n",
    "import tensorflow as tf\n",
    "from tensorflow.keras.optimizers import Adam\n",
    "import emoji\n"
   ]
  },
  {
   "cell_type": "code",
   "execution_count": 155,
   "metadata": {},
   "outputs": [
    {
     "name": "stdout",
     "output_type": "stream",
     "text": [
      "2.1.0\n",
      "/device:GPU:0\n"
     ]
    }
   ],
   "source": [
    "print(tf.__version__)\n",
    "print(tf.test.gpu_device_name())"
   ]
  },
  {
   "cell_type": "code",
   "execution_count": 156,
   "metadata": {},
   "outputs": [],
   "source": [
    "RANDOM_SEED = 42\n",
    "\n",
    "np.random.seed(RANDOM_SEED)\n",
    "tf.random.set_seed(RANDOM_SEED)"
   ]
  },
  {
   "cell_type": "code",
   "execution_count": 157,
   "metadata": {},
   "outputs": [
    {
     "name": "stdout",
     "output_type": "stream",
     "text": [
      "   type                                              posts\n",
      "0  INFJ  'http://www.youtube.com/watch?v=qsXHcwe3krw|||...\n",
      "1  ENTP  'I'm finding the lack of me in these posts ver...\n",
      "2  INTP  'Good one  _____   https://www.youtube.com/wat...\n",
      "3  INTJ  'Dear INTP,   I enjoyed our conversation the o...\n",
      "4  ENTJ  'You're fired.|||That's another silly misconce...\n"
     ]
    }
   ],
   "source": [
    "data = pd.read_csv(\"./dataset/dataset.csv\")\n",
    "print(data.head())"
   ]
  },
  {
   "cell_type": "code",
   "execution_count": 158,
   "metadata": {},
   "outputs": [],
   "source": [
    "def char_is_emoji(character):\n",
    "    return character in emoji.UNICODE_EMOJI\n",
    "\n",
    "def text_has_emoji(text):\n",
    "    return(bool(emoji.get_emoji_regexp().search(text)))\n",
    "\n",
    "def returnEmojis(text):\n",
    "    listEmojis=[]\n",
    "    for c in text:\n",
    "        if (char_is_emoji(c)):\n",
    "            listEmojis.append(c)\n",
    "    return(listEmojis)"
   ]
  },
  {
   "cell_type": "code",
   "execution_count": 159,
   "metadata": {},
   "outputs": [
    {
     "name": "stdout",
     "output_type": "stream",
     "text": [
      "   type                                              posts  words_per_comment  \\\n",
      "0  INFJ  'http://www.youtube.com/watch?v=qsXHcwe3krw|||...              11.12   \n",
      "1  ENTP  'I'm finding the lack of me in these posts ver...              23.40   \n",
      "2  INTP  'Good one  _____   https://www.youtube.com/wat...              16.72   \n",
      "3  INTJ  'Dear INTP,   I enjoyed our conversation the o...              21.28   \n",
      "4  ENTJ  'You're fired.|||That's another silly misconce...              19.34   \n",
      "\n",
      "   question_per_comment  excl_per_comment  ellipsis_per_comment  \\\n",
      "0                  0.36              0.06                  0.30   \n",
      "1                  0.10              0.00                  0.38   \n",
      "2                  0.24              0.08                  0.26   \n",
      "3                  0.22              0.06                  0.52   \n",
      "4                  0.20              0.02                  0.42   \n",
      "\n",
      "   @_per_comment  #_per_comment  emojis_per_comment  \n",
      "0           0.00            0.0                 0.0  \n",
      "1           0.00            0.0                 0.0  \n",
      "2           0.00            0.0                 0.0  \n",
      "3           0.00            0.0                 0.0  \n",
      "4           0.04            0.0                 0.0  \n"
     ]
    },
    {
     "data": {
      "text/plain": [
       "(8675, 9)"
      ]
     },
     "execution_count": 159,
     "metadata": {},
     "output_type": "execute_result"
    }
   ],
   "source": [
    "data['words_per_comment'] = data['posts'].apply(lambda x: len(x.split())/50)\n",
    "data['question_per_comment'] = data['posts'].apply(lambda x: x.count('?')/50)\n",
    "data['excl_per_comment'] = data['posts'].apply(lambda x: x.count('!')/50)\n",
    "data['ellipsis_per_comment'] = data['posts'].apply(lambda x: x.count('...')/50)\n",
    "data['@_per_comment'] = data['posts'].apply(lambda x: x.count('@')/50)\n",
    "data['#_per_comment'] = data['posts'].apply(lambda x: x.count('#')/50)\n",
    "data['emojis_per_comment'] = data['posts'].apply(lambda x: (len(returnEmojis(x)))/50)\n",
    "print(data.head())\n",
    "data.shape"
   ]
  },
  {
   "cell_type": "code",
   "execution_count": 160,
   "metadata": {},
   "outputs": [
    {
     "data": {
      "text/html": [
       "<div>\n",
       "<style scoped>\n",
       "    .dataframe tbody tr th:only-of-type {\n",
       "        vertical-align: middle;\n",
       "    }\n",
       "\n",
       "    .dataframe tbody tr th {\n",
       "        vertical-align: top;\n",
       "    }\n",
       "\n",
       "    .dataframe thead th {\n",
       "        text-align: right;\n",
       "    }\n",
       "</style>\n",
       "<table border=\"1\" class=\"dataframe\">\n",
       "  <thead>\n",
       "    <tr style=\"text-align: right;\">\n",
       "      <th></th>\n",
       "      <th>type</th>\n",
       "      <th>posts</th>\n",
       "      <th>words_per_comment</th>\n",
       "      <th>question_per_comment</th>\n",
       "      <th>excl_per_comment</th>\n",
       "      <th>ellipsis_per_comment</th>\n",
       "      <th>@_per_comment</th>\n",
       "      <th>#_per_comment</th>\n",
       "      <th>emojis_per_comment</th>\n",
       "      <th>labels</th>\n",
       "    </tr>\n",
       "  </thead>\n",
       "  <tbody>\n",
       "    <tr>\n",
       "      <th>8670</th>\n",
       "      <td>ISFP</td>\n",
       "      <td>'https://www.youtube.com/watch?v=t8edHB_h908||...</td>\n",
       "      <td>15.92</td>\n",
       "      <td>0.18</td>\n",
       "      <td>0.12</td>\n",
       "      <td>0.14</td>\n",
       "      <td>0.00</td>\n",
       "      <td>0.00</td>\n",
       "      <td>0.0</td>\n",
       "      <td>9</td>\n",
       "    </tr>\n",
       "    <tr>\n",
       "      <th>8671</th>\n",
       "      <td>ENFP</td>\n",
       "      <td>'So...if this thread already exists someplace ...</td>\n",
       "      <td>26.18</td>\n",
       "      <td>0.20</td>\n",
       "      <td>0.66</td>\n",
       "      <td>0.82</td>\n",
       "      <td>0.04</td>\n",
       "      <td>0.02</td>\n",
       "      <td>0.0</td>\n",
       "      <td>4</td>\n",
       "    </tr>\n",
       "    <tr>\n",
       "      <th>8672</th>\n",
       "      <td>INTP</td>\n",
       "      <td>'So many questions when i do these things.  I ...</td>\n",
       "      <td>18.96</td>\n",
       "      <td>0.18</td>\n",
       "      <td>0.02</td>\n",
       "      <td>0.38</td>\n",
       "      <td>0.02</td>\n",
       "      <td>0.00</td>\n",
       "      <td>0.0</td>\n",
       "      <td>3</td>\n",
       "    </tr>\n",
       "    <tr>\n",
       "      <th>8673</th>\n",
       "      <td>INFP</td>\n",
       "      <td>'I am very conflicted right now when it comes ...</td>\n",
       "      <td>34.10</td>\n",
       "      <td>0.18</td>\n",
       "      <td>0.06</td>\n",
       "      <td>0.94</td>\n",
       "      <td>0.00</td>\n",
       "      <td>0.00</td>\n",
       "      <td>0.0</td>\n",
       "      <td>0</td>\n",
       "    </tr>\n",
       "    <tr>\n",
       "      <th>8674</th>\n",
       "      <td>INFP</td>\n",
       "      <td>'It has been too long since I have been on per...</td>\n",
       "      <td>27.22</td>\n",
       "      <td>0.12</td>\n",
       "      <td>0.10</td>\n",
       "      <td>0.48</td>\n",
       "      <td>0.02</td>\n",
       "      <td>0.00</td>\n",
       "      <td>0.0</td>\n",
       "      <td>0</td>\n",
       "    </tr>\n",
       "  </tbody>\n",
       "</table>\n",
       "</div>"
      ],
      "text/plain": [
       "      type                                              posts  \\\n",
       "8670  ISFP  'https://www.youtube.com/watch?v=t8edHB_h908||...   \n",
       "8671  ENFP  'So...if this thread already exists someplace ...   \n",
       "8672  INTP  'So many questions when i do these things.  I ...   \n",
       "8673  INFP  'I am very conflicted right now when it comes ...   \n",
       "8674  INFP  'It has been too long since I have been on per...   \n",
       "\n",
       "      words_per_comment  question_per_comment  excl_per_comment  \\\n",
       "8670              15.92                  0.18              0.12   \n",
       "8671              26.18                  0.20              0.66   \n",
       "8672              18.96                  0.18              0.02   \n",
       "8673              34.10                  0.18              0.06   \n",
       "8674              27.22                  0.12              0.10   \n",
       "\n",
       "      ellipsis_per_comment  @_per_comment  #_per_comment  emojis_per_comment  \\\n",
       "8670                  0.14           0.00           0.00                 0.0   \n",
       "8671                  0.82           0.04           0.02                 0.0   \n",
       "8672                  0.38           0.02           0.00                 0.0   \n",
       "8673                  0.94           0.00           0.00                 0.0   \n",
       "8674                  0.48           0.02           0.00                 0.0   \n",
       "\n",
       "      labels  \n",
       "8670       9  \n",
       "8671       4  \n",
       "8672       3  \n",
       "8673       0  \n",
       "8674       0  "
      ]
     },
     "execution_count": 160,
     "metadata": {},
     "output_type": "execute_result"
    }
   ],
   "source": [
    "full_Pers_list = {'INFP' :0 ,'INTJ' :1 ,'INFJ' :2, 'INTP' :3 ,'ENFP' :4 ,'ENTJ' :5, 'ENTP' :6 ,'ENFJ' :7, 'ISFJ' :8 ,'ISFP' :9 ,'ISTJ' :10 ,'ISTP' :11 ,'ESFJ' :12,'ESFP' :13 ,'ESTJ' :14 ,'ESTP' :15}\n",
    "def type_to_16(typeList):\n",
    "    labels=[]\n",
    "    for t in typeList:\n",
    "        labels.append(full_Pers_list[t])\n",
    "    return(labels)\n",
    "\n",
    "def type16_to_vector_label(data):\n",
    "    for i,label in enumerate(data):\n",
    "        translation=np.zeros((16))\n",
    "        translation[int(label)]=1\n",
    "        data[i]=translation\n",
    "        \n",
    "labels=type_to_16(data[\"type\"])\n",
    "data[\"labels\"]=labels\n",
    "data.tail()"
   ]
  },
  {
   "cell_type": "code",
   "execution_count": 161,
   "metadata": {},
   "outputs": [],
   "source": [
    "b_Pers = {'I':0, 'E':1, 'N':0, 'S':1, 'F':0, 'T':1, 'J':0, 'P':1}\n",
    "b_Pers_list = [{0:'I', 1:'E'}, {0:'N', 1:'S'}, {0:'F', 1:'T'}, {0:'J', 1:'P'}]\n",
    "\n",
    "def translate_personality(personality):\n",
    "    # transform mbti to binary vector\n",
    "    \n",
    "    return [b_Pers[l] for l in personality]"
   ]
  },
  {
   "cell_type": "code",
   "execution_count": 162,
   "metadata": {},
   "outputs": [],
   "source": [
    "# We want to remove these from the posts\n",
    "unique_type_list = ['INFJ', 'ENTP', 'INTP', 'INTJ', 'ENTJ', 'ENFJ', 'INFP', 'ENFP',\n",
    "       'ISFP', 'ISTP', 'ISFJ', 'ISTJ', 'ESTP', 'ESFP', 'ESTJ', 'ESFJ']\n",
    "  \n",
    "unique_type_list = [x.lower() for x in unique_type_list]\n",
    "\n",
    "\n",
    "# Lemmatize\n",
    "stemmer = PorterStemmer()\n",
    "lemmatiser = WordNetLemmatizer()\n",
    "\n",
    "# Cache the stop words for speed \n",
    "cachedStopWords = stopwords.words(\"english\")\n",
    "\n",
    "def pre_process_data(data, remove_stop_words=True, remove_mbti_profiles=True):\n",
    "\n",
    "    list_personality = []\n",
    "    list_posts = []\n",
    "    len_data = len(data)\n",
    "    i=0\n",
    "    \n",
    "    for row in data.iterrows():\n",
    "        i+=1\n",
    "        if (i % 500 == 0 or i == 1 or i == len_data):\n",
    "            print(\"%s of %s rows\" % (i, len_data))\n",
    "\n",
    "        ##### Remove and clean comments using regular expressions\n",
    "        posts = row[1].posts\n",
    "        temp = re.sub('http[s]?://(?:[a-zA-Z]|[0-9]|[$-_@.&+]|(?:%[0-9a-fA-F][0-9a-fA-F]))+', ' ', posts)\n",
    "        temp = re.sub(\"[^a-zA-Z]\", \" \", temp)\n",
    "        temp = re.sub(' +', ' ', temp).lower()\n",
    "        if remove_stop_words:\n",
    "            temp = \" \".join([lemmatiser.lemmatize(w) for w in temp.split(' ') if w not in cachedStopWords])\n",
    "        else:\n",
    "            temp = \" \".join([lemmatiser.lemmatize(w) for w in temp.split(' ')])\n",
    "            \n",
    "        if remove_mbti_profiles:\n",
    "            for t in unique_type_list:\n",
    "                temp = temp.replace(t,\"\")\n",
    "        ##### Remove single-charactered words that remain from the cleaning\n",
    "        words=temp.split()\n",
    "        finalTemp=\"\"\n",
    "        for word in words:\n",
    "            if(len(word)>1):\n",
    "                finalTemp=finalTemp+\" \"+word\n",
    "        type_labelized = translate_personality(row[1].type)\n",
    "        list_personality.append(type_labelized)\n",
    "        list_posts.append(finalTemp)\n",
    "\n",
    "    list_posts = np.array(list_posts)\n",
    "    list_personality = np.array(list_personality)\n",
    "    return list_posts, list_personality"
   ]
  },
  {
   "cell_type": "code",
   "execution_count": 163,
   "metadata": {},
   "outputs": [
    {
     "name": "stdout",
     "output_type": "stream",
     "text": [
      "1 of 8675 rows\n",
      "500 of 8675 rows\n",
      "1000 of 8675 rows\n",
      "1500 of 8675 rows\n",
      "2000 of 8675 rows\n",
      "2500 of 8675 rows\n",
      "3000 of 8675 rows\n",
      "3500 of 8675 rows\n",
      "4000 of 8675 rows\n",
      "4500 of 8675 rows\n",
      "5000 of 8675 rows\n",
      "5500 of 8675 rows\n",
      "6000 of 8675 rows\n",
      "6500 of 8675 rows\n",
      "7000 of 8675 rows\n",
      "7500 of 8675 rows\n",
      "8000 of 8675 rows\n",
      "8500 of 8675 rows\n",
      "8675 of 8675 rows\n"
     ]
    }
   ],
   "source": [
    "list_posts, list_personality  = pre_process_data(data, remove_stop_words=True)"
   ]
  },
  {
   "cell_type": "code",
   "execution_count": 164,
   "metadata": {},
   "outputs": [
    {
     "name": "stdout",
     "output_type": "stream",
     "text": [
      " finding lack post alarming sex boring position often example girlfriend currently environment creatively use cowgirl missionary enough giving new meaning game theory hello grin take converse flirting acknowledge presence return word smooth wordplay cheeky grin lack balance hand eye coordination real iq test score internet iq test funny score higher like former response thread mention believe iq test banish know vanish site year half return find people still commenting post liking idea thought know think thing sometimes go old sherlock holmes quote perhaps man special knowledge special power like rather encourages seek complex cheshirewolf tumblr com post really never thought real function judge use use ne ti dominates fe emotion rarely si also use ni due strength know though ingenious saying really want try see happens playing first person shooter back drive around want see look rock paper one best make lol guy lucky really high tumblr system hear new first person shooter game rocking hell soundtrack auto sound equipment shake heaven managed put couple way connected thing ne ne dominates aware environment se dominates example shawn spencer patrick jane well charlie first admit get jealous like chalk heart mixed dominate like noticed like known upload clip mic away mouth hear anything ninja assassin style splatter tik tok really great song long mental block singer love beat make bounce drop io swck mic really close mouth smokin ace assassin ball playing background sociable extrovert extrovert sociable sherlock movie normally played extj book said movie looked good except called sherlock holmes oh never fear kissing guy kiss animal nothing vanish personal taste liking guy kissed know one sound pretty much like area going right trying figure way want take life want many thing biggest problem know operating impression female never looked boxy okay help gay friend time one developed little crush get red described living worst nightmare trapped one place one one around dull wood serial killer would perfect place sadly tbh biased sound like shadowed think maybe hurt turned tell typical trait left check list sorry seems came bad time already reached quota however female like female make deal kick one antp leaning toward easy identify also imagine interrogation would go little bit like jack except mechanical rigging shock treatment equipment abandoned building old car batty jumper compliment trust psychopathic except emoticon weird one like laughing get hurt people running lawn mower like theme live know heart usual leave thing end mean time time work thing work mine mbp pleasure meet damn need trust instinct would closer going say exfp leaning toward way responded friend even gay lesbian one always come advice bow master great able build building duck duck duck shotgun never hard sad losing someone like knew right give big pat back awesome always correct oh tell stupid know play make laugh going take neuropsychology psychologist nightowl wake pm stay awake till personal opinion backed theory would suggest socially difficult socially indifferent also use social situation need arises personal stock desktop downloaded random stock site stock photobuckets tell open photoshop glad like static thanks made friend several hour work constructed every line static get avatar later one fellow teammate psychologist keep around long enough diagnosis like toy diagnosis psychologist friend friend tell\n",
      "[1 0 1 1]\n",
      "6\n"
     ]
    }
   ],
   "source": [
    "print(list_posts[1])\n",
    "print(list_personality[1])\n",
    "print(data[\"labels\"][1])"
   ]
  },
  {
   "cell_type": "code",
   "execution_count": 165,
   "metadata": {},
   "outputs": [
    {
     "name": "stdout",
     "output_type": "stream",
     "text": [
      "(8675,)\n",
      "(8675, 4)\n",
      "883\n",
      "585\n"
     ]
    }
   ],
   "source": [
    "#returns the max word numbers \n",
    "def max_post_words(posts):\n",
    "    maxLen=0\n",
    "    averageLen=0\n",
    "    for post in posts:\n",
    "        words=post.split()\n",
    "        averageLen=averageLen+len(words)\n",
    "        if maxLen < len(words):\n",
    "            maxLen=len(words)\n",
    "    averageLen=int(averageLen/len(posts))\n",
    "    return maxLen,averageLen\n",
    "print(list_posts.shape)\n",
    "print(list_personality.shape)\n",
    "maxlength,averagelen=max_post_words(list_posts)\n",
    "print(maxlength)\n",
    "print(averagelen)"
   ]
  },
  {
   "cell_type": "code",
   "execution_count": 166,
   "metadata": {},
   "outputs": [],
   "source": [
    "def read_glove_vecs(glove_file):\n",
    "    with open(glove_file, 'r', encoding=\"utf8\") as f:\n",
    "        words = set()\n",
    "        word_to_vec_map = {}\n",
    "        for line in f:\n",
    "            line = line.strip().split()\n",
    "            curr_word = line[0]\n",
    "            words.add(curr_word)\n",
    "            word_to_vec_map[curr_word] = np.array(line[1:], dtype=np.float64)\n",
    "        \n",
    "        i = 1\n",
    "        words_to_index = {}\n",
    "        index_to_words = {}\n",
    "        for w in sorted(words):\n",
    "            words_to_index[w] = i\n",
    "            index_to_words[i] = w\n",
    "            i = i + 1\n",
    "    return words_to_index, index_to_words, word_to_vec_map\n",
    "word_to_index, index_to_word, word_to_vec_map = read_glove_vecs('./dataset/glove.6B/glove.6B.50d.txt')"
   ]
  },
  {
   "cell_type": "code",
   "execution_count": 167,
   "metadata": {},
   "outputs": [
    {
     "name": "stdout",
     "output_type": "stream",
     "text": [
      "148433\n",
      "finding\n",
      "[ 1.0427    -0.0063726  0.14249   -0.20253    0.81903    0.45835\n",
      " -0.53618    0.4273     0.87353    0.36      -0.13102    0.031936\n",
      " -0.3458     0.048457   0.53903    0.076773   0.51641   -0.39471\n",
      "  0.33282   -0.71322   -0.014848   0.5072     0.1407     0.052006\n",
      "  0.47805   -1.2841    -0.50835    0.040056   0.55624   -0.14598\n",
      "  2.6381    -0.19551   -0.22558   -1.0202     0.57369    0.20545\n",
      " -0.14149    0.44701    0.17831   -0.55761   -0.14858   -0.14687\n",
      "  0.29202    0.35834    0.22295   -0.12368    0.12302    0.53954\n",
      "  0.29452   -0.051312 ]\n"
     ]
    }
   ],
   "source": [
    "print(word_to_index[\"finding\"])\n",
    "print(index_to_word[148433])\n",
    "print(word_to_vec_map[\"finding\"])"
   ]
  },
  {
   "cell_type": "code",
   "execution_count": 168,
   "metadata": {},
   "outputs": [
    {
     "name": "stdout",
     "output_type": "stream",
     "text": [
      "0 of 8675 rows\n",
      "1 of 8675 rows\n",
      "500 of 8675 rows\n",
      "1000 of 8675 rows\n",
      "1500 of 8675 rows\n",
      "2000 of 8675 rows\n",
      "2500 of 8675 rows\n",
      "3000 of 8675 rows\n",
      "3500 of 8675 rows\n",
      "4000 of 8675 rows\n",
      "4500 of 8675 rows\n",
      "5000 of 8675 rows\n",
      "5500 of 8675 rows\n",
      "6000 of 8675 rows\n",
      "6500 of 8675 rows\n",
      "7000 of 8675 rows\n",
      "7500 of 8675 rows\n",
      "8000 of 8675 rows\n",
      "8500 of 8675 rows\n",
      "(8675, 585)\n"
     ]
    }
   ],
   "source": [
    "def sentences_to_indices(X, word_to_index, max_len):\n",
    "    m = X.shape[0]                                   \n",
    "    X_indices = np.zeros((m,max_len))\n",
    "    for i in range(m):\n",
    "        if (i % 500 == 0 or i == 1 or i == m):\n",
    "            print(\"%s of %s rows\" % (i, m))\n",
    "        sentence_words =X[i].lower().split()\n",
    "        j = 0\n",
    "        for w in sentence_words:\n",
    "            if j==max_len:\n",
    "                break\n",
    "            if w in word_to_index:\n",
    "                X_indices[i, j] = word_to_index[w]\n",
    "            j = j+1\n",
    "    return X_indices\n",
    "X=sentences_to_indices(list_posts, word_to_index, averagelen)\n",
    "print(X.shape)"
   ]
  },
  {
   "cell_type": "code",
   "execution_count": 174,
   "metadata": {},
   "outputs": [
    {
     "data": {
      "text/plain": [
       "\"\\nX=np.ndarray.tolist(X)\\nwaste=[post.append(data['words_per_comment'][i]) for i,post in enumerate(X)]\\nwaste=[post.append(data['question_per_comment'][i]) for i,post in enumerate(X)]\\nwaste=[post.append(data['excl_per_comment'][i]) for i,post in enumerate(X)]\\nwaste=[post.append(data['ellipsis_per_comment'][i]) for i,post in enumerate(X)]\\nwaste=[post.append(data['@_per_comment'][i]) for i,post in enumerate(X)]\\nwaste=[post.append(data['#_per_comment'][i]) for i,post in enumerate(X)]\\nwaste=[post.append(data['emojis_per_comment'][i]) for i,post in enumerate(X)]\\nprint(X[0])\\nX=np.array(X)\\nprint(X[0])\\n\""
      ]
     },
     "execution_count": 174,
     "metadata": {},
     "output_type": "execute_result"
    }
   ],
   "source": [
    "'''\n",
    "X=np.ndarray.tolist(X)\n",
    "waste=[post.append(data['words_per_comment'][i]) for i,post in enumerate(X)]\n",
    "waste=[post.append(data['question_per_comment'][i]) for i,post in enumerate(X)]\n",
    "waste=[post.append(data['excl_per_comment'][i]) for i,post in enumerate(X)]\n",
    "waste=[post.append(data['ellipsis_per_comment'][i]) for i,post in enumerate(X)]\n",
    "waste=[post.append(data['@_per_comment'][i]) for i,post in enumerate(X)]\n",
    "waste=[post.append(data['#_per_comment'][i]) for i,post in enumerate(X)]\n",
    "waste=[post.append(data['emojis_per_comment'][i]) for i,post in enumerate(X)]\n",
    "print(X[0])\n",
    "X=np.array(X)\n",
    "print(X[0])\n",
    "'''"
   ]
  },
  {
   "cell_type": "code",
   "execution_count": 170,
   "metadata": {},
   "outputs": [],
   "source": [
    "def pretrained_embedding_layer(word_to_vec_map, word_to_index):\n",
    "    vocab_len = len(word_to_index) + 1\n",
    "    emb_dim = word_to_vec_map[\"cucumber\"].shape[0] \n",
    "    \n",
    "    emb_matrix = np.zeros((vocab_len,emb_dim))\n",
    "    for word, idx in word_to_index.items():\n",
    "        emb_matrix[idx, :] = word_to_vec_map[word]\n",
    "    embedding_layer = Embedding(vocab_len,emb_dim) \n",
    "    embedding_layer.build((None,)) \n",
    "    embedding_layer.set_weights([emb_matrix])\n",
    "    \n",
    "    return embedding_layer"
   ]
  },
  {
   "cell_type": "code",
   "execution_count": 171,
   "metadata": {},
   "outputs": [],
   "source": [
    "def multi_loss(y_true,y_pred):\n",
    "    return K.exp(K.mean(K.log(K.mean(K.square(y_pred - y_true), axis=0)), axis=-1))\n",
    "def multi_loss2(y_true,y_pred):\n",
    "    return K.mean(K.sum(K.binary_crossentropy(y_true,y_pred)))"
   ]
  },
  {
   "cell_type": "code",
   "execution_count": 172,
   "metadata": {},
   "outputs": [],
   "source": [
    "def f1(y_true, y_pred):\n",
    "    def recall(y_true, y_pred):\n",
    "        \"\"\"Recall metric.\n",
    "\n",
    "        Only computes a batch-wise average of recall.\n",
    "\n",
    "        Computes the recall, a metric for multi-label classification of\n",
    "        how many relevant items are selected.\n",
    "        \"\"\"\n",
    "        true_positives = K.sum(K.round(K.clip(y_true * y_pred, 0, 1)))\n",
    "        possible_positives = K.sum(K.round(K.clip(y_true, 0, 1)))\n",
    "        recall = true_positives / (possible_positives + K.epsilon())\n",
    "        return recall\n",
    "\n",
    "    def precision(y_true, y_pred):\n",
    "        \"\"\"Precision metric.\n",
    "\n",
    "        Only computes a batch-wise average of precision.\n",
    "\n",
    "        Computes the precision, a metric for multi-label classification of\n",
    "        how many selected items are relevant.\n",
    "        \"\"\"\n",
    "        true_positives = K.sum(K.round(K.clip(y_true * y_pred, 0, 1)))\n",
    "        predicted_positives = K.sum(K.round(K.clip(y_pred, 0, 1)))\n",
    "        precision = true_positives / (predicted_positives + K.epsilon())\n",
    "        return precision\n",
    "    precision = precision(y_true, y_pred)\n",
    "    recall = recall(y_true, y_pred)\n",
    "    return 2*((precision*recall)/(precision+recall+K.epsilon()))"
   ]
  },
  {
   "cell_type": "code",
   "execution_count": 175,
   "metadata": {},
   "outputs": [
    {
     "name": "stdout",
     "output_type": "stream",
     "text": [
      "Model: \"model_5\"\n",
      "__________________________________________________________________________________________________\n",
      "Layer (type)                    Output Shape         Param #     Connected to                     \n",
      "==================================================================================================\n",
      "input_5 (InputLayer)            (None, 585)          0                                            \n",
      "__________________________________________________________________________________________________\n",
      "embedding_5 (Embedding)         (None, 585, 50)      20000050    input_5[0][0]                    \n",
      "__________________________________________________________________________________________________\n",
      "bidirectional_5 (Bidirectional) (None, 256)          183296      embedding_5[0][0]                \n",
      "__________________________________________________________________________________________________\n",
      "dropout_5 (Dropout)             (None, 256)          0           bidirectional_5[0][0]            \n",
      "__________________________________________________________________________________________________\n",
      "I/E_classifier (Dense)          (None, 1)            257         dropout_5[0][0]                  \n",
      "__________________________________________________________________________________________________\n",
      "N/S_classifier (Dense)          (None, 1)            257         dropout_5[0][0]                  \n",
      "__________________________________________________________________________________________________\n",
      "F/T_classifier (Dense)          (None, 1)            257         dropout_5[0][0]                  \n",
      "__________________________________________________________________________________________________\n",
      "J/P_classifier (Dense)          (None, 1)            257         dropout_5[0][0]                  \n",
      "__________________________________________________________________________________________________\n",
      "activation_17 (Activation)      (None, 1)            0           I/E_classifier[0][0]             \n",
      "__________________________________________________________________________________________________\n",
      "activation_18 (Activation)      (None, 1)            0           N/S_classifier[0][0]             \n",
      "__________________________________________________________________________________________________\n",
      "activation_19 (Activation)      (None, 1)            0           F/T_classifier[0][0]             \n",
      "__________________________________________________________________________________________________\n",
      "activation_20 (Activation)      (None, 1)            0           J/P_classifier[0][0]             \n",
      "__________________________________________________________________________________________________\n",
      "final_output (Concatenate)      (None, 4)            0           activation_17[0][0]              \n",
      "                                                                 activation_18[0][0]              \n",
      "                                                                 activation_19[0][0]              \n",
      "                                                                 activation_20[0][0]              \n",
      "==================================================================================================\n",
      "Total params: 20,184,374\n",
      "Trainable params: 20,184,374\n",
      "Non-trainable params: 0\n",
      "__________________________________________________________________________________________________\n"
     ]
    }
   ],
   "source": [
    "def personnality_model(input_shape, word_to_vec_map, word_to_index):\n",
    "    \n",
    "    sentence_indices = Input(shape=input_shape, dtype='int32')\n",
    "    embedding_layer = pretrained_embedding_layer(word_to_vec_map, word_to_index)\n",
    "    embeddings = embedding_layer(sentence_indices)   \n",
    "    X = Bidirectional(LSTM(128,return_sequences=False))(embeddings)\n",
    "    X = Dropout(0.25)(X)\n",
    "    ''' X = Dense(1)(X)\n",
    "    X = Activation('sigmoid')(X)\n",
    "    '''\n",
    "    X1=Dense(1,name=\"I/E_classifier\")(X)\n",
    "    X1Output=Activation(\"sigmoid\")(X1)\n",
    "    \n",
    "    X2=Dense(1,name=\"N/S_classifier\")(X)\n",
    "    X2Output=Activation(\"sigmoid\")(X2)\n",
    "    \n",
    "    X3=Dense(1,name=\"F/T_classifier\")(X)\n",
    "    X3Output=Activation(\"sigmoid\")(X3)\n",
    "    \n",
    "    X4=Dense(1,name=\"J/P_classifier\")(X)\n",
    "    X4Output=Activation(\"sigmoid\")(X4)\n",
    "    \n",
    "    finalOutput=concatenate(\n",
    "    inputs=[X1Output,X2Output,X3Output,X4Output],\n",
    "    name='final_output')\n",
    "    \n",
    "    model = model = Model(inputs=sentence_indices, outputs=finalOutput)\n",
    "    return model\n",
    "\n",
    "task_list=['I/E_classifier','N/S_classifier','F/T_classifier','J/P_classifier']\n",
    "model = personnality_model((averagelen,), word_to_vec_map, word_to_index)\n",
    "model.summary()"
   ]
  },
  {
   "cell_type": "code",
   "execution_count": 176,
   "metadata": {},
   "outputs": [],
   "source": [
    "Y = list_personality"
   ]
  },
  {
   "cell_type": "code",
   "execution_count": null,
   "metadata": {
    "scrolled": true
   },
   "outputs": [
    {
     "name": "stdout",
     "output_type": "stream",
     "text": [
      "Train on 6940 samples, validate on 867 samples\n",
      "Epoch 1/10\n",
      "6940/6940 [==============================] - 253s 36ms/step - loss: 74.0677 - accuracy: 0.2339 - f1: 0.5368 - val_loss: 73.5051 - val_accuracy: 0.2249 - val_f1: 0.5238\n",
      "Epoch 2/10\n",
      "6940/6940 [==============================] - 252s 36ms/step - loss: 72.1231 - accuracy: 0.2684 - f1: 0.5801 - val_loss: 71.5943 - val_accuracy: 0.3183 - val_f1: 0.6123\n",
      "Epoch 3/10\n",
      "6940/6940 [==============================] - 255s 37ms/step - loss: 69.3996 - accuracy: 0.3202 - f1: 0.6124 - val_loss: 70.4509 - val_accuracy: 0.3264 - val_f1: 0.5927\n",
      "Epoch 4/10\n",
      "6940/6940 [==============================] - 249s 36ms/step - loss: 66.2496 - accuracy: 0.3465 - f1: 0.6357 - val_loss: 70.0088 - val_accuracy: 0.3264 - val_f1: 0.6034\n",
      "Epoch 5/10\n",
      "6940/6940 [==============================] - 248s 36ms/step - loss: 62.2170 - accuracy: 0.3676 - f1: 0.6513 - val_loss: 73.0913 - val_accuracy: 0.3172 - val_f1: 0.5917\n",
      "Epoch 6/10\n",
      "6940/6940 [==============================] - 249s 36ms/step - loss: 56.7838 - accuracy: 0.4014 - f1: 0.6909 - val_loss: 73.3591 - val_accuracy: 0.3368 - val_f1: 0.5896\n",
      "Epoch 7/10\n",
      "6940/6940 [==============================] - 242s 35ms/step - loss: 50.1747 - accuracy: 0.4274 - f1: 0.7370 - val_loss: 81.0150 - val_accuracy: 0.3541 - val_f1: 0.5224\n",
      "Epoch 8/10\n",
      "6940/6940 [==============================] - 240s 35ms/step - loss: 41.2201 - accuracy: 0.4669 - f1: 0.7919 - val_loss: 89.0526 - val_accuracy: 0.3426 - val_f1: 0.5323\n",
      "Epoch 9/10\n",
      "6940/6940 [==============================] - 242s 35ms/step - loss: 32.3519 - accuracy: 0.5048 - f1: 0.8507 - val_loss: 96.9857 - val_accuracy: 0.3299 - val_f1: 0.5509\n",
      "Epoch 10/10\n",
      "5824/6940 [========================>.....] - ETA: 37s - loss: 24.6678 - accuracy: 0.5256 - f1: 0.8938"
     ]
    }
   ],
   "source": [
    "# initializing some hyperparameters\n",
    "INIT_LR = 0.001\n",
    "EPOCHS = 10\n",
    "BS = 32\n",
    "opt = Adam(lr=INIT_LR, decay=INIT_LR / EPOCHS)\n",
    "model.compile(loss=multi_loss2, optimizer=opt, metrics=['accuracy',f1])\n",
    "(X_train, X_temp, Y_train, Y_temp) = train_test_split(X,Y,test_size=0.2, random_state=42)\n",
    "(X_valid, X_test, Y_valid, Y_test) = train_test_split(X_temp,Y_temp,test_size=0.5, random_state=42)\n",
    "history=model.fit(X_train, Y_train,validation_data=(X_valid,Y_valid), batch_size=BS , epochs = EPOCHS, shuffle=True)"
   ]
  },
  {
   "cell_type": "code",
   "execution_count": null,
   "metadata": {
    "scrolled": true
   },
   "outputs": [],
   "source": [
    "test_loss, test_acc,test_f1 = model.evaluate(X_test,Y_test)\n",
    "print(\"Accuracy : \",test_acc)\n",
    "print(\"F1 Score :\",test_f1)\n",
    "print(\"Loss :\",test_loss)\n",
    "Yhat=model.predict(X_test)\n",
    "correct=0\n",
    "correctlabels=[0,0,0,0]\n",
    "for i,prediction in enumerate(Yhat):\n",
    "    for j,value in enumerate(prediction):\n",
    "        if (value<0.5):\n",
    "            prediction[j]=0\n",
    "        else:\n",
    "            prediction[j]=1\n",
    "        if(prediction[j]==Y_test[i][j]):\n",
    "            correctlabels[j]+=1\n",
    "    if (np.array_equal(prediction,Y_test[i])):\n",
    "        correct+=1\n",
    "    print(\"Prediction :\",prediction,\" Actual Value :\",Y_test[i] )\n",
    "print(\"Total accuracy : \",correct/len(X_test))\n",
    "print(\"I/E accuracy : \",correctlabels[0]/len(X_test))\n",
    "print(\"N/S accuracy : \",correctlabels[1]/len(X_test))\n",
    "print(\"F/T accuracy : \",correctlabels[2]/len(X_test))\n",
    "print(\"J/P accuracy : \",correctlabels[3]/len(X_test))\n",
    "print(\"Binary accuracy :\",np.sum(correctlabels)/(4*len(X_test)))"
   ]
  },
  {
   "cell_type": "code",
   "execution_count": 128,
   "metadata": {},
   "outputs": [
    {
     "data": {
      "text/plain": [
       "<matplotlib.legend.Legend at 0x23f35a93518>"
      ]
     },
     "execution_count": 128,
     "metadata": {},
     "output_type": "execute_result"
    },
    {
     "data": {
      "image/png": "[encoded data removed]",
      "text/plain": [
       "<Figure size 432x288 with 1 Axes>"
      ]
     },
     "metadata": {
      "needs_background": "light"
     },
     "output_type": "display_data"
    }
   ],
   "source": [
    "# plotting Accuracy\n",
    "plt.plot(history.history['accuracy'], label='accuracy')\n",
    "plt.plot(history.history['val_accuracy'], label = 'val_accuracy')\n",
    "plt.xlabel('Epoch')\n",
    "plt.ylabel('Accuracy')\n",
    "plt.legend(loc='lower right')"
   ]
  },
  {
   "cell_type": "code",
   "execution_count": 129,
   "metadata": {},
   "outputs": [
    {
     "data": {
      "text/plain": [
       "<matplotlib.legend.Legend at 0x23f099e0978>"
      ]
     },
     "execution_count": 129,
     "metadata": {},
     "output_type": "execute_result"
    },
    {
     "data": {
      "image/png": "[encoded data removed]",
      "text/plain": [
       "<Figure size 432x288 with 1 Axes>"
      ]
     },
     "metadata": {
      "needs_background": "light"
     },
     "output_type": "display_data"
    }
   ],
   "source": [
    "# plotting Losshistory\n",
    "plt.plot(history.history['loss'], label='loss')\n",
    "plt.plot(history.history['val_loss'], label = 'val_loss')\n",
    "plt.xlabel('Epoch')\n",
    "plt.ylabel('Loss')\n",
    "plt.legend(loc='lower right')"
   ]
  },
  {
   "cell_type": "code",
   "execution_count": 130,
   "metadata": {},
   "outputs": [
    {
     "data": {
      "text/plain": [
       "array([2.48238e+05, 3.40055e+05, 3.62050e+05, 3.55617e+05, 2.86375e+05,\n",
       "       2.90641e+05, 2.22138e+05, 9.67510e+04, 1.42808e+05, 2.22138e+05,\n",
       "       3.05817e+05, 3.61080e+05, 2.37383e+05, 2.81102e+05, 1.42808e+05,\n",
       "       1.87888e+05, 2.17787e+05, 3.57959e+05, 1.54049e+05, 2.89670e+05,\n",
       "       1.43882e+05, 1.05968e+05, 3.46797e+05, 2.60309e+05, 1.17874e+05,\n",
       "       3.06581e+05, 2.79610e+05, 1.76468e+05, 3.37914e+05, 1.75425e+05,\n",
       "       1.25803e+05, 2.57293e+05, 3.04966e+05, 2.81277e+05, 3.59889e+05,\n",
       "       1.41941e+05, 2.48238e+05, 1.42634e+05, 3.66254e+05, 1.48016e+05,\n",
       "       1.73236e+05, 3.59889e+05, 3.59889e+05, 1.67701e+05, 3.85183e+05,\n",
       "       3.45207e+05, 1.57049e+05, 3.25899e+05, 2.36422e+05, 2.94139e+05,\n",
       "       0.00000e+00, 2.19145e+05, 3.58108e+05, 2.45562e+05, 2.51070e+05,\n",
       "       2.19639e+05, 2.39170e+05, 2.51070e+05, 3.33176e+05, 1.21891e+05,\n",
       "       9.61890e+04, 3.84695e+05, 2.47412e+05, 2.37426e+05, 3.66254e+05,\n",
       "       1.33532e+05, 1.75391e+05, 5.26430e+04, 6.98420e+04, 1.05625e+05,\n",
       "       3.58549e+05, 1.93838e+05, 1.22191e+05, 3.68669e+05, 3.86476e+05,\n",
       "       3.68669e+05, 3.83068e+05, 3.90139e+05, 2.22484e+05, 3.74163e+05,\n",
       "       1.62058e+05, 3.68669e+05, 1.04539e+05, 1.55211e+05, 3.86320e+05,\n",
       "       2.19577e+05, 3.57959e+05, 2.47412e+05, 3.32159e+05, 1.89034e+05,\n",
       "       3.78547e+05, 1.57049e+05, 1.64328e+05, 2.69953e+05, 2.64588e+05,\n",
       "       1.64328e+05, 2.69953e+05, 3.37307e+05, 3.45915e+05, 1.06329e+05,\n",
       "       2.93383e+05, 1.18337e+05, 1.62058e+05, 3.31926e+05, 1.18309e+05,\n",
       "       1.45839e+05, 3.78547e+05, 1.57049e+05, 1.67685e+05, 1.13946e+05,\n",
       "       1.45839e+05, 3.78547e+05, 1.57049e+05, 1.08564e+05, 5.77210e+04,\n",
       "       2.17850e+05, 3.15103e+05, 3.37267e+05, 1.41948e+05, 3.82320e+05,\n",
       "       3.58464e+05, 1.07092e+05, 1.64328e+05, 3.57959e+05, 9.82410e+04,\n",
       "       3.59889e+05, 3.37043e+05, 3.07146e+05, 3.88747e+05, 1.90316e+05,\n",
       "       3.89938e+05, 3.86436e+05, 3.59889e+05, 3.89882e+05, 1.37548e+05,\n",
       "       3.59889e+05, 3.90052e+05, 2.80944e+05, 5.28790e+04, 5.99370e+04,\n",
       "       3.94017e+05, 2.15685e+05, 1.06370e+05, 2.81924e+05, 3.85218e+05,\n",
       "       1.77989e+05, 2.31068e+05, 3.36298e+05, 2.73137e+05, 3.91488e+05,\n",
       "       2.23944e+05, 1.08410e+05, 1.41816e+05, 3.77449e+05, 1.45615e+05,\n",
       "       2.97656e+05, 3.02352e+05, 1.23827e+05, 2.77915e+05, 6.81840e+04,\n",
       "       3.58522e+05, 3.06177e+05, 1.60418e+05, 1.78401e+05, 6.59050e+04,\n",
       "       3.09802e+05, 1.32701e+05, 0.00000e+00, 6.59050e+04, 1.08420e+05,\n",
       "       3.37302e+05, 1.90996e+05, 1.51055e+05, 2.36086e+05, 2.08434e+05,\n",
       "       6.81840e+04, 2.33708e+05, 3.25080e+05, 1.10156e+05, 3.57970e+05,\n",
       "       6.81840e+04, 3.83753e+05, 2.51034e+05, 1.09275e+05, 1.30759e+05,\n",
       "       6.81840e+04, 1.75376e+05, 1.02208e+05, 1.02496e+05, 3.53915e+05,\n",
       "       2.64612e+05, 2.80037e+05, 2.91876e+05, 6.81840e+04, 3.86897e+05,\n",
       "       1.82145e+05, 3.02476e+05, 3.68321e+05, 6.55260e+04, 1.19178e+05,\n",
       "       2.19577e+05, 3.08561e+05, 2.52885e+05, 7.18610e+04, 2.43674e+05,\n",
       "       3.74253e+05, 7.84560e+04, 3.68321e+05, 9.41690e+04, 1.23294e+05,\n",
       "       3.61080e+05, 2.17932e+05, 1.73065e+05, 1.21843e+05, 9.41490e+04,\n",
       "       1.23294e+05, 3.82654e+05, 3.23337e+05, 2.87582e+05, 3.89938e+05,\n",
       "       3.36351e+05, 1.41948e+05, 7.15860e+04, 2.70903e+05, 6.04290e+04,\n",
       "       6.04290e+04, 1.29077e+05, 1.86344e+05, 1.10224e+05, 1.51796e+05,\n",
       "       3.37302e+05, 2.22471e+05, 3.31395e+05, 3.85183e+05, 3.09945e+05,\n",
       "       3.00438e+05, 2.81904e+05, 1.28552e+05, 3.23981e+05, 1.40006e+05,\n",
       "       1.14295e+05, 6.40670e+04, 3.31395e+05, 6.04290e+04, 2.22471e+05,\n",
       "       2.93982e+05, 6.81840e+04, 3.52025e+05, 3.11178e+05, 7.16020e+04,\n",
       "       3.92298e+05, 1.64998e+05, 2.19109e+05, 3.27482e+05, 3.09726e+05,\n",
       "       6.81840e+04, 2.51645e+05, 3.58963e+05, 1.67814e+05, 2.07715e+05,\n",
       "       3.43914e+05, 3.93605e+05, 4.86200e+04, 2.69062e+05, 1.78401e+05,\n",
       "       3.21160e+05, 2.53590e+05, 1.75426e+05, 4.80030e+04, 1.44214e+05,\n",
       "       2.94743e+05, 3.38967e+05, 1.02208e+05, 3.93302e+05, 4.82620e+04,\n",
       "       3.37918e+05, 2.19111e+05, 1.10156e+05, 7.45970e+04, 2.89376e+05,\n",
       "       7.57740e+04, 2.77915e+05, 1.44227e+05, 2.73747e+05, 2.22471e+05,\n",
       "       2.81904e+05, 2.41081e+05, 1.07126e+05, 3.84122e+05, 2.51014e+05,\n",
       "       1.21051e+05, 5.89990e+04, 3.41875e+05, 2.59972e+05, 2.22138e+05,\n",
       "       0.00000e+00, 0.00000e+00, 0.00000e+00, 0.00000e+00, 0.00000e+00,\n",
       "       0.00000e+00, 0.00000e+00, 0.00000e+00, 0.00000e+00, 0.00000e+00,\n",
       "       0.00000e+00, 0.00000e+00, 0.00000e+00, 0.00000e+00, 0.00000e+00,\n",
       "       0.00000e+00, 0.00000e+00, 0.00000e+00, 0.00000e+00, 0.00000e+00,\n",
       "       0.00000e+00, 0.00000e+00, 0.00000e+00, 0.00000e+00, 0.00000e+00,\n",
       "       0.00000e+00, 0.00000e+00, 0.00000e+00, 0.00000e+00, 0.00000e+00,\n",
       "       0.00000e+00, 0.00000e+00, 0.00000e+00, 0.00000e+00, 0.00000e+00,\n",
       "       0.00000e+00, 0.00000e+00, 0.00000e+00, 0.00000e+00, 0.00000e+00,\n",
       "       0.00000e+00, 0.00000e+00, 0.00000e+00, 0.00000e+00, 0.00000e+00,\n",
       "       0.00000e+00, 0.00000e+00, 0.00000e+00, 0.00000e+00, 0.00000e+00,\n",
       "       0.00000e+00, 0.00000e+00, 0.00000e+00, 0.00000e+00, 0.00000e+00,\n",
       "       0.00000e+00, 0.00000e+00, 0.00000e+00, 0.00000e+00, 0.00000e+00,\n",
       "       0.00000e+00, 0.00000e+00, 0.00000e+00, 0.00000e+00, 0.00000e+00,\n",
       "       0.00000e+00, 0.00000e+00, 0.00000e+00, 0.00000e+00, 0.00000e+00,\n",
       "       0.00000e+00, 0.00000e+00, 0.00000e+00, 0.00000e+00, 0.00000e+00,\n",
       "       0.00000e+00, 0.00000e+00, 0.00000e+00, 0.00000e+00, 0.00000e+00,\n",
       "       0.00000e+00, 0.00000e+00, 0.00000e+00, 0.00000e+00, 0.00000e+00,\n",
       "       0.00000e+00, 0.00000e+00, 0.00000e+00, 0.00000e+00, 0.00000e+00,\n",
       "       0.00000e+00, 0.00000e+00, 0.00000e+00, 0.00000e+00, 0.00000e+00,\n",
       "       0.00000e+00, 0.00000e+00, 0.00000e+00, 0.00000e+00, 0.00000e+00,\n",
       "       0.00000e+00, 0.00000e+00, 0.00000e+00, 0.00000e+00, 0.00000e+00,\n",
       "       0.00000e+00, 0.00000e+00, 0.00000e+00, 0.00000e+00, 0.00000e+00,\n",
       "       0.00000e+00, 0.00000e+00, 0.00000e+00, 0.00000e+00, 0.00000e+00,\n",
       "       0.00000e+00, 0.00000e+00, 0.00000e+00, 0.00000e+00, 0.00000e+00,\n",
       "       0.00000e+00, 0.00000e+00, 0.00000e+00, 0.00000e+00, 0.00000e+00,\n",
       "       0.00000e+00, 0.00000e+00, 0.00000e+00, 0.00000e+00, 0.00000e+00,\n",
       "       0.00000e+00, 0.00000e+00, 0.00000e+00, 0.00000e+00, 0.00000e+00,\n",
       "       0.00000e+00, 0.00000e+00, 0.00000e+00, 0.00000e+00, 0.00000e+00,\n",
       "       0.00000e+00, 0.00000e+00, 0.00000e+00, 0.00000e+00, 0.00000e+00,\n",
       "       0.00000e+00, 0.00000e+00, 0.00000e+00, 0.00000e+00, 0.00000e+00,\n",
       "       0.00000e+00, 0.00000e+00, 0.00000e+00, 0.00000e+00, 0.00000e+00,\n",
       "       0.00000e+00, 0.00000e+00, 0.00000e+00, 0.00000e+00, 0.00000e+00,\n",
       "       0.00000e+00, 0.00000e+00, 0.00000e+00, 0.00000e+00, 0.00000e+00,\n",
       "       0.00000e+00, 0.00000e+00, 0.00000e+00, 0.00000e+00, 0.00000e+00,\n",
       "       0.00000e+00, 0.00000e+00, 0.00000e+00, 0.00000e+00, 0.00000e+00,\n",
       "       0.00000e+00, 0.00000e+00, 0.00000e+00, 0.00000e+00, 0.00000e+00,\n",
       "       0.00000e+00, 0.00000e+00, 0.00000e+00, 0.00000e+00, 0.00000e+00,\n",
       "       0.00000e+00, 0.00000e+00, 0.00000e+00, 0.00000e+00, 0.00000e+00,\n",
       "       0.00000e+00, 0.00000e+00, 0.00000e+00, 0.00000e+00, 0.00000e+00,\n",
       "       0.00000e+00, 0.00000e+00, 0.00000e+00, 0.00000e+00, 0.00000e+00,\n",
       "       0.00000e+00, 0.00000e+00, 0.00000e+00, 0.00000e+00, 0.00000e+00,\n",
       "       0.00000e+00, 0.00000e+00, 0.00000e+00, 0.00000e+00, 0.00000e+00,\n",
       "       0.00000e+00, 0.00000e+00, 0.00000e+00, 0.00000e+00, 0.00000e+00,\n",
       "       0.00000e+00, 0.00000e+00, 0.00000e+00, 0.00000e+00, 0.00000e+00,\n",
       "       0.00000e+00, 0.00000e+00, 0.00000e+00, 0.00000e+00, 0.00000e+00,\n",
       "       0.00000e+00, 0.00000e+00, 0.00000e+00, 0.00000e+00, 0.00000e+00,\n",
       "       0.00000e+00, 0.00000e+00, 0.00000e+00, 0.00000e+00, 0.00000e+00,\n",
       "       0.00000e+00, 0.00000e+00, 0.00000e+00, 0.00000e+00, 0.00000e+00,\n",
       "       0.00000e+00, 0.00000e+00, 0.00000e+00, 0.00000e+00, 0.00000e+00,\n",
       "       0.00000e+00, 0.00000e+00, 0.00000e+00, 0.00000e+00, 0.00000e+00,\n",
       "       0.00000e+00, 0.00000e+00, 0.00000e+00, 0.00000e+00, 0.00000e+00,\n",
       "       0.00000e+00, 0.00000e+00, 0.00000e+00, 0.00000e+00, 0.00000e+00,\n",
       "       0.00000e+00, 0.00000e+00, 0.00000e+00, 0.00000e+00, 0.00000e+00,\n",
       "       0.00000e+00, 0.00000e+00, 0.00000e+00, 0.00000e+00, 0.00000e+00,\n",
       "       0.00000e+00, 0.00000e+00, 0.00000e+00, 0.00000e+00, 0.00000e+00,\n",
       "       0.00000e+00, 0.00000e+00, 0.00000e+00, 0.00000e+00, 0.00000e+00,\n",
       "       0.00000e+00, 0.00000e+00, 0.00000e+00, 0.00000e+00, 0.00000e+00,\n",
       "       0.00000e+00, 0.00000e+00, 0.00000e+00, 0.00000e+00, 0.00000e+00,\n",
       "       1.11200e+01, 3.60000e-01, 6.00000e-02, 3.00000e-01, 0.00000e+00,\n",
       "       0.00000e+00, 0.00000e+00])"
      ]
     },
     "execution_count": 130,
     "metadata": {},
     "output_type": "execute_result"
    }
   ],
   "source": [
    "X[0]"
   ]
  }
 ],
 "metadata": {
  "kernelspec": {
   "display_name": "Python 3",
   "language": "python",
   "name": "python3"
  },
  "language_info": {
   "codemirror_mode": {
    "name": "ipython",
    "version": 3
   },
   "file_extension": ".py",
   "mimetype": "text/x-python",
   "name": "python",
   "nbconvert_exporter": "python",
   "pygments_lexer": "ipython3",
   "version": "3.7.3"
  }
 },
 "nbformat": 4,
 "nbformat_minor": 2
}
